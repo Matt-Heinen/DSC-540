{
 "cells": [
  {
   "cell_type": "code",
   "execution_count": 1,
   "id": "d11f05a8-53e0-48f6-8044-b9a7354f8feb",
   "metadata": {},
   "outputs": [],
   "source": [
    "# DSC 540\n",
    "# Week 1 & 2\n",
    "# Summer 2024\n",
    "# Weeks 1 & 2 Excercises\n",
    "# Created By Matthew Heinen\n",
    "# 6/12/24"
   ]
  },
  {
   "cell_type": "markdown",
   "id": "f227e7be-2532-410b-8b27-48cf39a08a94",
   "metadata": {},
   "source": [
    "2) Create a Jupyter notebook where you create a list, iterate over the list and sort your results, generate random numbers, add to the list, and then print your results."
   ]
  },
  {
   "cell_type": "code",
   "execution_count": 5,
   "id": "fde786ea-5f3f-4d6b-8e4b-1bb89c22cbbf",
   "metadata": {},
   "outputs": [],
   "source": [
    "# Create list \n",
    "kelly_list = [8,10,22,29,28,90,89,93,94,62]"
   ]
  },
  {
   "cell_type": "code",
   "execution_count": 7,
   "id": "2f4cfeb5-9658-47aa-a018-e918db60c26f",
   "metadata": {},
   "outputs": [
    {
     "name": "stdout",
     "output_type": "stream",
     "text": [
      "8\n",
      "10\n",
      "22\n",
      "29\n",
      "28\n",
      "90\n",
      "89\n",
      "93\n",
      "94\n",
      "62\n"
     ]
    }
   ],
   "source": [
    "# Iterate over the list and print. \n",
    "for num in kelly_list:\n",
    "    print(num)"
   ]
  },
  {
   "cell_type": "code",
   "execution_count": 11,
   "id": "948fccd3-9593-4cc9-a6ec-74ebe2f99081",
   "metadata": {},
   "outputs": [
    {
     "name": "stdout",
     "output_type": "stream",
     "text": [
      "[8, 10, 22, 28, 29, 62, 89, 90, 93, 94]\n"
     ]
    }
   ],
   "source": [
    "# Sort the list. \n",
    "kelly_list.sort()\n",
    "# print sorted list \n",
    "print(kelly_list)"
   ]
  },
  {
   "cell_type": "code",
   "execution_count": 13,
   "id": "15fede59-25ee-4386-9970-35dcc9d148e7",
   "metadata": {},
   "outputs": [
    {
     "name": "stdout",
     "output_type": "stream",
     "text": [
      "[8, 10, 22, 28, 29, 62, 89, 90, 93, 94, 45, 11, 13, 40, 87, 93, 80, 3, 93, 77, 65, 24, 67, 60, 58]\n"
     ]
    }
   ],
   "source": [
    "# generate random numbers, add to the list\n",
    "# import packages. \n",
    "import random\n",
    "\n",
    "# genarate random numbers and add to list. \n",
    "for n in range(15):\n",
    "    random_number = random.randint (1, 100) \n",
    "    kelly_list.append(random_number)\n",
    "\n",
    "# Print list with added number\n",
    "print(kelly_list)\n",
    "     \n"
   ]
  },
  {
   "cell_type": "code",
   "execution_count": 15,
   "id": "25f8d7dd-1e18-42c5-9e38-ca5875ef791f",
   "metadata": {},
   "outputs": [
    {
     "name": "stdout",
     "output_type": "stream",
     "text": [
      "[3, 8, 10, 11, 13, 22, 24, 28, 29, 40, 45, 58, 60, 62, 65, 67, 77, 80, 87, 89, 90, 93, 93, 93, 94]\n"
     ]
    }
   ],
   "source": [
    "# Sort list again and print results \n",
    "kelly_list.sort()\n",
    "\n",
    "#print\n",
    "print(kelly_list)"
   ]
  },
  {
   "cell_type": "code",
   "execution_count": null,
   "id": "e0248805-1480-41b5-a302-47009a0a6aeb",
   "metadata": {},
   "outputs": [],
   "source": []
  }
 ],
 "metadata": {
  "kernelspec": {
   "display_name": "Python 3 (ipykernel)",
   "language": "python",
   "name": "python3"
  },
  "language_info": {
   "codemirror_mode": {
    "name": "ipython",
    "version": 3
   },
   "file_extension": ".py",
   "mimetype": "text/x-python",
   "name": "python",
   "nbconvert_exporter": "python",
   "pygments_lexer": "ipython3",
   "version": "3.11.7"
  }
 },
 "nbformat": 4,
 "nbformat_minor": 5
}
