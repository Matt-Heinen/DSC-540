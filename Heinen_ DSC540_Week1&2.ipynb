{
 "cells": [
  {
   "cell_type": "code",
   "execution_count": 1,
   "id": "d11f05a8-53e0-48f6-8044-b9a7354f8feb",
   "metadata": {},
   "outputs": [],
   "source": [
    "# DSC 540\n",
    "# Week 1 & 2\n",
    "# Summer 2024\n",
    "# Weeks 1 & 2 Excercises\n",
    "# Created By Matthew Heinen\n",
    "# 6/12/24"
   ]
  },
  {
   "cell_type": "markdown",
   "id": "f227e7be-2532-410b-8b27-48cf39a08a94",
   "metadata": {},
   "source": [
    "# 2) Create a Jupyter notebook where you create a list, iterate over the list and sort your results, generate random numbers, add to the list, and then print your results."
   ]
  },
  {
   "cell_type": "code",
   "execution_count": 5,
   "id": "fde786ea-5f3f-4d6b-8e4b-1bb89c22cbbf",
   "metadata": {},
   "outputs": [],
   "source": [
    "# Create list \n",
    "kelly_list = [8,10,22,29,28,90,89,93,94,62]"
   ]
  },
  {
   "cell_type": "code",
   "execution_count": 7,
   "id": "2f4cfeb5-9658-47aa-a018-e918db60c26f",
   "metadata": {},
   "outputs": [
    {
     "name": "stdout",
     "output_type": "stream",
     "text": [
      "8\n",
      "10\n",
      "22\n",
      "29\n",
      "28\n",
      "90\n",
      "89\n",
      "93\n",
      "94\n",
      "62\n"
     ]
    }
   ],
   "source": [
    "# Iterate over the list and print. \n",
    "for num in kelly_list:\n",
    "    print(num)"
   ]
  },
  {
   "cell_type": "code",
   "execution_count": 11,
   "id": "948fccd3-9593-4cc9-a6ec-74ebe2f99081",
   "metadata": {},
   "outputs": [
    {
     "name": "stdout",
     "output_type": "stream",
     "text": [
      "[8, 10, 22, 28, 29, 62, 89, 90, 93, 94]\n"
     ]
    }
   ],
   "source": [
    "# Sort the list. \n",
    "kelly_list.sort()\n",
    "# print sorted list \n",
    "print(kelly_list)"
   ]
  },
  {
   "cell_type": "code",
   "execution_count": 13,
   "id": "15fede59-25ee-4386-9970-35dcc9d148e7",
   "metadata": {},
   "outputs": [
    {
     "name": "stdout",
     "output_type": "stream",
     "text": [
      "[8, 10, 22, 28, 29, 62, 89, 90, 93, 94, 45, 11, 13, 40, 87, 93, 80, 3, 93, 77, 65, 24, 67, 60, 58]\n"
     ]
    }
   ],
   "source": [
    "# generate random numbers, add to the list\n",
    "# import packages. \n",
    "import random\n",
    "\n",
    "# genarate random numbers and add to list. \n",
    "for n in range(15):\n",
    "    random_number = random.randint (1, 100) \n",
    "    kelly_list.append(random_number)\n",
    "\n",
    "# Print list with added number\n",
    "print(kelly_list)\n",
    "     \n"
   ]
  },
  {
   "cell_type": "code",
   "execution_count": 15,
   "id": "25f8d7dd-1e18-42c5-9e38-ca5875ef791f",
   "metadata": {},
   "outputs": [
    {
     "name": "stdout",
     "output_type": "stream",
     "text": [
      "[3, 8, 10, 11, 13, 22, 24, 28, 29, 40, 45, 58, 60, 62, 65, 67, 77, 80, 87, 89, 90, 93, 93, 93, 94]\n"
     ]
    }
   ],
   "source": [
    "# Sort list again and print results \n",
    "kelly_list.sort()\n",
    "\n",
    "#print\n",
    "print(kelly_list)"
   ]
  },
  {
   "cell_type": "markdown",
   "id": "44177430-2ac3-430f-80af-ee903544cd04",
   "metadata": {},
   "source": [
    "# 3. Create a line chart with Matplotlib and the following data file.\n",
    "\n",
    "        a. Data file: world-population.xlsm\n",
    "\n",
    "        b. (Hint: Python for Data Analysis 2nd Edition: Page 19-50, Python for Data Analysis 3rd Edition: Page 281)"
   ]
  },
  {
   "cell_type": "code",
   "execution_count": 20,
   "id": "80cc7d0e-5110-437d-8ee0-a9a5110146ba",
   "metadata": {},
   "outputs": [],
   "source": [
    "# Import packages\n",
    "import pandas as pd"
   ]
  },
  {
   "cell_type": "code",
   "execution_count": 24,
   "id": "9c74e935-6be9-499a-8164-3b27a72b19dd",
   "metadata": {},
   "outputs": [
    {
     "data": {
      "text/html": [
       "<div>\n",
       "<style scoped>\n",
       "    .dataframe tbody tr th:only-of-type {\n",
       "        vertical-align: middle;\n",
       "    }\n",
       "\n",
       "    .dataframe tbody tr th {\n",
       "        vertical-align: top;\n",
       "    }\n",
       "\n",
       "    .dataframe thead th {\n",
       "        text-align: right;\n",
       "    }\n",
       "</style>\n",
       "<table border=\"1\" class=\"dataframe\">\n",
       "  <thead>\n",
       "    <tr style=\"text-align: right;\">\n",
       "      <th></th>\n",
       "      <th>Year</th>\n",
       "      <th>Population</th>\n",
       "    </tr>\n",
       "  </thead>\n",
       "  <tbody>\n",
       "    <tr>\n",
       "      <th>0</th>\n",
       "      <td>1960</td>\n",
       "      <td>3028654024</td>\n",
       "    </tr>\n",
       "    <tr>\n",
       "      <th>1</th>\n",
       "      <td>1961</td>\n",
       "      <td>3068356747</td>\n",
       "    </tr>\n",
       "    <tr>\n",
       "      <th>2</th>\n",
       "      <td>1962</td>\n",
       "      <td>3121963107</td>\n",
       "    </tr>\n",
       "    <tr>\n",
       "      <th>3</th>\n",
       "      <td>1963</td>\n",
       "      <td>3187471383</td>\n",
       "    </tr>\n",
       "    <tr>\n",
       "      <th>4</th>\n",
       "      <td>1964</td>\n",
       "      <td>3253112403</td>\n",
       "    </tr>\n",
       "    <tr>\n",
       "      <th>5</th>\n",
       "      <td>1965</td>\n",
       "      <td>3320396924</td>\n",
       "    </tr>\n",
       "    <tr>\n",
       "      <th>6</th>\n",
       "      <td>1966</td>\n",
       "      <td>3390712300</td>\n",
       "    </tr>\n",
       "    <tr>\n",
       "      <th>7</th>\n",
       "      <td>1967</td>\n",
       "      <td>3460521851</td>\n",
       "    </tr>\n",
       "    <tr>\n",
       "      <th>8</th>\n",
       "      <td>1968</td>\n",
       "      <td>3531547287</td>\n",
       "    </tr>\n",
       "    <tr>\n",
       "      <th>9</th>\n",
       "      <td>1969</td>\n",
       "      <td>3606994959</td>\n",
       "    </tr>\n",
       "    <tr>\n",
       "      <th>10</th>\n",
       "      <td>1970</td>\n",
       "      <td>3682870688</td>\n",
       "    </tr>\n",
       "    <tr>\n",
       "      <th>11</th>\n",
       "      <td>1971</td>\n",
       "      <td>3761750672</td>\n",
       "    </tr>\n",
       "    <tr>\n",
       "      <th>12</th>\n",
       "      <td>1972</td>\n",
       "      <td>3839147707</td>\n",
       "    </tr>\n",
       "    <tr>\n",
       "      <th>13</th>\n",
       "      <td>1973</td>\n",
       "      <td>3915742695</td>\n",
       "    </tr>\n",
       "    <tr>\n",
       "      <th>14</th>\n",
       "      <td>1974</td>\n",
       "      <td>3992806090</td>\n",
       "    </tr>\n",
       "    <tr>\n",
       "      <th>15</th>\n",
       "      <td>1975</td>\n",
       "      <td>4068032705</td>\n",
       "    </tr>\n",
       "    <tr>\n",
       "      <th>16</th>\n",
       "      <td>1976</td>\n",
       "      <td>4141383058</td>\n",
       "    </tr>\n",
       "    <tr>\n",
       "      <th>17</th>\n",
       "      <td>1977</td>\n",
       "      <td>4214499013</td>\n",
       "    </tr>\n",
       "    <tr>\n",
       "      <th>18</th>\n",
       "      <td>1978</td>\n",
       "      <td>4288485981</td>\n",
       "    </tr>\n",
       "    <tr>\n",
       "      <th>19</th>\n",
       "      <td>1979</td>\n",
       "      <td>4363754326</td>\n",
       "    </tr>\n",
       "    <tr>\n",
       "      <th>20</th>\n",
       "      <td>1980</td>\n",
       "      <td>4439638086</td>\n",
       "    </tr>\n",
       "    <tr>\n",
       "      <th>21</th>\n",
       "      <td>1981</td>\n",
       "      <td>4516734312</td>\n",
       "    </tr>\n",
       "    <tr>\n",
       "      <th>22</th>\n",
       "      <td>1982</td>\n",
       "      <td>4595890494</td>\n",
       "    </tr>\n",
       "    <tr>\n",
       "      <th>23</th>\n",
       "      <td>1983</td>\n",
       "      <td>4675178812</td>\n",
       "    </tr>\n",
       "    <tr>\n",
       "      <th>24</th>\n",
       "      <td>1984</td>\n",
       "      <td>4753877875</td>\n",
       "    </tr>\n",
       "    <tr>\n",
       "      <th>25</th>\n",
       "      <td>1985</td>\n",
       "      <td>4834206631</td>\n",
       "    </tr>\n",
       "    <tr>\n",
       "      <th>26</th>\n",
       "      <td>1986</td>\n",
       "      <td>4918126890</td>\n",
       "    </tr>\n",
       "    <tr>\n",
       "      <th>27</th>\n",
       "      <td>1987</td>\n",
       "      <td>5004006066</td>\n",
       "    </tr>\n",
       "    <tr>\n",
       "      <th>28</th>\n",
       "      <td>1988</td>\n",
       "      <td>5090899475</td>\n",
       "    </tr>\n",
       "    <tr>\n",
       "      <th>29</th>\n",
       "      <td>1989</td>\n",
       "      <td>5178059174</td>\n",
       "    </tr>\n",
       "    <tr>\n",
       "      <th>30</th>\n",
       "      <td>1990</td>\n",
       "      <td>5266783430</td>\n",
       "    </tr>\n",
       "    <tr>\n",
       "      <th>31</th>\n",
       "      <td>1991</td>\n",
       "      <td>5351836347</td>\n",
       "    </tr>\n",
       "    <tr>\n",
       "      <th>32</th>\n",
       "      <td>1992</td>\n",
       "      <td>5433823608</td>\n",
       "    </tr>\n",
       "    <tr>\n",
       "      <th>33</th>\n",
       "      <td>1993</td>\n",
       "      <td>5516863641</td>\n",
       "    </tr>\n",
       "    <tr>\n",
       "      <th>34</th>\n",
       "      <td>1994</td>\n",
       "      <td>5598658151</td>\n",
       "    </tr>\n",
       "    <tr>\n",
       "      <th>35</th>\n",
       "      <td>1995</td>\n",
       "      <td>5681689325</td>\n",
       "    </tr>\n",
       "    <tr>\n",
       "      <th>36</th>\n",
       "      <td>1996</td>\n",
       "      <td>5762235749</td>\n",
       "    </tr>\n",
       "    <tr>\n",
       "      <th>37</th>\n",
       "      <td>1997</td>\n",
       "      <td>5842585301</td>\n",
       "    </tr>\n",
       "    <tr>\n",
       "      <th>38</th>\n",
       "      <td>1998</td>\n",
       "      <td>5921799957</td>\n",
       "    </tr>\n",
       "    <tr>\n",
       "      <th>39</th>\n",
       "      <td>1999</td>\n",
       "      <td>6001269553</td>\n",
       "    </tr>\n",
       "    <tr>\n",
       "      <th>40</th>\n",
       "      <td>2000</td>\n",
       "      <td>6078274622</td>\n",
       "    </tr>\n",
       "    <tr>\n",
       "      <th>41</th>\n",
       "      <td>2001</td>\n",
       "      <td>6155652495</td>\n",
       "    </tr>\n",
       "    <tr>\n",
       "      <th>42</th>\n",
       "      <td>2002</td>\n",
       "      <td>6232413711</td>\n",
       "    </tr>\n",
       "    <tr>\n",
       "      <th>43</th>\n",
       "      <td>2003</td>\n",
       "      <td>6309266583</td>\n",
       "    </tr>\n",
       "    <tr>\n",
       "      <th>44</th>\n",
       "      <td>2004</td>\n",
       "      <td>6385778679</td>\n",
       "    </tr>\n",
       "    <tr>\n",
       "      <th>45</th>\n",
       "      <td>2005</td>\n",
       "      <td>6462054420</td>\n",
       "    </tr>\n",
       "    <tr>\n",
       "      <th>46</th>\n",
       "      <td>2006</td>\n",
       "      <td>6538196688</td>\n",
       "    </tr>\n",
       "    <tr>\n",
       "      <th>47</th>\n",
       "      <td>2007</td>\n",
       "      <td>6614396907</td>\n",
       "    </tr>\n",
       "    <tr>\n",
       "      <th>48</th>\n",
       "      <td>2008</td>\n",
       "      <td>6692030277</td>\n",
       "    </tr>\n",
       "    <tr>\n",
       "      <th>49</th>\n",
       "      <td>2009</td>\n",
       "      <td>6775235741</td>\n",
       "    </tr>\n",
       "  </tbody>\n",
       "</table>\n",
       "</div>"
      ],
      "text/plain": [
       "    Year  Population\n",
       "0   1960  3028654024\n",
       "1   1961  3068356747\n",
       "2   1962  3121963107\n",
       "3   1963  3187471383\n",
       "4   1964  3253112403\n",
       "5   1965  3320396924\n",
       "6   1966  3390712300\n",
       "7   1967  3460521851\n",
       "8   1968  3531547287\n",
       "9   1969  3606994959\n",
       "10  1970  3682870688\n",
       "11  1971  3761750672\n",
       "12  1972  3839147707\n",
       "13  1973  3915742695\n",
       "14  1974  3992806090\n",
       "15  1975  4068032705\n",
       "16  1976  4141383058\n",
       "17  1977  4214499013\n",
       "18  1978  4288485981\n",
       "19  1979  4363754326\n",
       "20  1980  4439638086\n",
       "21  1981  4516734312\n",
       "22  1982  4595890494\n",
       "23  1983  4675178812\n",
       "24  1984  4753877875\n",
       "25  1985  4834206631\n",
       "26  1986  4918126890\n",
       "27  1987  5004006066\n",
       "28  1988  5090899475\n",
       "29  1989  5178059174\n",
       "30  1990  5266783430\n",
       "31  1991  5351836347\n",
       "32  1992  5433823608\n",
       "33  1993  5516863641\n",
       "34  1994  5598658151\n",
       "35  1995  5681689325\n",
       "36  1996  5762235749\n",
       "37  1997  5842585301\n",
       "38  1998  5921799957\n",
       "39  1999  6001269553\n",
       "40  2000  6078274622\n",
       "41  2001  6155652495\n",
       "42  2002  6232413711\n",
       "43  2003  6309266583\n",
       "44  2004  6385778679\n",
       "45  2005  6462054420\n",
       "46  2006  6538196688\n",
       "47  2007  6614396907\n",
       "48  2008  6692030277\n",
       "49  2009  6775235741"
      ]
     },
     "execution_count": 24,
     "metadata": {},
     "output_type": "execute_result"
    }
   ],
   "source": [
    "# Create file path \n",
    "file_path = 'http://content.bellevue.edu/cst/dsc/540/id/data-files/12-week/weeks-1-&-2/world-population.xlsm'\n",
    "\n",
    "# read into df \n",
    "world_pop = pd.read_excel(file_path)\n",
    "\n",
    "# display df\n",
    "world_pop\n"
   ]
  },
  {
   "cell_type": "code",
   "execution_count": 26,
   "id": "30ed1aed-cd82-4903-ad43-897e5c179f91",
   "metadata": {},
   "outputs": [],
   "source": [
    "# import matplotlib \n",
    "\n",
    "import matplotlib.pyplot as plt"
   ]
  },
  {
   "cell_type": "code",
   "execution_count": 34,
   "id": "43a062ff-ae60-4e89-badd-964da597c801",
   "metadata": {},
   "outputs": [
    {
     "data": {
      "image/png": "[encoded data removed]",
      "text/plain": [
       "<Figure size 640x480 with 1 Axes>"
      ]
     },
     "metadata": {},
     "output_type": "display_data"
    }
   ],
   "source": [
    "# plot world popukation over time \n",
    "plt.plot(world_pop.Year, world_pop.Population)\n",
    "\n",
    "# Add titles and labels \n",
    "plt.title('World Population Over Time')\n",
    "plt.xlabel('Year')\n",
    "plt.ylabel('Population (Billions)')\n",
    "\n",
    "# show chart. \n",
    "plt.show()\n"
   ]
  },
  {
   "cell_type": "markdown",
   "id": "d0db2d05-6dc6-41e4-a490-10080fe93ac6",
   "metadata": {},
   "source": [
    "# a. The Data Wrangling Workshop: Activity 1.01 page 23\n"
   ]
  },
  {
   "cell_type": "markdown",
   "id": "cc554266-ff09-4918-9d1d-46c9cb165b66",
   "metadata": {},
   "source": [
    "## 1) Create a list of 100 random numbers."
   ]
  },
  {
   "cell_type": "code",
   "execution_count": 41,
   "id": "0b51dc16-bdd6-4393-b933-a3459f768e70",
   "metadata": {},
   "outputs": [
    {
     "data": {
      "text/plain": [
       "[62,\n",
       " 79,\n",
       " 57,\n",
       " 96,\n",
       " 11,\n",
       " 84,\n",
       " 67,\n",
       " 98,\n",
       " 79,\n",
       " 87,\n",
       " 34,\n",
       " 61,\n",
       " 41,\n",
       " 69,\n",
       " 26,\n",
       " 48,\n",
       " 42,\n",
       " 80,\n",
       " 51,\n",
       " 43,\n",
       " 39,\n",
       " 29,\n",
       " 86,\n",
       " 44,\n",
       " 5,\n",
       " 89,\n",
       " 12,\n",
       " 70,\n",
       " 20,\n",
       " 18,\n",
       " 52,\n",
       " 99,\n",
       " 8,\n",
       " 87,\n",
       " 17,\n",
       " 51,\n",
       " 77,\n",
       " 13,\n",
       " 55,\n",
       " 88,\n",
       " 0,\n",
       " 65,\n",
       " 55,\n",
       " 4,\n",
       " 99,\n",
       " 38,\n",
       " 48,\n",
       " 54,\n",
       " 29,\n",
       " 42,\n",
       " 59,\n",
       " 27,\n",
       " 29,\n",
       " 56,\n",
       " 58,\n",
       " 38,\n",
       " 60,\n",
       " 22,\n",
       " 93,\n",
       " 100,\n",
       " 41,\n",
       " 8,\n",
       " 20,\n",
       " 86,\n",
       " 32,\n",
       " 25,\n",
       " 36,\n",
       " 89,\n",
       " 43,\n",
       " 71,\n",
       " 77,\n",
       " 50,\n",
       " 10,\n",
       " 81,\n",
       " 63,\n",
       " 69,\n",
       " 23,\n",
       " 32,\n",
       " 99,\n",
       " 77,\n",
       " 35,\n",
       " 91,\n",
       " 71,\n",
       " 37,\n",
       " 52,\n",
       " 16,\n",
       " 74,\n",
       " 79,\n",
       " 82,\n",
       " 94,\n",
       " 73,\n",
       " 91,\n",
       " 22,\n",
       " 11,\n",
       " 94,\n",
       " 88,\n",
       " 47,\n",
       " 12,\n",
       " 3,\n",
       " 46]"
      ]
     },
     "execution_count": 41,
     "metadata": {},
     "output_type": "execute_result"
    }
   ],
   "source": [
    "# Create random numbers list, use the dandom integer function to generate random numbers.\n",
    "# itterate 100 times. \n",
    "rand_num_list = [random.randint(0, 100) for x in range(0, 100)]\n",
    "\n",
    "# Display the list \n",
    "rand_num_list"
   ]
  },
  {
   "cell_type": "markdown",
   "id": "5afb05a1-0d6b-4a4d-8e2e-f5b4df1230b3",
   "metadata": {},
   "source": [
    "## 2) Create a new list from the random list, with numbers that are divisable by 3. "
   ]
  },
  {
   "cell_type": "code",
   "execution_count": 48,
   "id": "382b0cd7-2e89-4fac-9c6f-1fd6c5998c8d",
   "metadata": {},
   "outputs": [
    {
     "data": {
      "text/plain": [
       "[57,\n",
       " 96,\n",
       " 84,\n",
       " 87,\n",
       " 69,\n",
       " 48,\n",
       " 42,\n",
       " 51,\n",
       " 39,\n",
       " 12,\n",
       " 18,\n",
       " 99,\n",
       " 87,\n",
       " 51,\n",
       " 0,\n",
       " 99,\n",
       " 48,\n",
       " 54,\n",
       " 42,\n",
       " 27,\n",
       " 60,\n",
       " 93,\n",
       " 36,\n",
       " 81,\n",
       " 63,\n",
       " 69,\n",
       " 99,\n",
       " 12,\n",
       " 3]"
      ]
     },
     "execution_count": 48,
     "metadata": {},
     "output_type": "execute_result"
    }
   ],
   "source": [
    "# Itterate over every number and check the remainder. \n",
    "# if the remainder is 0 add it to the list. \n",
    "# note: % is the modulo opperator that returns the remainder of division. \n",
    "list_div_3 = [a for a in rand_num_list if a % 3 == 0]\n",
    "\n",
    "# display list\n",
    "list_div_3"
   ]
  },
  {
   "cell_type": "markdown",
   "id": "df05c002-d196-4458-a757-8233917d04e2",
   "metadata": {},
   "source": [
    "## 3) Calculate the length of each list and store difference in a new variable. \n"
   ]
  },
  {
   "cell_type": "code",
   "execution_count": 56,
   "id": "1dae5283-2361-48cf-af46-bdf375a52d66",
   "metadata": {},
   "outputs": [
    {
     "data": {
      "text/plain": [
       "71"
      ]
     },
     "execution_count": 56,
     "metadata": {},
     "output_type": "execute_result"
    }
   ],
   "source": [
    "# Calc rand_num_list length use length finction. \n",
    "len_rand_num_list = len(rand_num_list)\n",
    "\n",
    "# Use len function calculate div 3 list length. \n",
    "len_list_div_3 = len(list_div_3)\n",
    "\n",
    "# Calc difference. \n",
    "dif_num = len_rand_num_list - len_list_div_3\n",
    "\n",
    "#display\n",
    "dif_num\n"
   ]
  },
  {
   "cell_type": "markdown",
   "id": "bd769809-5489-4f75-979c-9170af8c086a",
   "metadata": {},
   "source": [
    " ## 4) Using a loop, perform steps 1, 2, and 3 and find the difference variable 10 times. "
   ]
  },
  {
   "cell_type": "code",
   "execution_count": 71,
   "id": "0cbbd4b2-46f5-4a28-b2a7-bcd108304646",
   "metadata": {},
   "outputs": [
    {
     "data": {
      "text/plain": [
       "[66, 69, 65, 62, 69, 66, 67, 65, 65, 67]"
      ]
     },
     "execution_count": 71,
     "metadata": {},
     "output_type": "execute_result"
    }
   ],
   "source": [
    "# Define number of itterations\n",
    "num_of_itters = 10\n",
    "\n",
    "# innitialise difference list\n",
    "dif_list = []\n",
    "\n",
    "# Loop through the process num_of_itters times\n",
    "for i in range(0, num_of_itters):\n",
    "    # Create random numbers list, use the dandom integer function to generate random numbers.\n",
    "    # itterate 100 times. \n",
    "    rand_num_list = [random.randint(0, 100) for x in range(0, 100)]\n",
    "    \n",
    "    # Itterate over every number and check the remainder. \n",
    "    # if the remainder is 0 add it to the list. \n",
    "    # note: % is the modulo opperator that returns the remainder of division. \n",
    "    list_div_3 = [a for a in rand_num_list if a % 3 == 0]\n",
    "    \n",
    "    # Calc rand_num_list length use length finction. \n",
    "    len_rand_num_list = len(rand_num_list)\n",
    "\n",
    "    # Use len function calculate div 3 list length. \n",
    "    len_list_div_3 = len(list_div_3)\n",
    "\n",
    "    # Calc difference. \n",
    "    dif_num = len_rand_num_list - len_list_div_3\n",
    "\n",
    "    # add calculated difference number to the difference list \n",
    "    dif_list.append(dif_num)\n",
    "\n",
    "# Display dif_list\n",
    "dif_list\n",
    "    "
   ]
  },
  {
   "cell_type": "markdown",
   "id": "245d7753-4f3e-4fd4-8bd0-47653a54470c",
   "metadata": {},
   "source": [
    "## 5) Find the arithmatic mean of the 10 difference values. \n"
   ]
  },
  {
   "cell_type": "code",
   "execution_count": 74,
   "id": "fe4f2c57-887d-4080-85d0-e225a2512d3a",
   "metadata": {},
   "outputs": [
    {
     "name": "stdout",
     "output_type": "stream",
     "text": [
      "The Average of the difference list is:  66.1\n"
     ]
    }
   ],
   "source": [
    "# Import packages. \n",
    "import statistics\n",
    "\n",
    "# Calculate average \n",
    "list_avg = statistics.mean(dif_list)\n",
    "\n",
    "# Print result. \n",
    "print('The Average of the difference list is: ', list_avg)"
   ]
  },
  {
   "cell_type": "markdown",
   "id": "6a5326f1-cdf0-4ec5-bef2-aa2533e35028",
   "metadata": {},
   "source": [
    "\n",
    "# b. The Data Wrangling Workshop: Activity 1.02 page 43"
   ]
  },
  {
   "cell_type": "markdown",
   "id": "3ab836dc-7a5d-4505-85d6-2c81c8769834",
   "metadata": {},
   "source": [
    "Open a new Jupyter Notebook and create a string called multiline_text and copy the text present in the first chapter of Pride and Prejudice. Use Ctrl + A to select the entire text and then Ctrl + C to copy it and paste the text you just copied into it:"
   ]
  },
  {
   "cell_type": "code",
   "execution_count": 86,
   "id": "bbe4bd97-bb03-4121-821f-d839bd143506",
   "metadata": {},
   "outputs": [
    {
     "data": {
      "text/plain": [
       "str"
      ]
     },
     "execution_count": 86,
     "metadata": {},
     "output_type": "execute_result"
    }
   ],
   "source": [
    "# Create variable to hold pride and prejduce text. \n",
    "\n",
    "multiline_text= \"\"\"It is a truth universally acknowledged, that a single man in possession of a good fortune, must be in want of a wife.\n",
    "\n",
    "However little known the feelings or views of such a man may be on his first entering a neighbourhood, this truth is so well fixed in the minds of the surrounding families, that he is considered the rightful property of some one or other of their daughters.\n",
    "\n",
    "\"My dear Mr. Bennet,\" said his lady to him one day, \"have you heard that Netherfield Park is let at last?\"\n",
    "\n",
    "Mr. Bennet replied that he had not.\n",
    "\n",
    "\"But it is,\" returned she; \"for Mrs. Long has just been here, and she told me all about it.\"\n",
    "\n",
    "Mr. Bennet made no answer.\n",
    "\n",
    "\"Do you not want to know who has taken it?\" cried his wife impatiently.\n",
    "\n",
    "\"You want to tell me, and I have no objection to hearing it.\"\n",
    "\n",
    "This was invitation enough.\n",
    "\n",
    "\"Why, my dear, you must know, Mrs. Long says that Netherfield is taken by a young man of large fortune from the north of England; that he came down on Monday in a chaise and four to see the place, and was so much delighted with it, that he agreed with Mr. Morris immediately; that he is to take possession before Michaelmas, and some of his servants are to be in the house by the end of next week.\"\n",
    "\n",
    "\"What is his name?\"\"\"\n",
    "\n",
    "# validate variable type\n",
    "type(multiline_text)\n"
   ]
  },
  {
   "cell_type": "markdown",
   "id": "066bd69d-0498-4728-8352-a8f26cf4378d",
   "metadata": {},
   "source": [
    "## Remove new lines using string methods."
   ]
  },
  {
   "cell_type": "code",
   "execution_count": 88,
   "id": "69c72861-c26e-4232-b789-e2c151db7387",
   "metadata": {},
   "outputs": [
    {
     "data": {
      "text/plain": [
       "'It is a truth universally acknowledged, that a single man in possession of a good fortune, must be in want of a wife.However little known the feelings or views of such a man may be on his first entering a neighbourhood, this truth is so well fixed in the minds of the surrounding families, that he is considered the rightful property of some one or other of their daughters.\"My dear Mr. Bennet,\" said his lady to him one day, \"have you heard that Netherfield Park is let at last?\"Mr. Bennet replied that he had not.\"But it is,\" returned she; \"for Mrs. Long has just been here, and she told me all about it.\"Mr. Bennet made no answer.\"Do you not want to know who has taken it?\" cried his wife impatiently.\"You want to tell me, and I have no objection to hearing it.\"This was invitation enough.\"Why, my dear, you must know, Mrs. Long says that Netherfield is taken by a young man of large fortune from the north of England; that he came down on Monday in a chaise and four to see the place, and was so much delighted with it, that he agreed with Mr. Morris immediately; that he is to take possession before Michaelmas, and some of his servants are to be in the house by the end of next week.\"\"What is his name?'"
      ]
     },
     "execution_count": 88,
     "metadata": {},
     "output_type": "execute_result"
    }
   ],
   "source": [
    "# Use string methods to remove all the new lines in the text variable. \n",
    "\n",
    "# Use the replace method to remove all new line \\n, replace with nothing charachter\n",
    "multiline_text = multiline_text.replace('\\n', \"\")\n",
    "\n",
    "#validate results\n",
    "multiline_text"
   ]
  },
  {
   "cell_type": "markdown",
   "id": "68f4e9c1-057c-409b-a114-2c97f857dd8e",
   "metadata": {},
   "source": [
    "## Get all of the unique words and their occurances from the string"
   ]
  },
  {
   "cell_type": "code",
   "execution_count": 93,
   "id": "9351a44e-cc69-4f45-9b32-379f5c7cfb6a",
   "metadata": {},
   "outputs": [
    {
     "data": {
      "text/plain": [
       "'It is a truth universally acknowledged  that a single man in possession of a good fortune  must be in want of a wife However little known the feelings or views of such a man may be on his first entering a neighbourhood  this truth is so well fixed in the minds of the surrounding families  that he is considered the rightful property of some one or other of their daughters  My dear Mr  Bennet   said his lady to him one day   have you heard that Netherfield Park is let at last  Mr  Bennet replied that he had not  But it is   returned she   for Mrs  Long has just been here  and she told me all about it  Mr  Bennet made no answer  Do you not want to know who has taken it   cried his wife impatiently  You want to tell me  and I have no objection to hearing it  This was invitation enough  Why  my dear  you must know  Mrs  Long says that Netherfield is taken by a young man of large fortune from the north of England  that he came down on Monday in a chaise and four to see the place  and was so much delighted with it  that he agreed with Mr  Morris immediately  that he is to take possession before Michaelmas  and some of his servants are to be in the house by the end of next week   What is his name '"
      ]
     },
     "execution_count": 93,
     "metadata": {},
     "output_type": "execute_result"
    }
   ],
   "source": [
    "# loop through the text and remove all punctuation , special charachters etc. \n",
    "\n",
    "#Initialise new variable to store in \n",
    "cleaned_multiline_text = \"\"\n",
    "\n",
    "# Loop through every charachter \n",
    "for char in multiline_text:\n",
    "    # Check to see id the charachter is a space \n",
    "    if char == \" \":\n",
    "        #Add the charachter to the cleaned variable using in-place addition\n",
    "        #(this is an aceptable charachter.)\n",
    "        cleaned_multiline_text += char\n",
    "\n",
    "    # Check to see if the charachter is alpha nemeric (letter or number). \n",
    "    elif char.isalnum():  # using the isalnum() method of strings.\n",
    "        # add alpha numeric charachters  using in-place addition\n",
    "        #(this is an acceptable charachter)\n",
    "        cleaned_multiline_text += char\n",
    "   \n",
    "    # if the charachter is neither a space or alpha numeric replace it with a space. \n",
    "    else:\n",
    "        cleaned_multiline_text += \" \"\n",
    "\n",
    "# display results. \n",
    "cleaned_multiline_text"
   ]
  },
  {
   "cell_type": "code",
   "execution_count": 101,
   "id": "c1e1f909-39d0-4854-8f2a-3259d7e35e6c",
   "metadata": {},
   "outputs": [
    {
     "name": "stdout",
     "output_type": "stream",
     "text": [
      "['It', 'is', 'a', 'truth', 'universally', 'acknowledged', 'that', 'a', 'single', 'man', 'in', 'possession', 'of', 'a', 'good', 'fortune', 'must', 'be', 'in', 'want', 'of', 'a', 'wife', 'However', 'little', 'known', 'the', 'feelings', 'or', 'views', 'of', 'such', 'a', 'man', 'may', 'be', 'on', 'his', 'first', 'entering', 'a', 'neighbourhood', 'this', 'truth', 'is', 'so', 'well', 'fixed', 'in', 'the', 'minds', 'of', 'the', 'surrounding', 'families', 'that', 'he', 'is', 'considered', 'the', 'rightful', 'property', 'of', 'some', 'one', 'or', 'other', 'of', 'their', 'daughters', 'My', 'dear', 'Mr', 'Bennet', 'said', 'his', 'lady', 'to', 'him', 'one', 'day', 'have', 'you', 'heard', 'that', 'Netherfield', 'Park', 'is', 'let', 'at', 'last', 'Mr', 'Bennet', 'replied', 'that', 'he', 'had', 'not', 'But', 'it', 'is', 'returned', 'she', 'for', 'Mrs', 'Long', 'has', 'just', 'been', 'here', 'and', 'she', 'told', 'me', 'all', 'about', 'it', 'Mr', 'Bennet', 'made', 'no', 'answer', 'Do', 'you', 'not', 'want', 'to', 'know', 'who', 'has', 'taken', 'it', 'cried', 'his', 'wife', 'impatiently', 'You', 'want', 'to', 'tell', 'me', 'and', 'I', 'have', 'no', 'objection', 'to', 'hearing', 'it', 'This', 'was', 'invitation', 'enough', 'Why', 'my', 'dear', 'you', 'must', 'know', 'Mrs', 'Long', 'says', 'that', 'Netherfield', 'is', 'taken', 'by', 'a', 'young', 'man', 'of', 'large', 'fortune', 'from', 'the', 'north', 'of', 'England', 'that', 'he', 'came', 'down', 'on', 'Monday', 'in', 'a', 'chaise', 'and', 'four', 'to', 'see', 'the', 'place', 'and', 'was', 'so', 'much', 'delighted', 'with', 'it', 'that', 'he', 'agreed', 'with', 'Mr', 'Morris', 'immediately', 'that', 'he', 'is', 'to', 'take', 'possession', 'before', 'Michaelmas', 'and', 'some', 'of', 'his', 'servants', 'are', 'to', 'be', 'in', 'the', 'house', 'by', 'the', 'end', 'of', 'next', 'week', 'What', 'is', 'his', 'name']\n",
      "The Length of the list is:  236\n"
     ]
    }
   ],
   "source": [
    "# Create a list of each individual word using the split function. \n",
    "list_of_words = cleaned_multiline_text.split()\n",
    "\n",
    "# Display. \n",
    "print(list_of_words)\n",
    "\n",
    "# Print lenght:\n",
    "print('The Length of the list is: ', len(list_of_words))"
   ]
  },
  {
   "cell_type": "code",
   "execution_count": 105,
   "id": "c455b3e2-4c98-4f25-a6c0-df4ddbd5f229",
   "metadata": {},
   "outputs": [
    {
     "name": "stdout",
     "output_type": "stream",
     "text": [
      "Number of Unique Words:  135\n"
     ]
    }
   ],
   "source": [
    "# find the number of unique words using a dictionary. \n",
    "# create dictionary from list_of_words using dict.from keys method to find unique words.\n",
    "unique_words_as_dict = dict.fromkeys(list_of_words)\n",
    "\n",
    "# display the number of uniquer words. \n",
    "# use length and list method to count the number of keys in the dictionary. \n",
    "print('Number of Unique Words: ',len(list(unique_words_as_dict.keys())))"
   ]
  },
  {
   "cell_type": "code",
   "execution_count": 109,
   "id": "5f1e3101-1d1d-4fad-9c78-070e51f39b6d",
   "metadata": {},
   "outputs": [
    {
     "data": {
      "text/plain": [
       "{'It': 1,\n",
       " 'is': 8,\n",
       " 'a': 8,\n",
       " 'truth': 2,\n",
       " 'universally': 1,\n",
       " 'acknowledged': 1,\n",
       " 'that': 8,\n",
       " 'single': 1,\n",
       " 'man': 3,\n",
       " 'in': 5,\n",
       " 'possession': 2,\n",
       " 'of': 10,\n",
       " 'good': 1,\n",
       " 'fortune': 2,\n",
       " 'must': 2,\n",
       " 'be': 3,\n",
       " 'want': 3,\n",
       " 'wife': 2,\n",
       " 'However': 1,\n",
       " 'little': 1,\n",
       " 'known': 1,\n",
       " 'the': 8,\n",
       " 'feelings': 1,\n",
       " 'or': 2,\n",
       " 'views': 1,\n",
       " 'such': 1,\n",
       " 'may': 1,\n",
       " 'on': 2,\n",
       " 'his': 5,\n",
       " 'first': 1,\n",
       " 'entering': 1,\n",
       " 'neighbourhood': 1,\n",
       " 'this': 1,\n",
       " 'so': 2,\n",
       " 'well': 1,\n",
       " 'fixed': 1,\n",
       " 'minds': 1,\n",
       " 'surrounding': 1,\n",
       " 'families': 1,\n",
       " 'he': 5,\n",
       " 'considered': 1,\n",
       " 'rightful': 1,\n",
       " 'property': 1,\n",
       " 'some': 2,\n",
       " 'one': 2,\n",
       " 'other': 1,\n",
       " 'their': 1,\n",
       " 'daughters': 1,\n",
       " 'My': 1,\n",
       " 'dear': 2,\n",
       " 'Mr': 4,\n",
       " 'Bennet': 3,\n",
       " 'said': 1,\n",
       " 'lady': 1,\n",
       " 'to': 7,\n",
       " 'him': 1,\n",
       " 'day': 1,\n",
       " 'have': 2,\n",
       " 'you': 3,\n",
       " 'heard': 1,\n",
       " 'Netherfield': 2,\n",
       " 'Park': 1,\n",
       " 'let': 1,\n",
       " 'at': 1,\n",
       " 'last': 1,\n",
       " 'replied': 1,\n",
       " 'had': 1,\n",
       " 'not': 2,\n",
       " 'But': 1,\n",
       " 'it': 5,\n",
       " 'returned': 1,\n",
       " 'she': 2,\n",
       " 'for': 1,\n",
       " 'Mrs': 2,\n",
       " 'Long': 2,\n",
       " 'has': 2,\n",
       " 'just': 1,\n",
       " 'been': 1,\n",
       " 'here': 1,\n",
       " 'and': 5,\n",
       " 'told': 1,\n",
       " 'me': 2,\n",
       " 'all': 1,\n",
       " 'about': 1,\n",
       " 'made': 1,\n",
       " 'no': 2,\n",
       " 'answer': 1,\n",
       " 'Do': 1,\n",
       " 'know': 2,\n",
       " 'who': 1,\n",
       " 'taken': 2,\n",
       " 'cried': 1,\n",
       " 'impatiently': 1,\n",
       " 'You': 1,\n",
       " 'tell': 1,\n",
       " 'I': 1,\n",
       " 'objection': 1,\n",
       " 'hearing': 1,\n",
       " 'This': 1,\n",
       " 'was': 2,\n",
       " 'invitation': 1,\n",
       " 'enough': 1,\n",
       " 'Why': 1,\n",
       " 'my': 1,\n",
       " 'says': 1,\n",
       " 'by': 2,\n",
       " 'young': 1,\n",
       " 'large': 1,\n",
       " 'from': 1,\n",
       " 'north': 1,\n",
       " 'England': 1,\n",
       " 'came': 1,\n",
       " 'down': 1,\n",
       " 'Monday': 1,\n",
       " 'chaise': 1,\n",
       " 'four': 1,\n",
       " 'see': 1,\n",
       " 'place': 1,\n",
       " 'much': 1,\n",
       " 'delighted': 1,\n",
       " 'with': 2,\n",
       " 'agreed': 1,\n",
       " 'Morris': 1,\n",
       " 'immediately': 1,\n",
       " 'take': 1,\n",
       " 'before': 1,\n",
       " 'Michaelmas': 1,\n",
       " 'servants': 1,\n",
       " 'are': 1,\n",
       " 'house': 1,\n",
       " 'end': 1,\n",
       " 'next': 1,\n",
       " 'week': 1,\n",
       " 'What': 1,\n",
       " 'name': 1}"
      ]
     },
     "execution_count": 109,
     "metadata": {},
     "output_type": "execute_result"
    }
   ],
   "source": [
    "# Assign a value to each key in the dictionary. \n",
    "# loop through the list of words and assign a count to each key. \n",
    "for word in list_of_words:\n",
    "    # If the value stored in the dictionary is 'none' \n",
    "    if unique_words_as_dict[word] is None:\n",
    "        # Assign the value of one. \n",
    "        unique_words_as_dict[word] = 1\n",
    "    # Otherwise add 1 to the count from dictionary key. \n",
    "    else:\n",
    "        unique_words_as_dict[word] += 1\n",
    "# display \n",
    "unique_words_as_dict\n"
   ]
  },
  {
   "cell_type": "markdown",
   "id": "f76bcc2b-abfa-445a-8810-b8907f0ad30f",
   "metadata": {},
   "source": [
    "## repeat the steps to find all unique words and occurance without considering case sensitivity. "
   ]
  },
  {
   "cell_type": "code",
   "execution_count": 114,
   "id": "b8ee8ae7-8a91-46d9-a9f0-448ed8c15a6a",
   "metadata": {},
   "outputs": [
    {
     "name": "stdout",
     "output_type": "stream",
     "text": [
      "it is a truth universally acknowledged  that a single man in possession of a good fortune  must be in want of a wife however little known the feelings or views of such a man may be on his first entering a neighbourhood  this truth is so well fixed in the minds of the surrounding families  that he is considered the rightful property of some one or other of their daughters  my dear mr  bennet   said his lady to him one day   have you heard that netherfield park is let at last  mr  bennet replied that he had not  but it is   returned she   for mrs  long has just been here  and she told me all about it  mr  bennet made no answer  do you not want to know who has taken it   cried his wife impatiently  you want to tell me  and i have no objection to hearing it  this was invitation enough  why  my dear  you must know  mrs  long says that netherfield is taken by a young man of large fortune from the north of england  that he came down on monday in a chaise and four to see the place  and was so much delighted with it  that he agreed with mr  morris immediately  that he is to take possession before michaelmas  and some of his servants are to be in the house by the end of next week   what is his name \n"
     ]
    }
   ],
   "source": [
    "# loop through every charachter in cleaned_multiline_text. \n",
    "\n",
    "#initialise lowercase string to store result. \n",
    "lower_clean_multiline_text = \"\"\n",
    "\n",
    "# Loop through the cleaned_multiline_text string and make every character lowercase\n",
    "for char in cleaned_multiline_text:\n",
    "    lower_clean_multiline_text += char.lower()\n",
    "\n",
    "# Print new string. \n",
    "print(lower_clean_multiline_text)"
   ]
  },
  {
   "cell_type": "code",
   "execution_count": 116,
   "id": "069d53d4-f827-4e0f-95c3-65a952c6bb07",
   "metadata": {},
   "outputs": [
    {
     "name": "stdout",
     "output_type": "stream",
     "text": [
      "['it', 'is', 'a', 'truth', 'universally', 'acknowledged', 'that', 'a', 'single', 'man', 'in', 'possession', 'of', 'a', 'good', 'fortune', 'must', 'be', 'in', 'want', 'of', 'a', 'wife', 'however', 'little', 'known', 'the', 'feelings', 'or', 'views', 'of', 'such', 'a', 'man', 'may', 'be', 'on', 'his', 'first', 'entering', 'a', 'neighbourhood', 'this', 'truth', 'is', 'so', 'well', 'fixed', 'in', 'the', 'minds', 'of', 'the', 'surrounding', 'families', 'that', 'he', 'is', 'considered', 'the', 'rightful', 'property', 'of', 'some', 'one', 'or', 'other', 'of', 'their', 'daughters', 'my', 'dear', 'mr', 'bennet', 'said', 'his', 'lady', 'to', 'him', 'one', 'day', 'have', 'you', 'heard', 'that', 'netherfield', 'park', 'is', 'let', 'at', 'last', 'mr', 'bennet', 'replied', 'that', 'he', 'had', 'not', 'but', 'it', 'is', 'returned', 'she', 'for', 'mrs', 'long', 'has', 'just', 'been', 'here', 'and', 'she', 'told', 'me', 'all', 'about', 'it', 'mr', 'bennet', 'made', 'no', 'answer', 'do', 'you', 'not', 'want', 'to', 'know', 'who', 'has', 'taken', 'it', 'cried', 'his', 'wife', 'impatiently', 'you', 'want', 'to', 'tell', 'me', 'and', 'i', 'have', 'no', 'objection', 'to', 'hearing', 'it', 'this', 'was', 'invitation', 'enough', 'why', 'my', 'dear', 'you', 'must', 'know', 'mrs', 'long', 'says', 'that', 'netherfield', 'is', 'taken', 'by', 'a', 'young', 'man', 'of', 'large', 'fortune', 'from', 'the', 'north', 'of', 'england', 'that', 'he', 'came', 'down', 'on', 'monday', 'in', 'a', 'chaise', 'and', 'four', 'to', 'see', 'the', 'place', 'and', 'was', 'so', 'much', 'delighted', 'with', 'it', 'that', 'he', 'agreed', 'with', 'mr', 'morris', 'immediately', 'that', 'he', 'is', 'to', 'take', 'possession', 'before', 'michaelmas', 'and', 'some', 'of', 'his', 'servants', 'are', 'to', 'be', 'in', 'the', 'house', 'by', 'the', 'end', 'of', 'next', 'week', 'what', 'is', 'his', 'name']\n",
      "The Length of the list is:  236\n"
     ]
    }
   ],
   "source": [
    "# Create a list of each individual word using the split function. \n",
    "lower_list_of_words = lower_clean_multiline_text.split()\n",
    "\n",
    "# Display. \n",
    "print(lower_list_of_words)\n",
    "\n",
    "# Print lenght:\n",
    "print('The Length of the list is: ', len(lower_list_of_words))"
   ]
  },
  {
   "cell_type": "code",
   "execution_count": 118,
   "id": "1d2ba3a0-b8e0-4106-b2dc-ec8bf7d69e4b",
   "metadata": {},
   "outputs": [
    {
     "name": "stdout",
     "output_type": "stream",
     "text": [
      "Number of Unique Words (lowercase):  131\n"
     ]
    }
   ],
   "source": [
    "# find the number of unique words using a dictionary. \n",
    "# create dictionary from list_of_words using dict.from keys method to find unique words.\n",
    "lower_unique_words_as_dict = dict.fromkeys(lower_list_of_words)\n",
    "\n",
    "# display the number of uniquer words. \n",
    "# use length and list method to count the number of keys in the dictionary. \n",
    "print('Number of Unique Words (lowercase): ',len(list(lower_unique_words_as_dict.keys())))"
   ]
  },
  {
   "cell_type": "code",
   "execution_count": 120,
   "id": "46f108d9-e189-4336-9ef2-4e302ffc420d",
   "metadata": {},
   "outputs": [
    {
     "data": {
      "text/plain": [
       "{'it': 6,\n",
       " 'is': 8,\n",
       " 'a': 8,\n",
       " 'truth': 2,\n",
       " 'universally': 1,\n",
       " 'acknowledged': 1,\n",
       " 'that': 8,\n",
       " 'single': 1,\n",
       " 'man': 3,\n",
       " 'in': 5,\n",
       " 'possession': 2,\n",
       " 'of': 10,\n",
       " 'good': 1,\n",
       " 'fortune': 2,\n",
       " 'must': 2,\n",
       " 'be': 3,\n",
       " 'want': 3,\n",
       " 'wife': 2,\n",
       " 'however': 1,\n",
       " 'little': 1,\n",
       " 'known': 1,\n",
       " 'the': 8,\n",
       " 'feelings': 1,\n",
       " 'or': 2,\n",
       " 'views': 1,\n",
       " 'such': 1,\n",
       " 'may': 1,\n",
       " 'on': 2,\n",
       " 'his': 5,\n",
       " 'first': 1,\n",
       " 'entering': 1,\n",
       " 'neighbourhood': 1,\n",
       " 'this': 2,\n",
       " 'so': 2,\n",
       " 'well': 1,\n",
       " 'fixed': 1,\n",
       " 'minds': 1,\n",
       " 'surrounding': 1,\n",
       " 'families': 1,\n",
       " 'he': 5,\n",
       " 'considered': 1,\n",
       " 'rightful': 1,\n",
       " 'property': 1,\n",
       " 'some': 2,\n",
       " 'one': 2,\n",
       " 'other': 1,\n",
       " 'their': 1,\n",
       " 'daughters': 1,\n",
       " 'my': 2,\n",
       " 'dear': 2,\n",
       " 'mr': 4,\n",
       " 'bennet': 3,\n",
       " 'said': 1,\n",
       " 'lady': 1,\n",
       " 'to': 7,\n",
       " 'him': 1,\n",
       " 'day': 1,\n",
       " 'have': 2,\n",
       " 'you': 4,\n",
       " 'heard': 1,\n",
       " 'netherfield': 2,\n",
       " 'park': 1,\n",
       " 'let': 1,\n",
       " 'at': 1,\n",
       " 'last': 1,\n",
       " 'replied': 1,\n",
       " 'had': 1,\n",
       " 'not': 2,\n",
       " 'but': 1,\n",
       " 'returned': 1,\n",
       " 'she': 2,\n",
       " 'for': 1,\n",
       " 'mrs': 2,\n",
       " 'long': 2,\n",
       " 'has': 2,\n",
       " 'just': 1,\n",
       " 'been': 1,\n",
       " 'here': 1,\n",
       " 'and': 5,\n",
       " 'told': 1,\n",
       " 'me': 2,\n",
       " 'all': 1,\n",
       " 'about': 1,\n",
       " 'made': 1,\n",
       " 'no': 2,\n",
       " 'answer': 1,\n",
       " 'do': 1,\n",
       " 'know': 2,\n",
       " 'who': 1,\n",
       " 'taken': 2,\n",
       " 'cried': 1,\n",
       " 'impatiently': 1,\n",
       " 'tell': 1,\n",
       " 'i': 1,\n",
       " 'objection': 1,\n",
       " 'hearing': 1,\n",
       " 'was': 2,\n",
       " 'invitation': 1,\n",
       " 'enough': 1,\n",
       " 'why': 1,\n",
       " 'says': 1,\n",
       " 'by': 2,\n",
       " 'young': 1,\n",
       " 'large': 1,\n",
       " 'from': 1,\n",
       " 'north': 1,\n",
       " 'england': 1,\n",
       " 'came': 1,\n",
       " 'down': 1,\n",
       " 'monday': 1,\n",
       " 'chaise': 1,\n",
       " 'four': 1,\n",
       " 'see': 1,\n",
       " 'place': 1,\n",
       " 'much': 1,\n",
       " 'delighted': 1,\n",
       " 'with': 2,\n",
       " 'agreed': 1,\n",
       " 'morris': 1,\n",
       " 'immediately': 1,\n",
       " 'take': 1,\n",
       " 'before': 1,\n",
       " 'michaelmas': 1,\n",
       " 'servants': 1,\n",
       " 'are': 1,\n",
       " 'house': 1,\n",
       " 'end': 1,\n",
       " 'next': 1,\n",
       " 'week': 1,\n",
       " 'what': 1,\n",
       " 'name': 1}"
      ]
     },
     "execution_count": 120,
     "metadata": {},
     "output_type": "execute_result"
    }
   ],
   "source": [
    "# Assign a value to each key in the dictionary. \n",
    "# loop through the list of words and assign a count to each key. \n",
    "for word in lower_list_of_words:\n",
    "    # If the value stored in the dictionary is 'none' \n",
    "    if lower_unique_words_as_dict[word] is None:\n",
    "        # Assign the value of one. \n",
    "        lower_unique_words_as_dict[word] = 1\n",
    "    # Otherwise add 1 to the count from dictionary key. \n",
    "    else:\n",
    "        lower_unique_words_as_dict[word] += 1\n",
    "# display \n",
    "lower_unique_words_as_dict\n"
   ]
  },
  {
   "cell_type": "markdown",
   "id": "7e568f94-a115-40ed-9ce1-8ca54561178a",
   "metadata": {},
   "source": [
    "# c. The Data Wrangling Workshop: Activity 2.01 page 70"
   ]
  },
  {
   "cell_type": "markdown",
   "id": "da162b0b-fab5-421f-92ab-ebbaedffa7ff",
   "metadata": {},
   "source": [
    "## 1 Look up the definition of permutations and dropwhile from itertools"
   ]
  },
  {
   "cell_type": "markdown",
   "id": "0b606342-5303-473c-a50a-898d352614c0",
   "metadata": {},
   "source": [
    "## 2 write an expression to generate all the possible three diget numbers, using 0, 1, and 2. "
   ]
  },
  {
   "cell_type": "markdown",
   "id": "ec01e475-5e91-4d9b-848b-4db018068724",
   "metadata": {},
   "source": [
    "## 3 loop over the itterator expression. print each element returned by itterator. use assert and isinstance to make sure that the elements are tupple type. "
   ]
  },
  {
   "cell_type": "markdown",
   "id": "70100cf6-be54-437f-815a-6b2462ea3407",
   "metadata": {},
   "source": [
    "## 4 Write the loop again using dropwhile, with a lambda expression to drop any leading zeros from the tuples. As an example, (0, 1, 2) will become [0, 2]. also cast the output of dropwhile to a list. "
   ]
  },
  {
   "cell_type": "markdown",
   "id": "34df0a44-f413-429d-99ff-2bc1694af0bc",
   "metadata": {},
   "source": [
    "## 5 Check the actual type that dropwhile returns. "
   ]
  },
  {
   "cell_type": "code",
   "execution_count": null,
   "id": "1e05b6b3-7337-430b-b1de-9d8e5e9c3c6c",
   "metadata": {},
   "outputs": [],
   "source": [
    "## 6 Combine preceding code into one block. "
   ]
  },
  {
   "cell_type": "markdown",
   "id": "3c3c190d-49f9-4549-908b-90a816118f4b",
   "metadata": {},
   "source": [
    "# d. The Data Wrangling Workshop: Activity 2.02 page 81"
   ]
  },
  {
   "cell_type": "code",
   "execution_count": null,
   "id": "f58711fc-66e0-42a6-b28a-3d7e4fa2375c",
   "metadata": {},
   "outputs": [],
   "source": []
  }
 ],
 "metadata": {
  "kernelspec": {
   "display_name": "Python 3 (ipykernel)",
   "language": "python",
   "name": "python3"
  },
  "language_info": {
   "codemirror_mode": {
    "name": "ipython",
    "version": 3
   },
   "file_extension": ".py",
   "mimetype": "text/x-python",
   "name": "python",
   "nbconvert_exporter": "python",
   "pygments_lexer": "ipython3",
   "version": "3.11.7"
  }
 },
 "nbformat": 4,
 "nbformat_minor": 5
}
