{
 "cells": [
  {
   "cell_type": "code",
   "execution_count": 1166,
   "id": "499826c7-ab01-464a-a0a7-6f720cb98f8b",
   "metadata": {},
   "outputs": [],
   "source": [
    "# DSC 540\n",
    "# Weeks 5 & 6\n",
    "# Summer 2024\n",
    "# Weeks 5 & 6 Exercises\n",
    "# Created By Matthew Heinen\n",
    "# 7/6/24"
   ]
  },
  {
   "cell_type": "markdown",
   "id": "2c20b77a-34f6-4832-b71f-57b4d0227b4c",
   "metadata": {},
   "source": [
    "# Chapter 7: "
   ]
  },
  {
   "cell_type": "code",
   "execution_count": 1168,
   "id": "0bded605-4ca1-45b4-832c-775ad5718781",
   "metadata": {},
   "outputs": [],
   "source": [
    "# Read in data file. \n",
    "\n",
    "# Import packages \n",
    "import pandas as pd"
   ]
  },
  {
   "cell_type": "code",
   "execution_count": 1169,
   "id": "e0a39f1e-b2af-48f2-8400-6b43bd9dd387",
   "metadata": {},
   "outputs": [
    {
     "name": "stderr",
     "output_type": "stream",
     "text": [
      "/opt/anaconda3/lib/python3.11/site-packages/openpyxl/worksheet/_read_only.py:79: UserWarning: Unknown extension is not supported and will be removed\n",
      "  for idx, row in parser.parse():\n"
     ]
    }
   ],
   "source": [
    "# read in candyhieracrhy2017.csv. \n",
    "candy = pd.read_excel(\"candyhierarchy2017.xlsx\")"
   ]
  },
  {
   "cell_type": "code",
   "execution_count": 1170,
   "id": "564461c6-d621-464d-ac49-a31351c78951",
   "metadata": {},
   "outputs": [
    {
     "data": {
      "text/html": [
       "<div>\n",
       "<style scoped>\n",
       "    .dataframe tbody tr th:only-of-type {\n",
       "        vertical-align: middle;\n",
       "    }\n",
       "\n",
       "    .dataframe tbody tr th {\n",
       "        vertical-align: top;\n",
       "    }\n",
       "\n",
       "    .dataframe thead th {\n",
       "        text-align: right;\n",
       "    }\n",
       "</style>\n",
       "<table border=\"1\" class=\"dataframe\">\n",
       "  <thead>\n",
       "    <tr style=\"text-align: right;\">\n",
       "      <th></th>\n",
       "      <th>Internal ID</th>\n",
       "      <th>Q1: GOING OUT?</th>\n",
       "      <th>Q2: GENDER</th>\n",
       "      <th>Q3: AGE</th>\n",
       "      <th>Q4: COUNTRY</th>\n",
       "      <th>Q5: STATE, PROVINCE, COUNTY, ETC</th>\n",
       "      <th>Q6 | 100 Grand Bar</th>\n",
       "      <th>Q6 | Anonymous brown globs that come in black and orange wrappers\\t(a.k.a. Mary Janes)</th>\n",
       "      <th>Q6 | Any full-sized candy bar</th>\n",
       "      <th>Q6 | Black Jacks</th>\n",
       "      <th>...</th>\n",
       "      <th>Q8: DESPAIR OTHER</th>\n",
       "      <th>Q9: OTHER COMMENTS</th>\n",
       "      <th>Q10: DRESS</th>\n",
       "      <th>Unnamed: 113</th>\n",
       "      <th>Q11: DAY</th>\n",
       "      <th>Q12: MEDIA [Daily Dish]</th>\n",
       "      <th>Q12: MEDIA [Science]</th>\n",
       "      <th>Q12: MEDIA [ESPN]</th>\n",
       "      <th>Q12: MEDIA [Yahoo]</th>\n",
       "      <th>Click Coordinates (x, y)</th>\n",
       "    </tr>\n",
       "  </thead>\n",
       "  <tbody>\n",
       "    <tr>\n",
       "      <th>0</th>\n",
       "      <td>90258773</td>\n",
       "      <td>NaN</td>\n",
       "      <td>NaN</td>\n",
       "      <td>NaN</td>\n",
       "      <td>NaN</td>\n",
       "      <td>NaN</td>\n",
       "      <td>NaN</td>\n",
       "      <td>NaN</td>\n",
       "      <td>NaN</td>\n",
       "      <td>NaN</td>\n",
       "      <td>...</td>\n",
       "      <td>NaN</td>\n",
       "      <td>NaN</td>\n",
       "      <td>NaN</td>\n",
       "      <td>NaN</td>\n",
       "      <td>NaN</td>\n",
       "      <td>NaN</td>\n",
       "      <td>NaN</td>\n",
       "      <td>NaN</td>\n",
       "      <td>NaN</td>\n",
       "      <td>NaN</td>\n",
       "    </tr>\n",
       "    <tr>\n",
       "      <th>1</th>\n",
       "      <td>90272821</td>\n",
       "      <td>No</td>\n",
       "      <td>Male</td>\n",
       "      <td>44</td>\n",
       "      <td>USA</td>\n",
       "      <td>NM</td>\n",
       "      <td>MEH</td>\n",
       "      <td>DESPAIR</td>\n",
       "      <td>JOY</td>\n",
       "      <td>MEH</td>\n",
       "      <td>...</td>\n",
       "      <td>NaN</td>\n",
       "      <td>Bottom line is Twix is really the only candy w...</td>\n",
       "      <td>White and gold</td>\n",
       "      <td>NaN</td>\n",
       "      <td>Sunday</td>\n",
       "      <td>NaN</td>\n",
       "      <td>1.0</td>\n",
       "      <td>NaN</td>\n",
       "      <td>NaN</td>\n",
       "      <td>(84, 25)</td>\n",
       "    </tr>\n",
       "    <tr>\n",
       "      <th>2</th>\n",
       "      <td>90272829</td>\n",
       "      <td>NaN</td>\n",
       "      <td>Male</td>\n",
       "      <td>49</td>\n",
       "      <td>USA</td>\n",
       "      <td>Virginia</td>\n",
       "      <td>NaN</td>\n",
       "      <td>NaN</td>\n",
       "      <td>NaN</td>\n",
       "      <td>NaN</td>\n",
       "      <td>...</td>\n",
       "      <td>NaN</td>\n",
       "      <td>NaN</td>\n",
       "      <td>NaN</td>\n",
       "      <td>NaN</td>\n",
       "      <td>NaN</td>\n",
       "      <td>NaN</td>\n",
       "      <td>NaN</td>\n",
       "      <td>NaN</td>\n",
       "      <td>NaN</td>\n",
       "      <td>NaN</td>\n",
       "    </tr>\n",
       "    <tr>\n",
       "      <th>3</th>\n",
       "      <td>90272840</td>\n",
       "      <td>No</td>\n",
       "      <td>Male</td>\n",
       "      <td>40</td>\n",
       "      <td>us</td>\n",
       "      <td>or</td>\n",
       "      <td>MEH</td>\n",
       "      <td>DESPAIR</td>\n",
       "      <td>JOY</td>\n",
       "      <td>MEH</td>\n",
       "      <td>...</td>\n",
       "      <td>NaN</td>\n",
       "      <td>Raisins can go to hell</td>\n",
       "      <td>White and gold</td>\n",
       "      <td>NaN</td>\n",
       "      <td>Sunday</td>\n",
       "      <td>NaN</td>\n",
       "      <td>1.0</td>\n",
       "      <td>NaN</td>\n",
       "      <td>NaN</td>\n",
       "      <td>(75, 23)</td>\n",
       "    </tr>\n",
       "    <tr>\n",
       "      <th>4</th>\n",
       "      <td>90272841</td>\n",
       "      <td>No</td>\n",
       "      <td>Male</td>\n",
       "      <td>23</td>\n",
       "      <td>usa</td>\n",
       "      <td>exton pa</td>\n",
       "      <td>JOY</td>\n",
       "      <td>DESPAIR</td>\n",
       "      <td>JOY</td>\n",
       "      <td>DESPAIR</td>\n",
       "      <td>...</td>\n",
       "      <td>NaN</td>\n",
       "      <td>NaN</td>\n",
       "      <td>White and gold</td>\n",
       "      <td>NaN</td>\n",
       "      <td>Friday</td>\n",
       "      <td>NaN</td>\n",
       "      <td>1.0</td>\n",
       "      <td>NaN</td>\n",
       "      <td>NaN</td>\n",
       "      <td>(70, 10)</td>\n",
       "    </tr>\n",
       "  </tbody>\n",
       "</table>\n",
       "<p>5 rows × 120 columns</p>\n",
       "</div>"
      ],
      "text/plain": [
       "   Internal ID Q1: GOING OUT? Q2: GENDER Q3: AGE Q4: COUNTRY  \\\n",
       "0     90258773            NaN        NaN     NaN         NaN   \n",
       "1     90272821             No       Male      44        USA    \n",
       "2     90272829            NaN       Male      49         USA   \n",
       "3     90272840             No       Male      40          us   \n",
       "4     90272841             No       Male      23         usa   \n",
       "\n",
       "  Q5: STATE, PROVINCE, COUNTY, ETC Q6 | 100 Grand Bar  \\\n",
       "0                              NaN                NaN   \n",
       "1                               NM                MEH   \n",
       "2                         Virginia                NaN   \n",
       "3                               or                MEH   \n",
       "4                         exton pa                JOY   \n",
       "\n",
       "  Q6 | Anonymous brown globs that come in black and orange wrappers\\t(a.k.a. Mary Janes)  \\\n",
       "0                                                NaN                                       \n",
       "1                                            DESPAIR                                       \n",
       "2                                                NaN                                       \n",
       "3                                            DESPAIR                                       \n",
       "4                                            DESPAIR                                       \n",
       "\n",
       "  Q6 | Any full-sized candy bar Q6 | Black Jacks  ... Q8: DESPAIR OTHER  \\\n",
       "0                           NaN              NaN  ...               NaN   \n",
       "1                           JOY              MEH  ...               NaN   \n",
       "2                           NaN              NaN  ...               NaN   \n",
       "3                           JOY              MEH  ...               NaN   \n",
       "4                           JOY          DESPAIR  ...               NaN   \n",
       "\n",
       "                                  Q9: OTHER COMMENTS      Q10: DRESS  \\\n",
       "0                                                NaN             NaN   \n",
       "1  Bottom line is Twix is really the only candy w...  White and gold   \n",
       "2                                                NaN             NaN   \n",
       "3                             Raisins can go to hell  White and gold   \n",
       "4                                                NaN  White and gold   \n",
       "\n",
       "  Unnamed: 113 Q11: DAY Q12: MEDIA [Daily Dish] Q12: MEDIA [Science]  \\\n",
       "0          NaN      NaN                     NaN                  NaN   \n",
       "1          NaN   Sunday                     NaN                  1.0   \n",
       "2          NaN      NaN                     NaN                  NaN   \n",
       "3          NaN   Sunday                     NaN                  1.0   \n",
       "4          NaN   Friday                     NaN                  1.0   \n",
       "\n",
       "  Q12: MEDIA [ESPN] Q12: MEDIA [Yahoo] Click Coordinates (x, y)  \n",
       "0               NaN                NaN                      NaN  \n",
       "1               NaN                NaN                 (84, 25)  \n",
       "2               NaN                NaN                      NaN  \n",
       "3               NaN                NaN                 (75, 23)  \n",
       "4               NaN                NaN                 (70, 10)  \n",
       "\n",
       "[5 rows x 120 columns]"
      ]
     },
     "execution_count": 1170,
     "metadata": {},
     "output_type": "execute_result"
    }
   ],
   "source": [
    "# Display candy to verify read in \n",
    "candy.head()"
   ]
  },
  {
   "cell_type": "code",
   "execution_count": 1171,
   "id": "c02f62c1-145b-4556-ad6f-cf4cf1c6673c",
   "metadata": {},
   "outputs": [
    {
     "data": {
      "text/plain": [
       "(2460, 120)"
      ]
     },
     "execution_count": 1171,
     "metadata": {},
     "output_type": "execute_result"
    }
   ],
   "source": [
    "# print current size of df. \n",
    "candy.shape"
   ]
  },
  {
   "cell_type": "markdown",
   "id": "4a78ca8e-c036-4ddf-88e2-1b75eacc8cb1",
   "metadata": {},
   "source": [
    "## Filter out missing data:"
   ]
  },
  {
   "cell_type": "code",
   "execution_count": 1173,
   "id": "9db47c53-b7d5-45c2-96c0-d3376e14e332",
   "metadata": {},
   "outputs": [
    {
     "data": {
      "text/plain": [
       "(2460, 120)"
      ]
     },
     "execution_count": 1173,
     "metadata": {},
     "output_type": "execute_result"
    }
   ],
   "source": [
    "# Use dropna to drop all columns that are completely empty. \n",
    "# Pass Axis 1 to drop columns. \n",
    "\n",
    "candy = candy.dropna(axis =1, how ='all')\n",
    "\n",
    "# Print Candy shape \n",
    "candy.shape"
   ]
  },
  {
   "cell_type": "markdown",
   "id": "96ce3cf5-b75b-4b09-a51d-0965f3cc1fbf",
   "metadata": {},
   "source": [
    "Here we see that no columns were completely empty. "
   ]
  },
  {
   "cell_type": "code",
   "execution_count": 1175,
   "id": "8a85b1d4-afee-4053-99cb-1f6865d516f2",
   "metadata": {},
   "outputs": [
    {
     "data": {
      "text/plain": [
       "(2460, 120)"
      ]
     },
     "execution_count": 1175,
     "metadata": {},
     "output_type": "execute_result"
    }
   ],
   "source": [
    "# Use dropna to drop all rows that are completely empty. \n",
    "# pass how = \"all to drop rows that are all na\n",
    "\n",
    "candy = candy.dropna(how='all')\n",
    "\n",
    "# Print Candy shape \n",
    "candy.shape"
   ]
  },
  {
   "cell_type": "markdown",
   "id": "ccdb30b7-8c59-4c64-b24c-311bd128271b",
   "metadata": {},
   "source": [
    "Here we can see that there are no rows that are completly empty. "
   ]
  },
  {
   "cell_type": "code",
   "execution_count": 1177,
   "id": "4b340ce9-58d6-41e3-aa35-d12b50f46c6c",
   "metadata": {},
   "outputs": [
    {
     "name": "stdout",
     "output_type": "stream",
     "text": [
      "(2352, 120)\n"
     ]
    }
   ],
   "source": [
    "# Evaluate age \n",
    "# Test if a value in a column is numeric and remove the rows\n",
    "candy['Q3: AGE'] = pd.to_numeric(candy['Q3: AGE'], errors='coerce')  # Convert to numeric, coerce non-numeric values to NaN\n",
    "\n",
    "\n",
    "# Remove rows with NaN values in column 'Q3: AGE'\n",
    "# Use drop NA\n",
    "candy = candy.dropna(subset=['Q3: AGE'])  \n",
    "\n",
    "# print size \n",
    "print(candy.shape)\n"
   ]
  },
  {
   "cell_type": "markdown",
   "id": "f0f4bdeb-ec3a-4eda-9936-d08874af5e44",
   "metadata": {},
   "source": [
    "Here we have removed rows where the value input in age was non numeric. "
   ]
  },
  {
   "cell_type": "markdown",
   "id": "faadf5ec-3d7c-447e-a7ea-4fe7d179d5c0",
   "metadata": {},
   "source": [
    "# Remove Duplicates"
   ]
  },
  {
   "cell_type": "code",
   "execution_count": 1180,
   "id": "eca695d9-1e5c-4700-8294-fc4bd432e621",
   "metadata": {},
   "outputs": [
    {
     "data": {
      "text/plain": [
       "(2352, 120)"
      ]
     },
     "execution_count": 1180,
     "metadata": {},
     "output_type": "execute_result"
    }
   ],
   "source": [
    "# check to see if any rows are duplicates or repeats\n",
    "# use drop_duplicates\n",
    "candy = candy.drop_duplicates()\n",
    "\n",
    "#print shape\n",
    "candy.shape"
   ]
  },
  {
   "cell_type": "markdown",
   "id": "600176ab-86aa-48f9-8bab-9423767cc20e",
   "metadata": {},
   "source": [
    "Here we see that now rows are complete duplicates. "
   ]
  },
  {
   "cell_type": "code",
   "execution_count": 1182,
   "id": "61b5042f-4b0e-4559-b5e1-98590808aa40",
   "metadata": {},
   "outputs": [
    {
     "data": {
      "text/plain": [
       "(2352, 120)"
      ]
     },
     "execution_count": 1182,
     "metadata": {},
     "output_type": "execute_result"
    }
   ],
   "source": [
    "# Check to see if any of the internal ID is duplicated, meaning we have multiple records for the same person. \n",
    "candy = candy.drop_duplicates(['Internal ID'])\n",
    "\n",
    "#print shape\n",
    "candy.shape"
   ]
  },
  {
   "cell_type": "markdown",
   "id": "5894c1b8-602d-407a-ac75-e7cb1276d66b",
   "metadata": {},
   "source": [
    " Here we see that we have no duplicate rows or entries. "
   ]
  },
  {
   "cell_type": "markdown",
   "id": "2c7c6972-0b45-4d67-80e4-5339ee54a020",
   "metadata": {},
   "source": [
    "## Discretization and Binning\n",
    "\n",
    "lets create some bins based on the age demographic. \n"
   ]
  },
  {
   "cell_type": "code",
   "execution_count": 1185,
   "id": "266cc19e-7f96-47e5-9553-3859b3ddb32b",
   "metadata": {},
   "outputs": [
    {
     "name": "stdout",
     "output_type": "stream",
     "text": [
      "count    2352.000000\n",
      "mean       42.617304\n",
      "std        23.846531\n",
      "min         1.000000\n",
      "25%        34.000000\n",
      "50%        41.000000\n",
      "75%        50.000000\n",
      "max      1000.000000\n",
      "Name: Q3: AGE, dtype: float64\n"
     ]
    }
   ],
   "source": [
    "# Use describe to find some summary stats on age. \n",
    "\n",
    "print(candy['Q3: AGE'].describe())"
   ]
  },
  {
   "cell_type": "markdown",
   "id": "b8fe394a-31f5-440d-94c1-a7d657a416d5",
   "metadata": {},
   "source": [
    "Here we can see that we have some outliers. ages 1 and 1000 are for sure outliers. lets remove those values by filtering out df. "
   ]
  },
  {
   "cell_type": "code",
   "execution_count": 1187,
   "id": "7a5ab90e-0a46-4132-ac4c-f1137814ce06",
   "metadata": {},
   "outputs": [
    {
     "name": "stdout",
     "output_type": "stream",
     "text": [
      "(2337, 120)\n"
     ]
    }
   ],
   "source": [
    "# Use .loc to filter outliers from the age column of the dataset \n",
    "candy = candy.loc[(candy['Q3: AGE'] >= 10) & (candy['Q3: AGE'] <= 100)]\n",
    "\n",
    "#Print shape\n",
    "print(candy.shape)"
   ]
  },
  {
   "cell_type": "code",
   "execution_count": 1188,
   "id": "758f6aba-0e6b-4d29-a4aa-26f2fd70512b",
   "metadata": {},
   "outputs": [],
   "source": [
    "# use pd.cut to create age bins in df. \n",
    "\n",
    "# Create bins and labels \n",
    "bins = [10, 18, 30, 50, 100] \n",
    "labels = ['10-18', '19-30', '31-50', '51-100']\n",
    "\n",
    "# create the bins and add column called 'age_bins' \n",
    "candy['age_bins'] = pd.cut(candy['Q3: AGE'], bins=bins, labels=labels)"
   ]
  },
  {
   "cell_type": "code",
   "execution_count": 1189,
   "id": "21fdce8f-4f8d-4b56-9827-ae4c3489c2c9",
   "metadata": {},
   "outputs": [
    {
     "data": {
      "text/plain": [
       "<bound method NDFrame.head of       Internal ID Q1: GOING OUT? Q2: GENDER  Q3: AGE Q4: COUNTRY  \\\n",
       "1        90272821             No       Male     44.0        USA    \n",
       "2        90272829            NaN       Male     49.0         USA   \n",
       "3        90272840             No       Male     40.0          us   \n",
       "4        90272841             No       Male     23.0         usa   \n",
       "6        90272853             No       Male     53.0         usa   \n",
       "...           ...            ...        ...      ...         ...   \n",
       "2455     90314359             No       Male     24.0         USA   \n",
       "2456     90314580             No     Female     33.0         USA   \n",
       "2457     90314634             No     Female     26.0        USA    \n",
       "2458     90314658             No       Male     58.0         Usa   \n",
       "2459     90314802             No     Female     66.0         usa   \n",
       "\n",
       "     Q5: STATE, PROVINCE, COUNTY, ETC Q6 | 100 Grand Bar  \\\n",
       "1                                  NM                MEH   \n",
       "2                            Virginia                NaN   \n",
       "3                                  or                MEH   \n",
       "4                            exton pa                JOY   \n",
       "6                           Colorado                 NaN   \n",
       "...                               ...                ...   \n",
       "2455                               MD                JOY   \n",
       "2456                         New York                MEH   \n",
       "2457                        Tennessee                MEH   \n",
       "2458                   North Carolina                NaN   \n",
       "2459                     Pennsylvania            DESPAIR   \n",
       "\n",
       "     Q6 | Anonymous brown globs that come in black and orange wrappers\\t(a.k.a. Mary Janes)  \\\n",
       "1                                               DESPAIR                                       \n",
       "2                                                   NaN                                       \n",
       "3                                               DESPAIR                                       \n",
       "4                                               DESPAIR                                       \n",
       "6                                                   NaN                                       \n",
       "...                                                 ...                                       \n",
       "2455                                            DESPAIR                                       \n",
       "2456                                            DESPAIR                                       \n",
       "2457                                            DESPAIR                                       \n",
       "2458                                                NaN                                       \n",
       "2459                                            DESPAIR                                       \n",
       "\n",
       "     Q6 | Any full-sized candy bar Q6 | Black Jacks  ...  \\\n",
       "1                              JOY              MEH  ...   \n",
       "2                              NaN              NaN  ...   \n",
       "3                              JOY              MEH  ...   \n",
       "4                              JOY          DESPAIR  ...   \n",
       "6                              NaN              NaN  ...   \n",
       "...                            ...              ...  ...   \n",
       "2455                           MEH          DESPAIR  ...   \n",
       "2456                           JOY              NaN  ...   \n",
       "2457                           JOY          DESPAIR  ...   \n",
       "2458                           NaN              NaN  ...   \n",
       "2459                           JOY          DESPAIR  ...   \n",
       "\n",
       "                                     Q9: OTHER COMMENTS      Q10: DRESS  \\\n",
       "1     Bottom line is Twix is really the only candy w...  White and gold   \n",
       "2                                                   NaN             NaN   \n",
       "3                                Raisins can go to hell  White and gold   \n",
       "4                                                   NaN  White and gold   \n",
       "6                                                   NaN             NaN   \n",
       "...                                                 ...             ...   \n",
       "2455                                                NaN  White and gold   \n",
       "2456                                                NaN  Blue and black   \n",
       "2457                                                NaN  Blue and black   \n",
       "2458                                                NaN             NaN   \n",
       "2459  You hit all my chocolate highlights, and broug...  White and gold   \n",
       "\n",
       "     Unnamed: 113 Q11: DAY Q12: MEDIA [Daily Dish] Q12: MEDIA [Science]  \\\n",
       "1             NaN   Sunday                     NaN                  1.0   \n",
       "2             NaN      NaN                     NaN                  NaN   \n",
       "3             NaN   Sunday                     NaN                  1.0   \n",
       "4             NaN   Friday                     NaN                  1.0   \n",
       "6             NaN      NaN                     NaN                  NaN   \n",
       "...           ...      ...                     ...                  ...   \n",
       "2455          NaN   Friday                     NaN                  NaN   \n",
       "2456          NaN   Friday                     NaN                  1.0   \n",
       "2457          NaN   Friday                     NaN                  1.0   \n",
       "2458          NaN      NaN                     NaN                  NaN   \n",
       "2459          NaN   Sunday                     1.0                  NaN   \n",
       "\n",
       "     Q12: MEDIA [ESPN] Q12: MEDIA [Yahoo] Click Coordinates (x, y) age_bins  \n",
       "1                  NaN                NaN                 (84, 25)    31-50  \n",
       "2                  NaN                NaN                      NaN    31-50  \n",
       "3                  NaN                NaN                 (75, 23)    31-50  \n",
       "4                  NaN                NaN                 (70, 10)    19-30  \n",
       "6                  NaN                NaN                      NaN   51-100  \n",
       "...                ...                ...                      ...      ...  \n",
       "2455               NaN                NaN                      NaN    19-30  \n",
       "2456               NaN                NaN                 (70, 26)    31-50  \n",
       "2457               NaN                NaN                 (67, 35)    19-30  \n",
       "2458               NaN                NaN                      NaN   51-100  \n",
       "2459               NaN                NaN                 (19, 26)   51-100  \n",
       "\n",
       "[2337 rows x 121 columns]>"
      ]
     },
     "execution_count": 1189,
     "metadata": {},
     "output_type": "execute_result"
    }
   ],
   "source": [
    "# Verify the binning worked. \n",
    "candy.head"
   ]
  },
  {
   "cell_type": "markdown",
   "id": "a1bc6888-f3ae-410c-acd2-2e447a808b69",
   "metadata": {},
   "source": [
    "Here we have sucessfully added the age_bins bin. "
   ]
  },
  {
   "cell_type": "markdown",
   "id": "fc4f1467-0a4a-42fb-b689-8360075aadc6",
   "metadata": {},
   "source": [
    "# Chapter 8: "
   ]
  },
  {
   "cell_type": "markdown",
   "id": "db9e6046-e85b-456e-b4bf-bdc85441ec51",
   "metadata": {},
   "source": [
    "## Create hierarchical index\n",
    "\n",
    "create a hierarchical index where the age_bins is above age. "
   ]
  },
  {
   "cell_type": "code",
   "execution_count": 1193,
   "id": "5f50e5d6-9dab-4b18-98c9-3c10374ebe22",
   "metadata": {},
   "outputs": [
    {
     "data": {
      "text/plain": [
       "(370, 3)"
      ]
     },
     "execution_count": 1193,
     "metadata": {},
     "output_type": "execute_result"
    }
   ],
   "source": [
    "# select a subset of candy for improved readability. \n",
    "\n",
    "c_small = candy[['age_bins', 'Q3: AGE', 'Q9: OTHER COMMENTS']]\n",
    "\n",
    "#Drop null \n",
    "c_small = c_small.dropna()\n",
    "\n",
    "# sort by age\n",
    "\n",
    "c_small = c_small.sort_values(by='Q3: AGE')\n",
    "\n",
    "# view\n",
    "c_small.shape\n"
   ]
  },
  {
   "cell_type": "code",
   "execution_count": 1194,
   "id": "acd468d8-a8d2-4b09-9af2-c92fcb2ad361",
   "metadata": {},
   "outputs": [
    {
     "data": {
      "text/plain": [
       "<bound method NDFrame.head of                                                  Q9: OTHER COMMENTS\n",
       "age_bins Q3: AGE                                                   \n",
       "10-18    11.0     Some of these catagories don't make any sense ...\n",
       "         11.0     I think that getting chick tracts would be fun...\n",
       "         12.0                                                   Hey\n",
       "         12.0                                I like food and horses\n",
       "         12.0     I feel like i'm gonna get diabetes this Hallow...\n",
       "...                                                             ...\n",
       "51-100   71.0     As a presenter, I give the best stuff to obvio...\n",
       "         71.0     This was the best scientific survey I have eve...\n",
       "         77.0     I qualify to take this survey because I was on...\n",
       "         88.0                    Good and Plenty all day every day.\n",
       "         90.0     Why no spare change?  More vegan options?  Wha...\n",
       "\n",
       "[370 rows x 1 columns]>"
      ]
     },
     "execution_count": 1194,
     "metadata": {},
     "output_type": "execute_result"
    }
   ],
   "source": [
    "# Use set index to create hierarchical index. \n",
    "\n",
    "c_small.set_index(['age_bins', 'Q3: AGE'], inplace=True)\n",
    "\n",
    "c_small.head"
   ]
  },
  {
   "cell_type": "markdown",
   "id": "085f4850-3127-48b4-89f0-f29de7d448bd",
   "metadata": {},
   "source": [
    "Here we see that we have created a hierarchy with the age and age bins column. "
   ]
  },
  {
   "cell_type": "code",
   "execution_count": 1196,
   "id": "c3f12fd8-efba-4153-8cfa-f1b0b617f4c0",
   "metadata": {},
   "outputs": [
    {
     "data": {
      "text/html": [
       "<div>\n",
       "<style scoped>\n",
       "    .dataframe tbody tr th:only-of-type {\n",
       "        vertical-align: middle;\n",
       "    }\n",
       "\n",
       "    .dataframe tbody tr th {\n",
       "        vertical-align: top;\n",
       "    }\n",
       "\n",
       "    .dataframe thead th {\n",
       "        text-align: right;\n",
       "    }\n",
       "</style>\n",
       "<table border=\"1\" class=\"dataframe\">\n",
       "  <thead>\n",
       "    <tr style=\"text-align: right;\">\n",
       "      <th></th>\n",
       "      <th></th>\n",
       "      <th>Q9: OTHER COMMENTS</th>\n",
       "    </tr>\n",
       "    <tr>\n",
       "      <th>age_bins</th>\n",
       "      <th>Q3: AGE</th>\n",
       "      <th></th>\n",
       "    </tr>\n",
       "  </thead>\n",
       "  <tbody>\n",
       "    <tr>\n",
       "      <th rowspan=\"5\" valign=\"top\">10-18</th>\n",
       "      <th>11.0</th>\n",
       "      <td>Some of these catagories don't make any sense ...</td>\n",
       "    </tr>\n",
       "    <tr>\n",
       "      <th>11.0</th>\n",
       "      <td>I think that getting chick tracts would be fun...</td>\n",
       "    </tr>\n",
       "    <tr>\n",
       "      <th>12.0</th>\n",
       "      <td>Hey</td>\n",
       "    </tr>\n",
       "    <tr>\n",
       "      <th>12.0</th>\n",
       "      <td>I like food and horses</td>\n",
       "    </tr>\n",
       "    <tr>\n",
       "      <th>12.0</th>\n",
       "      <td>I feel like i'm gonna get diabetes this Hallow...</td>\n",
       "    </tr>\n",
       "    <tr>\n",
       "      <th>...</th>\n",
       "      <th>...</th>\n",
       "      <td>...</td>\n",
       "    </tr>\n",
       "    <tr>\n",
       "      <th rowspan=\"5\" valign=\"top\">51-100</th>\n",
       "      <th>71.0</th>\n",
       "      <td>As a presenter, I give the best stuff to obvio...</td>\n",
       "    </tr>\n",
       "    <tr>\n",
       "      <th>71.0</th>\n",
       "      <td>This was the best scientific survey I have eve...</td>\n",
       "    </tr>\n",
       "    <tr>\n",
       "      <th>77.0</th>\n",
       "      <td>I qualify to take this survey because I was on...</td>\n",
       "    </tr>\n",
       "    <tr>\n",
       "      <th>88.0</th>\n",
       "      <td>Good and Plenty all day every day.</td>\n",
       "    </tr>\n",
       "    <tr>\n",
       "      <th>90.0</th>\n",
       "      <td>Why no spare change?  More vegan options?  Wha...</td>\n",
       "    </tr>\n",
       "  </tbody>\n",
       "</table>\n",
       "<p>370 rows × 1 columns</p>\n",
       "</div>"
      ],
      "text/plain": [
       "                                                 Q9: OTHER COMMENTS\n",
       "age_bins Q3: AGE                                                   \n",
       "10-18    11.0     Some of these catagories don't make any sense ...\n",
       "         11.0     I think that getting chick tracts would be fun...\n",
       "         12.0                                                   Hey\n",
       "         12.0                                I like food and horses\n",
       "         12.0     I feel like i'm gonna get diabetes this Hallow...\n",
       "...                                                             ...\n",
       "51-100   71.0     As a presenter, I give the best stuff to obvio...\n",
       "         71.0     This was the best scientific survey I have eve...\n",
       "         77.0     I qualify to take this survey because I was on...\n",
       "         88.0                    Good and Plenty all day every day.\n",
       "         90.0     Why no spare change?  More vegan options?  Wha...\n",
       "\n",
       "[370 rows x 1 columns]"
      ]
     },
     "execution_count": 1196,
     "metadata": {},
     "output_type": "execute_result"
    }
   ],
   "source": [
    "# Use sort incex to sort by age_bins\n",
    "c_small.sort_index(level='age_bins')\n",
    "\n",
    "# display\n",
    "c_small"
   ]
  },
  {
   "cell_type": "markdown",
   "id": "b7cf26c3-3efb-4b89-b652-6b2b4240f0f7",
   "metadata": {},
   "source": [
    "This heigheracy allows us to view each demographics other comments. "
   ]
  },
  {
   "cell_type": "markdown",
   "id": "66c9d207-0642-4eae-92c8-0a6f18d6ba9a",
   "metadata": {},
   "source": [
    "## Reshape\n"
   ]
  },
  {
   "cell_type": "code",
   "execution_count": 1199,
   "id": "8bbd551c-8e3f-494a-863d-5aebe06f20a6",
   "metadata": {},
   "outputs": [
    {
     "name": "stdout",
     "output_type": "stream",
     "text": [
      "age_bins  Q3: AGE                    \n",
      "10-18     11.0     Q9: OTHER COMMENTS    Some of these catagories don't make any sense ...\n",
      "                   Q9: OTHER COMMENTS    I think that getting chick tracts would be fun...\n",
      "          12.0     Q9: OTHER COMMENTS                                                  Hey\n",
      "                   Q9: OTHER COMMENTS                               I like food and horses\n",
      "                   Q9: OTHER COMMENTS    I feel like i'm gonna get diabetes this Hallow...\n",
      "          13.0     Q9: OTHER COMMENTS    As I do not know what around half of those ite...\n",
      "          14.0     Q9: OTHER COMMENTS         I can't tell if this survey is a joke or not\n",
      "                   Q9: OTHER COMMENTS    Since it says “mars” and not specifically a ma...\n",
      "          15.0     Q9: OTHER COMMENTS    If you give out full-sized anything (candy, fo...\n",
      "                   Q9: OTHER COMMENTS    A lot of the things i despair I didn't know, t...\n",
      "          16.0     Q9: OTHER COMMENTS              I'm not crazy. Our mother had us tested\n",
      "          18.0     Q9: OTHER COMMENTS    YAAAAAAAAAAAAAAAAAAAAAAAAAAAAAAAAAAAAAAAAAAAAA...\n",
      "                   Q9: OTHER COMMENTS                            Consider adding adderall \n",
      "19-30     19.0     Q9: OTHER COMMENTS                              You folks are awesome! \n",
      "          20.0     Q9: OTHER COMMENTS    I did it guys, I filled out the survey. I won'...\n",
      "          21.0     Q9: OTHER COMMENTS    One time there was a house that gave me a 20 d...\n",
      "                   Q9: OTHER COMMENTS    Dark chocolate tastes like broken promises. It...\n",
      "                   Q9: OTHER COMMENTS                                     Good Quiz. 10/10\n",
      "          22.0     Q9: OTHER COMMENTS    Devastated not to see ANY acknowledgement of A...\n",
      "          23.0     Q9: OTHER COMMENTS    Someone told me I get candy if I do this so wh...\n",
      "                   Q9: OTHER COMMENTS    Please assume any selection I have made that i...\n",
      "          24.0     Q9: OTHER COMMENTS    I had to Ecosia search (\"Google\") so many of t...\n",
      "                   Q9: OTHER COMMENTS    I should receive free candy of my choice for a...\n",
      "                   Q9: OTHER COMMENTS    Cheap caramel like in Milky Ways begins the ni...\n",
      "                   Q9: OTHER COMMENTS    Since chocolate and peanut butter in combinati...\n",
      "                   Q9: OTHER COMMENTS    Do people really give out vicodin and acetamin...\n",
      "          25.0     Q9: OTHER COMMENTS    Spooky scary skeletons Send shivers down your ...\n",
      "                   Q9: OTHER COMMENTS    Seriously. Mounds are the fucking worst. Excep...\n",
      "                   Q9: OTHER COMMENTS    Many of the entries on this survey make me ver...\n",
      "          26.0     Q9: OTHER COMMENTS    If you can't beat em, sweetums! Diabetes! Figh...\n",
      "                   Q9: OTHER COMMENTS    I actually get Canadian candy from people all ...\n",
      "                   Q9: OTHER COMMENTS    Smarties from the UK have a strange aftertaste...\n",
      "                   Q9: OTHER COMMENTS                            Death to coconut shavings\n",
      "                   Q9: OTHER COMMENTS    Sour Patch Kids are a delight in your mouth. H...\n",
      "                   Q9: OTHER COMMENTS                     I just don’t like nuts in candy!\n",
      "          27.0     Q9: OTHER COMMENTS    All the best candies come in mini-form. If it ...\n",
      "                   Q9: OTHER COMMENTS     One does not simply wish for death from diabetes\n",
      "                   Q9: OTHER COMMENTS    I marked Joy for more items than I though I wo...\n",
      "                   Q9: OTHER COMMENTS    Generally, it goes: chocolate > sour candy > c...\n",
      "                   Q9: OTHER COMMENTS    My delight at the concept of alcohol while tri...\n",
      "                   Q9: OTHER COMMENTS                                    snark snark snark\n",
      "          28.0     Q9: OTHER COMMENTS    In general chocolate is awesome, fruity stuff ...\n",
      "                   Q9: OTHER COMMENTS    Lollipops are not a homogeneous group!  Blo po...\n",
      "                   Q9: OTHER COMMENTS                            Chocolate = joy. Always. \n",
      "                   Q9: OTHER COMMENTS    My area very rarely gets trick or treaters, so...\n",
      "          29.0     Q9: OTHER COMMENTS    Joy or despair, if the candy's free, I will ea...\n",
      "                   Q9: OTHER COMMENTS    Caramel things win always, things with chocola...\n",
      "                   Q9: OTHER COMMENTS        There is no tootsie in roll or dvd form. Why?\n",
      "          30.0     Q9: OTHER COMMENTS    Why is it that my tolerance for sugar in its p...\n",
      "                   Q9: OTHER COMMENTS    I fully appreciate the distinction between rea...\n",
      "dtype: object\n"
     ]
    }
   ],
   "source": [
    "# Use stack to reshape the columns in the data to rows this allows us to see all results by age and bin\n",
    "c_stack = c_small.stack()\n",
    "\n",
    "\n",
    "print(c_stack.head(50))"
   ]
  },
  {
   "cell_type": "markdown",
   "id": "96a8e70c-c65a-4883-9dfa-68a1a512a554",
   "metadata": {},
   "source": [
    "This reshaping or stacking of hierarchical levels allows us to view comments by both age demographic and individual age."
   ]
  },
  {
   "cell_type": "markdown",
   "id": "32747918-0b40-4ceb-b825-31d016d16e5f",
   "metadata": {},
   "source": [
    "# Chapter 10"
   ]
  },
  {
   "cell_type": "markdown",
   "id": "6024e3c8-75e0-455d-b097-0d6a29f14365",
   "metadata": {},
   "source": [
    "## Grouping with Dicts/Series\n",
    "\n",
    "Use dictionary or series methods to group by age_bin. "
   ]
  },
  {
   "cell_type": "code",
   "execution_count": 1203,
   "id": "ad548501-2c83-497d-bcf9-0f362b227b01",
   "metadata": {},
   "outputs": [
    {
     "name": "stderr",
     "output_type": "stream",
     "text": [
      "/var/folders/xv/q0156cqs67s40wbxq6_vfykr0000gn/T/ipykernel_77206/3035731113.py:3: FutureWarning: The default of observed=False is deprecated and will be changed to True in a future version of pandas. Pass observed=False to retain current behavior or observed=True to adopt the future default and silence this warning.\n",
      "  grouped = candy['Q3: AGE'].groupby(candy['age_bins'])\n"
     ]
    }
   ],
   "source": [
    "# use groupby to find the mean of each age bin in the candy df. \n",
    "\n",
    "grouped = candy['Q3: AGE'].groupby(candy['age_bins'])"
   ]
  },
  {
   "cell_type": "code",
   "execution_count": 1204,
   "id": "0e06bf46-182b-4040-a147-dc373062fdd5",
   "metadata": {},
   "outputs": [
    {
     "data": {
      "text/plain": [
       "age_bins\n",
       "10-18     14.509804\n",
       "19-30     26.586331\n",
       "31-50     40.393347\n",
       "51-100    58.418233\n",
       "Name: Q3: AGE, dtype: float64"
      ]
     },
     "execution_count": 1204,
     "metadata": {},
     "output_type": "execute_result"
    }
   ],
   "source": [
    "# Use mean function to display the mean of each age bin. \n",
    "\n",
    "grouped.mean()"
   ]
  },
  {
   "cell_type": "markdown",
   "id": "5f68455e-ce92-4ed1-89e9-67d3fcec9392",
   "metadata": {},
   "source": [
    "## Grouping with Index Levels\n",
    "\n",
    "Now we will perform a similar task with a different method we will group by index levels using the hierarchy established in DataFrame c_small. We will do this to find the count of unique responses to question 9 in each age. "
   ]
  },
  {
   "cell_type": "code",
   "execution_count": 1231,
   "id": "1622db56-1203-4eef-adbc-59a988523a78",
   "metadata": {},
   "outputs": [
    {
     "name": "stderr",
     "output_type": "stream",
     "text": [
      "/var/folders/xv/q0156cqs67s40wbxq6_vfykr0000gn/T/ipykernel_77206/3434568292.py:1: FutureWarning: The default of observed=False is deprecated and will be changed to True in a future version of pandas. Pass observed=False to retain current behavior or observed=True to adopt the future default and silence this warning.\n",
      "  grouped = c_small.groupby(level = 'age_bins')\n"
     ]
    }
   ],
   "source": [
    "grouped = c_small.groupby(level = 'age_bins')\n"
   ]
  },
  {
   "cell_type": "code",
   "execution_count": 1235,
   "id": "694cc2e8-9ba6-46e3-94c8-36b079e7b8e7",
   "metadata": {},
   "outputs": [
    {
     "data": {
      "text/html": [
       "<div>\n",
       "<style scoped>\n",
       "    .dataframe tbody tr th:only-of-type {\n",
       "        vertical-align: middle;\n",
       "    }\n",
       "\n",
       "    .dataframe tbody tr th {\n",
       "        vertical-align: top;\n",
       "    }\n",
       "\n",
       "    .dataframe thead tr th {\n",
       "        text-align: left;\n",
       "    }\n",
       "\n",
       "    .dataframe thead tr:last-of-type th {\n",
       "        text-align: right;\n",
       "    }\n",
       "</style>\n",
       "<table border=\"1\" class=\"dataframe\">\n",
       "  <thead>\n",
       "    <tr>\n",
       "      <th></th>\n",
       "      <th colspan=\"4\" halign=\"left\">Q9: OTHER COMMENTS</th>\n",
       "    </tr>\n",
       "    <tr>\n",
       "      <th></th>\n",
       "      <th>count</th>\n",
       "      <th>unique</th>\n",
       "      <th>top</th>\n",
       "      <th>freq</th>\n",
       "    </tr>\n",
       "    <tr>\n",
       "      <th>age_bins</th>\n",
       "      <th></th>\n",
       "      <th></th>\n",
       "      <th></th>\n",
       "      <th></th>\n",
       "    </tr>\n",
       "  </thead>\n",
       "  <tbody>\n",
       "    <tr>\n",
       "      <th>10-18</th>\n",
       "      <td>13</td>\n",
       "      <td>13</td>\n",
       "      <td>Some of these catagories don't make any sense ...</td>\n",
       "      <td>1</td>\n",
       "    </tr>\n",
       "    <tr>\n",
       "      <th>19-30</th>\n",
       "      <td>42</td>\n",
       "      <td>42</td>\n",
       "      <td>You folks are awesome!</td>\n",
       "      <td>1</td>\n",
       "    </tr>\n",
       "    <tr>\n",
       "      <th>31-50</th>\n",
       "      <td>209</td>\n",
       "      <td>209</td>\n",
       "      <td>War on Wonka! Fuck Roald Dahl and everything h...</td>\n",
       "      <td>1</td>\n",
       "    </tr>\n",
       "    <tr>\n",
       "      <th>51-100</th>\n",
       "      <td>106</td>\n",
       "      <td>106</td>\n",
       "      <td>while the JOY OTHER items reflect the best hal...</td>\n",
       "      <td>1</td>\n",
       "    </tr>\n",
       "  </tbody>\n",
       "</table>\n",
       "</div>"
      ],
      "text/plain": [
       "         Q9: OTHER COMMENTS         \\\n",
       "                      count unique   \n",
       "age_bins                             \n",
       "10-18                    13     13   \n",
       "19-30                    42     42   \n",
       "31-50                   209    209   \n",
       "51-100                  106    106   \n",
       "\n",
       "                                                                  \n",
       "                                                        top freq  \n",
       "age_bins                                                          \n",
       "10-18     Some of these catagories don't make any sense ...    1  \n",
       "19-30                               You folks are awesome!     1  \n",
       "31-50     War on Wonka! Fuck Roald Dahl and everything h...    1  \n",
       "51-100    while the JOY OTHER items reflect the best hal...    1  "
      ]
     },
     "execution_count": 1235,
     "metadata": {},
     "output_type": "execute_result"
    }
   ],
   "source": [
    "grouped.describe()\n"
   ]
  },
  {
   "cell_type": "markdown",
   "id": "a0e6a6e2-9b2b-4915-aed5-2a6b7da147f3",
   "metadata": {},
   "source": [
    "Now lets us grouping by index to find some descriptive stats on the ages of each age bin. "
   ]
  },
  {
   "cell_type": "code",
   "execution_count": 1243,
   "id": "a4ba8c35-2b23-4771-adfa-1850171d2d31",
   "metadata": {},
   "outputs": [],
   "source": [
    "# Create new smaller df for readability. \n",
    "\n",
    "c_small_2 = candy[['age_bins', 'Q3: AGE']]\n",
    "\n",
    "#Drop null \n",
    "c_small_2 = c_small_2.dropna()\n",
    "\n",
    "# sort by age\n",
    "\n",
    "c_small_2 = c_small_2.sort_values(by='Q3: AGE')"
   ]
  },
  {
   "cell_type": "code",
   "execution_count": 1245,
   "id": "8915e891-1226-4552-b2f1-e3b7281ac7ee",
   "metadata": {},
   "outputs": [],
   "source": [
    "# Create hierarchy\n",
    "\n",
    "c_small_2.set_index(['age_bins'], inplace=True)\n",
    "\n"
   ]
  },
  {
   "cell_type": "code",
   "execution_count": 1249,
   "id": "80cf84d0-b53b-4610-a3e2-523ca7b7d79f",
   "metadata": {},
   "outputs": [
    {
     "name": "stderr",
     "output_type": "stream",
     "text": [
      "/var/folders/xv/q0156cqs67s40wbxq6_vfykr0000gn/T/ipykernel_77206/4266034155.py:1: FutureWarning: The default of observed=False is deprecated and will be changed to True in a future version of pandas. Pass observed=False to retain current behavior or observed=True to adopt the future default and silence this warning.\n",
      "  c_small_2.groupby(level = 'age_bins').describe()\n"
     ]
    },
    {
     "data": {
      "text/html": [
       "<div>\n",
       "<style scoped>\n",
       "    .dataframe tbody tr th:only-of-type {\n",
       "        vertical-align: middle;\n",
       "    }\n",
       "\n",
       "    .dataframe tbody tr th {\n",
       "        vertical-align: top;\n",
       "    }\n",
       "\n",
       "    .dataframe thead tr th {\n",
       "        text-align: left;\n",
       "    }\n",
       "\n",
       "    .dataframe thead tr:last-of-type th {\n",
       "        text-align: right;\n",
       "    }\n",
       "</style>\n",
       "<table border=\"1\" class=\"dataframe\">\n",
       "  <thead>\n",
       "    <tr>\n",
       "      <th></th>\n",
       "      <th colspan=\"8\" halign=\"left\">Q3: AGE</th>\n",
       "    </tr>\n",
       "    <tr>\n",
       "      <th></th>\n",
       "      <th>count</th>\n",
       "      <th>mean</th>\n",
       "      <th>std</th>\n",
       "      <th>min</th>\n",
       "      <th>25%</th>\n",
       "      <th>50%</th>\n",
       "      <th>75%</th>\n",
       "      <th>max</th>\n",
       "    </tr>\n",
       "    <tr>\n",
       "      <th>age_bins</th>\n",
       "      <th></th>\n",
       "      <th></th>\n",
       "      <th></th>\n",
       "      <th></th>\n",
       "      <th></th>\n",
       "      <th></th>\n",
       "      <th></th>\n",
       "      <th></th>\n",
       "    </tr>\n",
       "  </thead>\n",
       "  <tbody>\n",
       "    <tr>\n",
       "      <th>10-18</th>\n",
       "      <td>51.0</td>\n",
       "      <td>14.509804</td>\n",
       "      <td>2.532766</td>\n",
       "      <td>11.0</td>\n",
       "      <td>12.0</td>\n",
       "      <td>15.0</td>\n",
       "      <td>17.0</td>\n",
       "      <td>18.0</td>\n",
       "    </tr>\n",
       "    <tr>\n",
       "      <th>19-30</th>\n",
       "      <td>278.0</td>\n",
       "      <td>26.586331</td>\n",
       "      <td>3.064545</td>\n",
       "      <td>19.0</td>\n",
       "      <td>25.0</td>\n",
       "      <td>27.0</td>\n",
       "      <td>29.0</td>\n",
       "      <td>30.0</td>\n",
       "    </tr>\n",
       "    <tr>\n",
       "      <th>31-50</th>\n",
       "      <td>1473.0</td>\n",
       "      <td>40.393347</td>\n",
       "      <td>5.538554</td>\n",
       "      <td>31.0</td>\n",
       "      <td>36.0</td>\n",
       "      <td>40.0</td>\n",
       "      <td>45.0</td>\n",
       "      <td>50.0</td>\n",
       "    </tr>\n",
       "    <tr>\n",
       "      <th>51-100</th>\n",
       "      <td>532.0</td>\n",
       "      <td>58.418233</td>\n",
       "      <td>6.965775</td>\n",
       "      <td>51.0</td>\n",
       "      <td>53.0</td>\n",
       "      <td>57.0</td>\n",
       "      <td>62.0</td>\n",
       "      <td>100.0</td>\n",
       "    </tr>\n",
       "  </tbody>\n",
       "</table>\n",
       "</div>"
      ],
      "text/plain": [
       "         Q3: AGE                                                    \n",
       "           count       mean       std   min   25%   50%   75%    max\n",
       "age_bins                                                            \n",
       "10-18       51.0  14.509804  2.532766  11.0  12.0  15.0  17.0   18.0\n",
       "19-30      278.0  26.586331  3.064545  19.0  25.0  27.0  29.0   30.0\n",
       "31-50     1473.0  40.393347  5.538554  31.0  36.0  40.0  45.0   50.0\n",
       "51-100     532.0  58.418233  6.965775  51.0  53.0  57.0  62.0  100.0"
      ]
     },
     "execution_count": 1249,
     "metadata": {},
     "output_type": "execute_result"
    }
   ],
   "source": [
    "c_small_2.groupby(level = 'age_bins').describe()"
   ]
  },
  {
   "cell_type": "markdown",
   "id": "dfbd52f2-e7f2-4810-a8c6-a663247606bf",
   "metadata": {},
   "source": [
    "Above we can see that we have found some the descriptive stats of the ages in each age bin using the hierarchical indexing method. "
   ]
  },
  {
   "cell_type": "markdown",
   "id": "11494e09-8559-4967-bb1a-d160acbc1a05",
   "metadata": {},
   "source": [
    "# Chapter 11 "
   ]
  },
  {
   "cell_type": "code",
   "execution_count": 1263,
   "id": "c92cef40-2f15-4c71-b504-316203388bb9",
   "metadata": {},
   "outputs": [
    {
     "name": "stdout",
     "output_type": "stream",
     "text": [
      "Internal ID\n",
      "Q1: GOING OUT?\n",
      "Q2: GENDER\n",
      "Q3: AGE\n",
      "Q4: COUNTRY\n",
      "Q5: STATE, PROVINCE, COUNTY, ETC\n",
      "Q6 | 100 Grand Bar\n",
      "Q6 | Anonymous brown globs that come in black and orange wrappers\t(a.k.a. Mary Janes)\n",
      "Q6 | Any full-sized candy bar\n",
      "Q6 | Black Jacks\n",
      "Q6 | Bonkers (the candy)\n",
      "Q6 | Bonkers (the board game)\n",
      "Q6 | Bottle Caps\n",
      "Q6 | Box'o'Raisins\n",
      "Q6 | Broken glow stick\n",
      "Q6 | Butterfinger\n",
      "Q6 | Cadbury Creme Eggs\n",
      "Q6 | Candy Corn\n",
      "Q6 | Candy that is clearly just the stuff given out for free at restaurants\n",
      "Q6 | Caramellos\n",
      "Q6 | Cash, or other forms of legal tender\n",
      "Q6 | Chardonnay\n",
      "Q6 | Chick-o-Sticks (we don’t know what that is)\n",
      "Q6 | Chiclets\n",
      "Q6 | Coffee Crisp\n",
      "Q6 | Creepy Religious comics/Chick Tracts\n",
      "Q6 | Dental paraphenalia\n",
      "Q6 | Dots\n",
      "Q6 | Dove Bars\n",
      "Q6 | Fuzzy Peaches\n",
      "Q6 | Generic Brand Acetaminophen\n",
      "Q6 | Glow sticks\n",
      "Q6 | Goo Goo Clusters\n",
      "Q6 | Good N' Plenty\n",
      "Q6 | Gum from baseball cards\n",
      "Q6 | Gummy Bears straight up\n",
      "Q6 | Hard Candy\n",
      "Q6 | Healthy Fruit\n",
      "Q6 | Heath Bar\n",
      "Q6 | Hershey's Dark Chocolate\n",
      "Q6 | Hershey’s Milk Chocolate\n",
      "Q6 | Hershey's Kisses\n",
      "Q6 | Hugs (actual physical hugs)\n",
      "Q6 | Jolly Rancher (bad flavor)\n",
      "Q6 | Jolly Ranchers (good flavor)\n",
      "Q6 | JoyJoy (Mit Iodine!)\n",
      "Q6 | Junior Mints\n",
      "Q6 | Senior Mints\n",
      "Q6 | Kale smoothie\n",
      "Q6 | Kinder Happy Hippo\n",
      "Q6 | Kit Kat\n",
      "Q6 | LaffyTaffy\n",
      "Q6 | LemonHeads\n",
      "Q6 | Licorice (not black)\n",
      "Q6 | Licorice (yes black)\n",
      "Q6 | Lindt Truffle\n",
      "Q6 | Lollipops\n",
      "Q6 | Mars\n",
      "Q6 | Maynards\n",
      "Q6 | Mike and Ike\n",
      "Q6 | Milk Duds\n",
      "Q6 | Milky Way\n",
      "Q6 | Regular M&Ms\n",
      "Q6 | Peanut M&M’s\n",
      "Q6 | Blue M&M's\n",
      "Q6 | Red M&M's\n",
      "Q6 | Green Party M&M's\n",
      "Q6 | Independent M&M's\n",
      "Q6 | Abstained from M&M'ing.\n",
      "Q6 | Minibags of chips\n",
      "Q6 | Mint Kisses\n",
      "Q6 | Mint Juleps\n",
      "Q6 | Mr. Goodbar\n",
      "Q6 | Necco Wafers\n",
      "Q6 | Nerds\n",
      "Q6 | Nestle Crunch\n",
      "Q6 | Now'n'Laters\n",
      "Q6 | Peeps\n",
      "Q6 | Pencils\n",
      "Q6 | Pixy Stix\n",
      "Q6 | Real Housewives of Orange County Season 9 Blue-Ray\n",
      "Q6 | Reese’s Peanut Butter Cups\n",
      "Q6 | Reese's Pieces\n",
      "Q6 | Reggie Jackson Bar\n",
      "Q6 | Rolos\n",
      "Q6 | Sandwich-sized bags filled with BooBerry Crunch\n",
      "Q6 | Skittles\n",
      "Q6 | Smarties (American)\n",
      "Q6 | Smarties (Commonwealth)\n",
      "Q6 | Snickers\n",
      "Q6 | Sourpatch Kids (i.e. abominations of nature)\n",
      "Q6 | Spotted Dick\n",
      "Q6 | Starburst\n",
      "Q6 | Sweet Tarts\n",
      "Q6 | Swedish Fish\n",
      "Q6 | Sweetums (a friend to diabetes)\n",
      "Q6 | Take 5\n",
      "Q6 | Tic Tacs\n",
      "Q6 | Those odd marshmallow circus peanut things\n",
      "Q6 | Three Musketeers\n",
      "Q6 | Tolberone something or other\n",
      "Q6 | Trail Mix\n",
      "Q6 | Twix\n",
      "Q6 | Vials of pure high fructose corn syrup, for main-lining into your vein\n",
      "Q6 | Vicodin\n",
      "Q6 | Whatchamacallit Bars\n",
      "Q6 | White Bread\n",
      "Q6 | Whole Wheat anything\n",
      "Q6 | York Peppermint Patties\n",
      "Q7: JOY OTHER\n",
      "Q8: DESPAIR OTHER\n",
      "Q9: OTHER COMMENTS\n",
      "Q10: DRESS\n",
      "Unnamed: 113\n",
      "Q11: DAY\n",
      "Q12: MEDIA [Daily Dish]\n",
      "Q12: MEDIA [Science]\n",
      "Q12: MEDIA [ESPN]\n",
      "Q12: MEDIA [Yahoo]\n",
      "Click Coordinates (x, y)\n",
      "age_bins\n"
     ]
    }
   ],
   "source": [
    "for column in candy.columns:\n",
    "    print(column)"
   ]
  },
  {
   "cell_type": "code",
   "execution_count": 1271,
   "id": "7db042d7-55eb-422a-93f0-e717511b16d3",
   "metadata": {},
   "outputs": [
    {
     "ename": "KeyError",
     "evalue": "'Unnamed: 133'",
     "output_type": "error",
     "traceback": [
      "\u001b[0;31m---------------------------------------------------------------------------\u001b[0m",
      "\u001b[0;31mKeyError\u001b[0m                                  Traceback (most recent call last)",
      "File \u001b[0;32m/opt/anaconda3/lib/python3.11/site-packages/pandas/core/indexes/base.py:3791\u001b[0m, in \u001b[0;36mIndex.get_loc\u001b[0;34m(self, key)\u001b[0m\n\u001b[1;32m   3790\u001b[0m \u001b[38;5;28;01mtry\u001b[39;00m:\n\u001b[0;32m-> 3791\u001b[0m     \u001b[38;5;28;01mreturn\u001b[39;00m \u001b[38;5;28mself\u001b[39m\u001b[38;5;241m.\u001b[39m_engine\u001b[38;5;241m.\u001b[39mget_loc(casted_key)\n\u001b[1;32m   3792\u001b[0m \u001b[38;5;28;01mexcept\u001b[39;00m \u001b[38;5;167;01mKeyError\u001b[39;00m \u001b[38;5;28;01mas\u001b[39;00m err:\n",
      "File \u001b[0;32mindex.pyx:152\u001b[0m, in \u001b[0;36mpandas._libs.index.IndexEngine.get_loc\u001b[0;34m()\u001b[0m\n",
      "File \u001b[0;32mindex.pyx:181\u001b[0m, in \u001b[0;36mpandas._libs.index.IndexEngine.get_loc\u001b[0;34m()\u001b[0m\n",
      "File \u001b[0;32mpandas/_libs/hashtable_class_helper.pxi:7080\u001b[0m, in \u001b[0;36mpandas._libs.hashtable.PyObjectHashTable.get_item\u001b[0;34m()\u001b[0m\n",
      "File \u001b[0;32mpandas/_libs/hashtable_class_helper.pxi:7088\u001b[0m, in \u001b[0;36mpandas._libs.hashtable.PyObjectHashTable.get_item\u001b[0;34m()\u001b[0m\n",
      "\u001b[0;31mKeyError\u001b[0m: 'Unnamed: 133'",
      "\nThe above exception was the direct cause of the following exception:\n",
      "\u001b[0;31mKeyError\u001b[0m                                  Traceback (most recent call last)",
      "Cell \u001b[0;32mIn[1271], line 2\u001b[0m\n\u001b[1;32m      1\u001b[0m \u001b[38;5;66;03m#candy['Q11: DAY']\u001b[39;00m\n\u001b[0;32m----> 2\u001b[0m candy[\u001b[38;5;124m'\u001b[39m\u001b[38;5;124mUnnamed: 133\u001b[39m\u001b[38;5;124m'\u001b[39m]\n",
      "File \u001b[0;32m/opt/anaconda3/lib/python3.11/site-packages/pandas/core/frame.py:3893\u001b[0m, in \u001b[0;36mDataFrame.__getitem__\u001b[0;34m(self, key)\u001b[0m\n\u001b[1;32m   3891\u001b[0m \u001b[38;5;28;01mif\u001b[39;00m \u001b[38;5;28mself\u001b[39m\u001b[38;5;241m.\u001b[39mcolumns\u001b[38;5;241m.\u001b[39mnlevels \u001b[38;5;241m>\u001b[39m \u001b[38;5;241m1\u001b[39m:\n\u001b[1;32m   3892\u001b[0m     \u001b[38;5;28;01mreturn\u001b[39;00m \u001b[38;5;28mself\u001b[39m\u001b[38;5;241m.\u001b[39m_getitem_multilevel(key)\n\u001b[0;32m-> 3893\u001b[0m indexer \u001b[38;5;241m=\u001b[39m \u001b[38;5;28mself\u001b[39m\u001b[38;5;241m.\u001b[39mcolumns\u001b[38;5;241m.\u001b[39mget_loc(key)\n\u001b[1;32m   3894\u001b[0m \u001b[38;5;28;01mif\u001b[39;00m is_integer(indexer):\n\u001b[1;32m   3895\u001b[0m     indexer \u001b[38;5;241m=\u001b[39m [indexer]\n",
      "File \u001b[0;32m/opt/anaconda3/lib/python3.11/site-packages/pandas/core/indexes/base.py:3798\u001b[0m, in \u001b[0;36mIndex.get_loc\u001b[0;34m(self, key)\u001b[0m\n\u001b[1;32m   3793\u001b[0m     \u001b[38;5;28;01mif\u001b[39;00m \u001b[38;5;28misinstance\u001b[39m(casted_key, \u001b[38;5;28mslice\u001b[39m) \u001b[38;5;129;01mor\u001b[39;00m (\n\u001b[1;32m   3794\u001b[0m         \u001b[38;5;28misinstance\u001b[39m(casted_key, abc\u001b[38;5;241m.\u001b[39mIterable)\n\u001b[1;32m   3795\u001b[0m         \u001b[38;5;129;01mand\u001b[39;00m \u001b[38;5;28many\u001b[39m(\u001b[38;5;28misinstance\u001b[39m(x, \u001b[38;5;28mslice\u001b[39m) \u001b[38;5;28;01mfor\u001b[39;00m x \u001b[38;5;129;01min\u001b[39;00m casted_key)\n\u001b[1;32m   3796\u001b[0m     ):\n\u001b[1;32m   3797\u001b[0m         \u001b[38;5;28;01mraise\u001b[39;00m InvalidIndexError(key)\n\u001b[0;32m-> 3798\u001b[0m     \u001b[38;5;28;01mraise\u001b[39;00m \u001b[38;5;167;01mKeyError\u001b[39;00m(key) \u001b[38;5;28;01mfrom\u001b[39;00m \u001b[38;5;21;01merr\u001b[39;00m\n\u001b[1;32m   3799\u001b[0m \u001b[38;5;28;01mexcept\u001b[39;00m \u001b[38;5;167;01mTypeError\u001b[39;00m:\n\u001b[1;32m   3800\u001b[0m     \u001b[38;5;66;03m# If we have a listlike key, _check_indexing_error will raise\u001b[39;00m\n\u001b[1;32m   3801\u001b[0m     \u001b[38;5;66;03m#  InvalidIndexError. Otherwise we fall through and re-raise\u001b[39;00m\n\u001b[1;32m   3802\u001b[0m     \u001b[38;5;66;03m#  the TypeError.\u001b[39;00m\n\u001b[1;32m   3803\u001b[0m     \u001b[38;5;28mself\u001b[39m\u001b[38;5;241m.\u001b[39m_check_indexing_error(key)\n",
      "\u001b[0;31mKeyError\u001b[0m: 'Unnamed: 133'"
     ]
    }
   ],
   "source": [
    "candy['Q11: DAY']\n",
    "candy['Unnamed: 133']"
   ]
  },
  {
   "cell_type": "code",
   "execution_count": null,
   "id": "9bce92fc-b350-48e9-87e3-2b269aec5bae",
   "metadata": {},
   "outputs": [],
   "source": []
  }
 ],
 "metadata": {
  "kernelspec": {
   "display_name": "Python 3 (ipykernel)",
   "language": "python",
   "name": "python3"
  },
  "language_info": {
   "codemirror_mode": {
    "name": "ipython",
    "version": 3
   },
   "file_extension": ".py",
   "mimetype": "text/x-python",
   "name": "python",
   "nbconvert_exporter": "python",
   "pygments_lexer": "ipython3",
   "version": "3.11.7"
  }
 },
 "nbformat": 4,
 "nbformat_minor": 5
}
