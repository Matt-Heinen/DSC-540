{
 "cells": [
  {
   "cell_type": "code",
   "execution_count": 1084,
   "id": "499826c7-ab01-464a-a0a7-6f720cb98f8b",
   "metadata": {},
   "outputs": [],
   "source": [
    "# DSC 540\n",
    "# Weeks 5 & 6\n",
    "# Summer 2024\n",
    "# Weeks 5 & 6 Exercises\n",
    "# Created By Matthew Heinen\n",
    "# 7/6/24"
   ]
  },
  {
   "cell_type": "markdown",
   "id": "2c20b77a-34f6-4832-b71f-57b4d0227b4c",
   "metadata": {},
   "source": [
    "# Chapter 7: "
   ]
  },
  {
   "cell_type": "code",
   "execution_count": 1086,
   "id": "0bded605-4ca1-45b4-832c-775ad5718781",
   "metadata": {},
   "outputs": [],
   "source": [
    "# Read in data file. \n",
    "\n",
    "# Import packages \n",
    "import pandas as pd"
   ]
  },
  {
   "cell_type": "code",
   "execution_count": 1087,
   "id": "e0a39f1e-b2af-48f2-8400-6b43bd9dd387",
   "metadata": {},
   "outputs": [
    {
     "name": "stderr",
     "output_type": "stream",
     "text": [
      "/opt/anaconda3/lib/python3.11/site-packages/openpyxl/worksheet/_read_only.py:79: UserWarning: Unknown extension is not supported and will be removed\n",
      "  for idx, row in parser.parse():\n"
     ]
    }
   ],
   "source": [
    "# read in candyhieracrhy2017.csv. \n",
    "candy = pd.read_excel(\"candyhierarchy2017.xlsx\")"
   ]
  },
  {
   "cell_type": "code",
   "execution_count": 1088,
   "id": "564461c6-d621-464d-ac49-a31351c78951",
   "metadata": {},
   "outputs": [
    {
     "data": {
      "text/html": [
       "<div>\n",
       "<style scoped>\n",
       "    .dataframe tbody tr th:only-of-type {\n",
       "        vertical-align: middle;\n",
       "    }\n",
       "\n",
       "    .dataframe tbody tr th {\n",
       "        vertical-align: top;\n",
       "    }\n",
       "\n",
       "    .dataframe thead th {\n",
       "        text-align: right;\n",
       "    }\n",
       "</style>\n",
       "<table border=\"1\" class=\"dataframe\">\n",
       "  <thead>\n",
       "    <tr style=\"text-align: right;\">\n",
       "      <th></th>\n",
       "      <th>Internal ID</th>\n",
       "      <th>Q1: GOING OUT?</th>\n",
       "      <th>Q2: GENDER</th>\n",
       "      <th>Q3: AGE</th>\n",
       "      <th>Q4: COUNTRY</th>\n",
       "      <th>Q5: STATE, PROVINCE, COUNTY, ETC</th>\n",
       "      <th>Q6 | 100 Grand Bar</th>\n",
       "      <th>Q6 | Anonymous brown globs that come in black and orange wrappers\\t(a.k.a. Mary Janes)</th>\n",
       "      <th>Q6 | Any full-sized candy bar</th>\n",
       "      <th>Q6 | Black Jacks</th>\n",
       "      <th>...</th>\n",
       "      <th>Q8: DESPAIR OTHER</th>\n",
       "      <th>Q9: OTHER COMMENTS</th>\n",
       "      <th>Q10: DRESS</th>\n",
       "      <th>Unnamed: 113</th>\n",
       "      <th>Q11: DAY</th>\n",
       "      <th>Q12: MEDIA [Daily Dish]</th>\n",
       "      <th>Q12: MEDIA [Science]</th>\n",
       "      <th>Q12: MEDIA [ESPN]</th>\n",
       "      <th>Q12: MEDIA [Yahoo]</th>\n",
       "      <th>Click Coordinates (x, y)</th>\n",
       "    </tr>\n",
       "  </thead>\n",
       "  <tbody>\n",
       "    <tr>\n",
       "      <th>0</th>\n",
       "      <td>90258773</td>\n",
       "      <td>NaN</td>\n",
       "      <td>NaN</td>\n",
       "      <td>NaN</td>\n",
       "      <td>NaN</td>\n",
       "      <td>NaN</td>\n",
       "      <td>NaN</td>\n",
       "      <td>NaN</td>\n",
       "      <td>NaN</td>\n",
       "      <td>NaN</td>\n",
       "      <td>...</td>\n",
       "      <td>NaN</td>\n",
       "      <td>NaN</td>\n",
       "      <td>NaN</td>\n",
       "      <td>NaN</td>\n",
       "      <td>NaN</td>\n",
       "      <td>NaN</td>\n",
       "      <td>NaN</td>\n",
       "      <td>NaN</td>\n",
       "      <td>NaN</td>\n",
       "      <td>NaN</td>\n",
       "    </tr>\n",
       "    <tr>\n",
       "      <th>1</th>\n",
       "      <td>90272821</td>\n",
       "      <td>No</td>\n",
       "      <td>Male</td>\n",
       "      <td>44</td>\n",
       "      <td>USA</td>\n",
       "      <td>NM</td>\n",
       "      <td>MEH</td>\n",
       "      <td>DESPAIR</td>\n",
       "      <td>JOY</td>\n",
       "      <td>MEH</td>\n",
       "      <td>...</td>\n",
       "      <td>NaN</td>\n",
       "      <td>Bottom line is Twix is really the only candy w...</td>\n",
       "      <td>White and gold</td>\n",
       "      <td>NaN</td>\n",
       "      <td>Sunday</td>\n",
       "      <td>NaN</td>\n",
       "      <td>1.0</td>\n",
       "      <td>NaN</td>\n",
       "      <td>NaN</td>\n",
       "      <td>(84, 25)</td>\n",
       "    </tr>\n",
       "    <tr>\n",
       "      <th>2</th>\n",
       "      <td>90272829</td>\n",
       "      <td>NaN</td>\n",
       "      <td>Male</td>\n",
       "      <td>49</td>\n",
       "      <td>USA</td>\n",
       "      <td>Virginia</td>\n",
       "      <td>NaN</td>\n",
       "      <td>NaN</td>\n",
       "      <td>NaN</td>\n",
       "      <td>NaN</td>\n",
       "      <td>...</td>\n",
       "      <td>NaN</td>\n",
       "      <td>NaN</td>\n",
       "      <td>NaN</td>\n",
       "      <td>NaN</td>\n",
       "      <td>NaN</td>\n",
       "      <td>NaN</td>\n",
       "      <td>NaN</td>\n",
       "      <td>NaN</td>\n",
       "      <td>NaN</td>\n",
       "      <td>NaN</td>\n",
       "    </tr>\n",
       "    <tr>\n",
       "      <th>3</th>\n",
       "      <td>90272840</td>\n",
       "      <td>No</td>\n",
       "      <td>Male</td>\n",
       "      <td>40</td>\n",
       "      <td>us</td>\n",
       "      <td>or</td>\n",
       "      <td>MEH</td>\n",
       "      <td>DESPAIR</td>\n",
       "      <td>JOY</td>\n",
       "      <td>MEH</td>\n",
       "      <td>...</td>\n",
       "      <td>NaN</td>\n",
       "      <td>Raisins can go to hell</td>\n",
       "      <td>White and gold</td>\n",
       "      <td>NaN</td>\n",
       "      <td>Sunday</td>\n",
       "      <td>NaN</td>\n",
       "      <td>1.0</td>\n",
       "      <td>NaN</td>\n",
       "      <td>NaN</td>\n",
       "      <td>(75, 23)</td>\n",
       "    </tr>\n",
       "    <tr>\n",
       "      <th>4</th>\n",
       "      <td>90272841</td>\n",
       "      <td>No</td>\n",
       "      <td>Male</td>\n",
       "      <td>23</td>\n",
       "      <td>usa</td>\n",
       "      <td>exton pa</td>\n",
       "      <td>JOY</td>\n",
       "      <td>DESPAIR</td>\n",
       "      <td>JOY</td>\n",
       "      <td>DESPAIR</td>\n",
       "      <td>...</td>\n",
       "      <td>NaN</td>\n",
       "      <td>NaN</td>\n",
       "      <td>White and gold</td>\n",
       "      <td>NaN</td>\n",
       "      <td>Friday</td>\n",
       "      <td>NaN</td>\n",
       "      <td>1.0</td>\n",
       "      <td>NaN</td>\n",
       "      <td>NaN</td>\n",
       "      <td>(70, 10)</td>\n",
       "    </tr>\n",
       "  </tbody>\n",
       "</table>\n",
       "<p>5 rows × 120 columns</p>\n",
       "</div>"
      ],
      "text/plain": [
       "   Internal ID Q1: GOING OUT? Q2: GENDER Q3: AGE Q4: COUNTRY  \\\n",
       "0     90258773            NaN        NaN     NaN         NaN   \n",
       "1     90272821             No       Male      44        USA    \n",
       "2     90272829            NaN       Male      49         USA   \n",
       "3     90272840             No       Male      40          us   \n",
       "4     90272841             No       Male      23         usa   \n",
       "\n",
       "  Q5: STATE, PROVINCE, COUNTY, ETC Q6 | 100 Grand Bar  \\\n",
       "0                              NaN                NaN   \n",
       "1                               NM                MEH   \n",
       "2                         Virginia                NaN   \n",
       "3                               or                MEH   \n",
       "4                         exton pa                JOY   \n",
       "\n",
       "  Q6 | Anonymous brown globs that come in black and orange wrappers\\t(a.k.a. Mary Janes)  \\\n",
       "0                                                NaN                                       \n",
       "1                                            DESPAIR                                       \n",
       "2                                                NaN                                       \n",
       "3                                            DESPAIR                                       \n",
       "4                                            DESPAIR                                       \n",
       "\n",
       "  Q6 | Any full-sized candy bar Q6 | Black Jacks  ... Q8: DESPAIR OTHER  \\\n",
       "0                           NaN              NaN  ...               NaN   \n",
       "1                           JOY              MEH  ...               NaN   \n",
       "2                           NaN              NaN  ...               NaN   \n",
       "3                           JOY              MEH  ...               NaN   \n",
       "4                           JOY          DESPAIR  ...               NaN   \n",
       "\n",
       "                                  Q9: OTHER COMMENTS      Q10: DRESS  \\\n",
       "0                                                NaN             NaN   \n",
       "1  Bottom line is Twix is really the only candy w...  White and gold   \n",
       "2                                                NaN             NaN   \n",
       "3                             Raisins can go to hell  White and gold   \n",
       "4                                                NaN  White and gold   \n",
       "\n",
       "  Unnamed: 113 Q11: DAY Q12: MEDIA [Daily Dish] Q12: MEDIA [Science]  \\\n",
       "0          NaN      NaN                     NaN                  NaN   \n",
       "1          NaN   Sunday                     NaN                  1.0   \n",
       "2          NaN      NaN                     NaN                  NaN   \n",
       "3          NaN   Sunday                     NaN                  1.0   \n",
       "4          NaN   Friday                     NaN                  1.0   \n",
       "\n",
       "  Q12: MEDIA [ESPN] Q12: MEDIA [Yahoo] Click Coordinates (x, y)  \n",
       "0               NaN                NaN                      NaN  \n",
       "1               NaN                NaN                 (84, 25)  \n",
       "2               NaN                NaN                      NaN  \n",
       "3               NaN                NaN                 (75, 23)  \n",
       "4               NaN                NaN                 (70, 10)  \n",
       "\n",
       "[5 rows x 120 columns]"
      ]
     },
     "execution_count": 1088,
     "metadata": {},
     "output_type": "execute_result"
    }
   ],
   "source": [
    "# Display candy to verify read in \n",
    "candy.head()"
   ]
  },
  {
   "cell_type": "code",
   "execution_count": 1089,
   "id": "c02f62c1-145b-4556-ad6f-cf4cf1c6673c",
   "metadata": {},
   "outputs": [
    {
     "data": {
      "text/plain": [
       "(2460, 120)"
      ]
     },
     "execution_count": 1089,
     "metadata": {},
     "output_type": "execute_result"
    }
   ],
   "source": [
    "# print current size of df. \n",
    "candy.shape"
   ]
  },
  {
   "cell_type": "markdown",
   "id": "4a78ca8e-c036-4ddf-88e2-1b75eacc8cb1",
   "metadata": {},
   "source": [
    "## Filter out missing data:"
   ]
  },
  {
   "cell_type": "code",
   "execution_count": 1091,
   "id": "9db47c53-b7d5-45c2-96c0-d3376e14e332",
   "metadata": {},
   "outputs": [
    {
     "data": {
      "text/plain": [
       "(2460, 120)"
      ]
     },
     "execution_count": 1091,
     "metadata": {},
     "output_type": "execute_result"
    }
   ],
   "source": [
    "# Use dropna to drop all columns that are completely empty. \n",
    "# Pass Axis 1 to drop columns. \n",
    "\n",
    "candy = candy.dropna(axis =1, how ='all')\n",
    "\n",
    "# Print Candy shape \n",
    "candy.shape"
   ]
  },
  {
   "cell_type": "markdown",
   "id": "96ce3cf5-b75b-4b09-a51d-0965f3cc1fbf",
   "metadata": {},
   "source": [
    "Here we see that no columns were completely empty. "
   ]
  },
  {
   "cell_type": "code",
   "execution_count": 1093,
   "id": "8a85b1d4-afee-4053-99cb-1f6865d516f2",
   "metadata": {},
   "outputs": [
    {
     "data": {
      "text/plain": [
       "(2460, 120)"
      ]
     },
     "execution_count": 1093,
     "metadata": {},
     "output_type": "execute_result"
    }
   ],
   "source": [
    "# Use dropna to drop all rows that are completely empty. \n",
    "# pass how = \"all to drop rows that are all na\n",
    "\n",
    "candy = candy.dropna(how='all')\n",
    "\n",
    "# Print Candy shape \n",
    "candy.shape"
   ]
  },
  {
   "cell_type": "markdown",
   "id": "ccdb30b7-8c59-4c64-b24c-311bd128271b",
   "metadata": {},
   "source": [
    "Here we can see that there are no rows that are completly empty. "
   ]
  },
  {
   "cell_type": "code",
   "execution_count": 1095,
   "id": "4b340ce9-58d6-41e3-aa35-d12b50f46c6c",
   "metadata": {},
   "outputs": [
    {
     "name": "stdout",
     "output_type": "stream",
     "text": [
      "(2352, 120)\n"
     ]
    }
   ],
   "source": [
    "# Evaluate age \n",
    "# Test if a value in a column is numeric and remove the rows\n",
    "candy['Q3: AGE'] = pd.to_numeric(candy['Q3: AGE'], errors='coerce')  # Convert to numeric, coerce non-numeric values to NaN\n",
    "\n",
    "\n",
    "# Remove rows with NaN values in column 'Q3: AGE'\n",
    "# Use drop NA\n",
    "candy = candy.dropna(subset=['Q3: AGE'])  \n",
    "\n",
    "# print size \n",
    "print(candy.shape)\n"
   ]
  },
  {
   "cell_type": "markdown",
   "id": "f0f4bdeb-ec3a-4eda-9936-d08874af5e44",
   "metadata": {},
   "source": [
    "Here we have removed rows where the value input in age was non numeric. "
   ]
  },
  {
   "cell_type": "markdown",
   "id": "faadf5ec-3d7c-447e-a7ea-4fe7d179d5c0",
   "metadata": {},
   "source": [
    "# Remove Duplicates"
   ]
  },
  {
   "cell_type": "code",
   "execution_count": 1098,
   "id": "eca695d9-1e5c-4700-8294-fc4bd432e621",
   "metadata": {},
   "outputs": [
    {
     "data": {
      "text/plain": [
       "(2352, 120)"
      ]
     },
     "execution_count": 1098,
     "metadata": {},
     "output_type": "execute_result"
    }
   ],
   "source": [
    "# check to see if any rows are duplicates or repeats\n",
    "# use drop_duplicates\n",
    "candy = candy.drop_duplicates()\n",
    "\n",
    "#print shape\n",
    "candy.shape"
   ]
  },
  {
   "cell_type": "markdown",
   "id": "600176ab-86aa-48f9-8bab-9423767cc20e",
   "metadata": {},
   "source": [
    "Here we see that now rows are complete duplicates. "
   ]
  },
  {
   "cell_type": "code",
   "execution_count": 1100,
   "id": "61b5042f-4b0e-4559-b5e1-98590808aa40",
   "metadata": {},
   "outputs": [
    {
     "data": {
      "text/plain": [
       "(2352, 120)"
      ]
     },
     "execution_count": 1100,
     "metadata": {},
     "output_type": "execute_result"
    }
   ],
   "source": [
    "# Check to see if any of the internal ID is duplicated, meaning we have multiple records for the same person. \n",
    "candy = candy.drop_duplicates(['Internal ID'])\n",
    "\n",
    "#print shape\n",
    "candy.shape"
   ]
  },
  {
   "cell_type": "markdown",
   "id": "5894c1b8-602d-407a-ac75-e7cb1276d66b",
   "metadata": {},
   "source": [
    " Here we see that we have no duplicate rows or entries. "
   ]
  },
  {
   "cell_type": "markdown",
   "id": "2c7c6972-0b45-4d67-80e4-5339ee54a020",
   "metadata": {},
   "source": [
    "## Discretization and Binning\n",
    "\n",
    "lets create some bins based on the age demographic. \n"
   ]
  },
  {
   "cell_type": "code",
   "execution_count": 1103,
   "id": "266cc19e-7f96-47e5-9553-3859b3ddb32b",
   "metadata": {},
   "outputs": [
    {
     "name": "stdout",
     "output_type": "stream",
     "text": [
      "count    2352.000000\n",
      "mean       42.617304\n",
      "std        23.846531\n",
      "min         1.000000\n",
      "25%        34.000000\n",
      "50%        41.000000\n",
      "75%        50.000000\n",
      "max      1000.000000\n",
      "Name: Q3: AGE, dtype: float64\n"
     ]
    }
   ],
   "source": [
    "# Use describe to find some summary stats on age. \n",
    "\n",
    "print(candy['Q3: AGE'].describe())"
   ]
  },
  {
   "cell_type": "markdown",
   "id": "b8fe394a-31f5-440d-94c1-a7d657a416d5",
   "metadata": {},
   "source": [
    "Here we can see that we have some outliers. ages 1 and 1000 are for sure outliers. lets remove those values by filtering out df. "
   ]
  },
  {
   "cell_type": "code",
   "execution_count": 1105,
   "id": "7a5ab90e-0a46-4132-ac4c-f1137814ce06",
   "metadata": {},
   "outputs": [
    {
     "name": "stdout",
     "output_type": "stream",
     "text": [
      "(2337, 120)\n"
     ]
    }
   ],
   "source": [
    "# Use .loc to filter outliers from the age column of the dataset \n",
    "candy = candy.loc[(candy['Q3: AGE'] >= 10) & (candy['Q3: AGE'] <= 100)]\n",
    "\n",
    "#Print shape\n",
    "print(candy.shape)"
   ]
  },
  {
   "cell_type": "code",
   "execution_count": 1106,
   "id": "758f6aba-0e6b-4d29-a4aa-26f2fd70512b",
   "metadata": {},
   "outputs": [],
   "source": [
    "# use pd.cut to create age bins in df. \n",
    "\n",
    "# Create bins and labels \n",
    "bins = [10, 18, 30, 50, 100] \n",
    "labels = ['10-18', '19-30', '31-50', '51-100']\n",
    "\n",
    "# create the bins and add column called 'age_bins' \n",
    "candy['age_bins'] = pd.cut(candy['Q3: AGE'], bins=bins, labels=labels)"
   ]
  },
  {
   "cell_type": "code",
   "execution_count": 1107,
   "id": "21fdce8f-4f8d-4b56-9827-ae4c3489c2c9",
   "metadata": {},
   "outputs": [
    {
     "data": {
      "text/plain": [
       "<bound method NDFrame.head of       Internal ID Q1: GOING OUT? Q2: GENDER  Q3: AGE Q4: COUNTRY  \\\n",
       "1        90272821             No       Male     44.0        USA    \n",
       "2        90272829            NaN       Male     49.0         USA   \n",
       "3        90272840             No       Male     40.0          us   \n",
       "4        90272841             No       Male     23.0         usa   \n",
       "6        90272853             No       Male     53.0         usa   \n",
       "...           ...            ...        ...      ...         ...   \n",
       "2455     90314359             No       Male     24.0         USA   \n",
       "2456     90314580             No     Female     33.0         USA   \n",
       "2457     90314634             No     Female     26.0        USA    \n",
       "2458     90314658             No       Male     58.0         Usa   \n",
       "2459     90314802             No     Female     66.0         usa   \n",
       "\n",
       "     Q5: STATE, PROVINCE, COUNTY, ETC Q6 | 100 Grand Bar  \\\n",
       "1                                  NM                MEH   \n",
       "2                            Virginia                NaN   \n",
       "3                                  or                MEH   \n",
       "4                            exton pa                JOY   \n",
       "6                           Colorado                 NaN   \n",
       "...                               ...                ...   \n",
       "2455                               MD                JOY   \n",
       "2456                         New York                MEH   \n",
       "2457                        Tennessee                MEH   \n",
       "2458                   North Carolina                NaN   \n",
       "2459                     Pennsylvania            DESPAIR   \n",
       "\n",
       "     Q6 | Anonymous brown globs that come in black and orange wrappers\\t(a.k.a. Mary Janes)  \\\n",
       "1                                               DESPAIR                                       \n",
       "2                                                   NaN                                       \n",
       "3                                               DESPAIR                                       \n",
       "4                                               DESPAIR                                       \n",
       "6                                                   NaN                                       \n",
       "...                                                 ...                                       \n",
       "2455                                            DESPAIR                                       \n",
       "2456                                            DESPAIR                                       \n",
       "2457                                            DESPAIR                                       \n",
       "2458                                                NaN                                       \n",
       "2459                                            DESPAIR                                       \n",
       "\n",
       "     Q6 | Any full-sized candy bar Q6 | Black Jacks  ...  \\\n",
       "1                              JOY              MEH  ...   \n",
       "2                              NaN              NaN  ...   \n",
       "3                              JOY              MEH  ...   \n",
       "4                              JOY          DESPAIR  ...   \n",
       "6                              NaN              NaN  ...   \n",
       "...                            ...              ...  ...   \n",
       "2455                           MEH          DESPAIR  ...   \n",
       "2456                           JOY              NaN  ...   \n",
       "2457                           JOY          DESPAIR  ...   \n",
       "2458                           NaN              NaN  ...   \n",
       "2459                           JOY          DESPAIR  ...   \n",
       "\n",
       "                                     Q9: OTHER COMMENTS      Q10: DRESS  \\\n",
       "1     Bottom line is Twix is really the only candy w...  White and gold   \n",
       "2                                                   NaN             NaN   \n",
       "3                                Raisins can go to hell  White and gold   \n",
       "4                                                   NaN  White and gold   \n",
       "6                                                   NaN             NaN   \n",
       "...                                                 ...             ...   \n",
       "2455                                                NaN  White and gold   \n",
       "2456                                                NaN  Blue and black   \n",
       "2457                                                NaN  Blue and black   \n",
       "2458                                                NaN             NaN   \n",
       "2459  You hit all my chocolate highlights, and broug...  White and gold   \n",
       "\n",
       "     Unnamed: 113 Q11: DAY Q12: MEDIA [Daily Dish] Q12: MEDIA [Science]  \\\n",
       "1             NaN   Sunday                     NaN                  1.0   \n",
       "2             NaN      NaN                     NaN                  NaN   \n",
       "3             NaN   Sunday                     NaN                  1.0   \n",
       "4             NaN   Friday                     NaN                  1.0   \n",
       "6             NaN      NaN                     NaN                  NaN   \n",
       "...           ...      ...                     ...                  ...   \n",
       "2455          NaN   Friday                     NaN                  NaN   \n",
       "2456          NaN   Friday                     NaN                  1.0   \n",
       "2457          NaN   Friday                     NaN                  1.0   \n",
       "2458          NaN      NaN                     NaN                  NaN   \n",
       "2459          NaN   Sunday                     1.0                  NaN   \n",
       "\n",
       "     Q12: MEDIA [ESPN] Q12: MEDIA [Yahoo] Click Coordinates (x, y) age_bins  \n",
       "1                  NaN                NaN                 (84, 25)    31-50  \n",
       "2                  NaN                NaN                      NaN    31-50  \n",
       "3                  NaN                NaN                 (75, 23)    31-50  \n",
       "4                  NaN                NaN                 (70, 10)    19-30  \n",
       "6                  NaN                NaN                      NaN   51-100  \n",
       "...                ...                ...                      ...      ...  \n",
       "2455               NaN                NaN                      NaN    19-30  \n",
       "2456               NaN                NaN                 (70, 26)    31-50  \n",
       "2457               NaN                NaN                 (67, 35)    19-30  \n",
       "2458               NaN                NaN                      NaN   51-100  \n",
       "2459               NaN                NaN                 (19, 26)   51-100  \n",
       "\n",
       "[2337 rows x 121 columns]>"
      ]
     },
     "execution_count": 1107,
     "metadata": {},
     "output_type": "execute_result"
    }
   ],
   "source": [
    "# Verify the binning worked. \n",
    "candy.head"
   ]
  },
  {
   "cell_type": "markdown",
   "id": "a1bc6888-f3ae-410c-acd2-2e447a808b69",
   "metadata": {},
   "source": [
    "Here we have sucessfully added the age_bins bin. "
   ]
  },
  {
   "cell_type": "markdown",
   "id": "fc4f1467-0a4a-42fb-b689-8360075aadc6",
   "metadata": {},
   "source": [
    "# Chapter 8: "
   ]
  },
  {
   "cell_type": "markdown",
   "id": "db9e6046-e85b-456e-b4bf-bdc85441ec51",
   "metadata": {},
   "source": [
    "## Create hierarchical index\n",
    "\n",
    "create a hierarchical index where the age_bins is above age. "
   ]
  },
  {
   "cell_type": "code",
   "execution_count": 1111,
   "id": "5f50e5d6-9dab-4b18-98c9-3c10374ebe22",
   "metadata": {},
   "outputs": [
    {
     "data": {
      "text/plain": [
       "(370, 3)"
      ]
     },
     "execution_count": 1111,
     "metadata": {},
     "output_type": "execute_result"
    }
   ],
   "source": [
    "# select a subset of candy for improved readability. \n",
    "\n",
    "c_small = candy[['age_bins', 'Q3: AGE', 'Q9: OTHER COMMENTS']]\n",
    "\n",
    "#Drop null \n",
    "c_small = c_small.dropna()\n",
    "\n",
    "# sort by age\n",
    "\n",
    "c_small = c_small.sort_values(by='Q3: AGE')\n",
    "\n",
    "# view\n",
    "c_small.shape\n"
   ]
  },
  {
   "cell_type": "code",
   "execution_count": 1112,
   "id": "acd468d8-a8d2-4b09-9af2-c92fcb2ad361",
   "metadata": {},
   "outputs": [
    {
     "data": {
      "text/plain": [
       "<bound method NDFrame.head of                                                  Q9: OTHER COMMENTS\n",
       "age_bins Q3: AGE                                                   \n",
       "10-18    11.0     Some of these catagories don't make any sense ...\n",
       "         11.0     I think that getting chick tracts would be fun...\n",
       "         12.0                                                   Hey\n",
       "         12.0                                I like food and horses\n",
       "         12.0     I feel like i'm gonna get diabetes this Hallow...\n",
       "...                                                             ...\n",
       "51-100   71.0     As a presenter, I give the best stuff to obvio...\n",
       "         71.0     This was the best scientific survey I have eve...\n",
       "         77.0     I qualify to take this survey because I was on...\n",
       "         88.0                    Good and Plenty all day every day.\n",
       "         90.0     Why no spare change?  More vegan options?  Wha...\n",
       "\n",
       "[370 rows x 1 columns]>"
      ]
     },
     "execution_count": 1112,
     "metadata": {},
     "output_type": "execute_result"
    }
   ],
   "source": [
    "# Use set index to create hierarchical index. \n",
    "\n",
    "c_small.set_index(['age_bins', 'Q3: AGE'], inplace=True)\n",
    "\n",
    "c_small.head"
   ]
  },
  {
   "cell_type": "markdown",
   "id": "085f4850-3127-48b4-89f0-f29de7d448bd",
   "metadata": {},
   "source": [
    "Here we see that we have created a hierarchy with the age and age bins column. "
   ]
  },
  {
   "cell_type": "code",
   "execution_count": 1114,
   "id": "c3f12fd8-efba-4153-8cfa-f1b0b617f4c0",
   "metadata": {},
   "outputs": [
    {
     "data": {
      "text/html": [
       "<div>\n",
       "<style scoped>\n",
       "    .dataframe tbody tr th:only-of-type {\n",
       "        vertical-align: middle;\n",
       "    }\n",
       "\n",
       "    .dataframe tbody tr th {\n",
       "        vertical-align: top;\n",
       "    }\n",
       "\n",
       "    .dataframe thead th {\n",
       "        text-align: right;\n",
       "    }\n",
       "</style>\n",
       "<table border=\"1\" class=\"dataframe\">\n",
       "  <thead>\n",
       "    <tr style=\"text-align: right;\">\n",
       "      <th></th>\n",
       "      <th></th>\n",
       "      <th>Q9: OTHER COMMENTS</th>\n",
       "    </tr>\n",
       "    <tr>\n",
       "      <th>age_bins</th>\n",
       "      <th>Q3: AGE</th>\n",
       "      <th></th>\n",
       "    </tr>\n",
       "  </thead>\n",
       "  <tbody>\n",
       "    <tr>\n",
       "      <th rowspan=\"5\" valign=\"top\">10-18</th>\n",
       "      <th>11.0</th>\n",
       "      <td>Some of these catagories don't make any sense ...</td>\n",
       "    </tr>\n",
       "    <tr>\n",
       "      <th>11.0</th>\n",
       "      <td>I think that getting chick tracts would be fun...</td>\n",
       "    </tr>\n",
       "    <tr>\n",
       "      <th>12.0</th>\n",
       "      <td>Hey</td>\n",
       "    </tr>\n",
       "    <tr>\n",
       "      <th>12.0</th>\n",
       "      <td>I like food and horses</td>\n",
       "    </tr>\n",
       "    <tr>\n",
       "      <th>12.0</th>\n",
       "      <td>I feel like i'm gonna get diabetes this Hallow...</td>\n",
       "    </tr>\n",
       "    <tr>\n",
       "      <th>...</th>\n",
       "      <th>...</th>\n",
       "      <td>...</td>\n",
       "    </tr>\n",
       "    <tr>\n",
       "      <th rowspan=\"5\" valign=\"top\">51-100</th>\n",
       "      <th>71.0</th>\n",
       "      <td>As a presenter, I give the best stuff to obvio...</td>\n",
       "    </tr>\n",
       "    <tr>\n",
       "      <th>71.0</th>\n",
       "      <td>This was the best scientific survey I have eve...</td>\n",
       "    </tr>\n",
       "    <tr>\n",
       "      <th>77.0</th>\n",
       "      <td>I qualify to take this survey because I was on...</td>\n",
       "    </tr>\n",
       "    <tr>\n",
       "      <th>88.0</th>\n",
       "      <td>Good and Plenty all day every day.</td>\n",
       "    </tr>\n",
       "    <tr>\n",
       "      <th>90.0</th>\n",
       "      <td>Why no spare change?  More vegan options?  Wha...</td>\n",
       "    </tr>\n",
       "  </tbody>\n",
       "</table>\n",
       "<p>370 rows × 1 columns</p>\n",
       "</div>"
      ],
      "text/plain": [
       "                                                 Q9: OTHER COMMENTS\n",
       "age_bins Q3: AGE                                                   \n",
       "10-18    11.0     Some of these catagories don't make any sense ...\n",
       "         11.0     I think that getting chick tracts would be fun...\n",
       "         12.0                                                   Hey\n",
       "         12.0                                I like food and horses\n",
       "         12.0     I feel like i'm gonna get diabetes this Hallow...\n",
       "...                                                             ...\n",
       "51-100   71.0     As a presenter, I give the best stuff to obvio...\n",
       "         71.0     This was the best scientific survey I have eve...\n",
       "         77.0     I qualify to take this survey because I was on...\n",
       "         88.0                    Good and Plenty all day every day.\n",
       "         90.0     Why no spare change?  More vegan options?  Wha...\n",
       "\n",
       "[370 rows x 1 columns]"
      ]
     },
     "execution_count": 1114,
     "metadata": {},
     "output_type": "execute_result"
    }
   ],
   "source": [
    "# Use sort incex to sort by age_bins\n",
    "c_small.sort_index(level='age_bins')\n",
    "\n",
    "# display\n",
    "c_small"
   ]
  },
  {
   "cell_type": "markdown",
   "id": "b7cf26c3-3efb-4b89-b652-6b2b4240f0f7",
   "metadata": {},
   "source": [
    "This heigheracy allows us to view each demographics other comments. "
   ]
  },
  {
   "cell_type": "markdown",
   "id": "66c9d207-0642-4eae-92c8-0a6f18d6ba9a",
   "metadata": {},
   "source": [
    "## Reshape\n"
   ]
  },
  {
   "cell_type": "code",
   "execution_count": 1117,
   "id": "8bbd551c-8e3f-494a-863d-5aebe06f20a6",
   "metadata": {},
   "outputs": [
    {
     "name": "stdout",
     "output_type": "stream",
     "text": [
      "age_bins  Q3: AGE                    \n",
      "10-18     11.0     Q9: OTHER COMMENTS    Some of these catagories don't make any sense ...\n",
      "                   Q9: OTHER COMMENTS    I think that getting chick tracts would be fun...\n",
      "          12.0     Q9: OTHER COMMENTS                                                  Hey\n",
      "                   Q9: OTHER COMMENTS                               I like food and horses\n",
      "                   Q9: OTHER COMMENTS    I feel like i'm gonna get diabetes this Hallow...\n",
      "          13.0     Q9: OTHER COMMENTS    As I do not know what around half of those ite...\n",
      "          14.0     Q9: OTHER COMMENTS         I can't tell if this survey is a joke or not\n",
      "                   Q9: OTHER COMMENTS    Since it says “mars” and not specifically a ma...\n",
      "          15.0     Q9: OTHER COMMENTS    If you give out full-sized anything (candy, fo...\n",
      "                   Q9: OTHER COMMENTS    A lot of the things i despair I didn't know, t...\n",
      "          16.0     Q9: OTHER COMMENTS              I'm not crazy. Our mother had us tested\n",
      "          18.0     Q9: OTHER COMMENTS    YAAAAAAAAAAAAAAAAAAAAAAAAAAAAAAAAAAAAAAAAAAAAA...\n",
      "                   Q9: OTHER COMMENTS                            Consider adding adderall \n",
      "19-30     19.0     Q9: OTHER COMMENTS                              You folks are awesome! \n",
      "          20.0     Q9: OTHER COMMENTS    I did it guys, I filled out the survey. I won'...\n",
      "          21.0     Q9: OTHER COMMENTS    One time there was a house that gave me a 20 d...\n",
      "                   Q9: OTHER COMMENTS    Dark chocolate tastes like broken promises. It...\n",
      "                   Q9: OTHER COMMENTS                                     Good Quiz. 10/10\n",
      "          22.0     Q9: OTHER COMMENTS    Devastated not to see ANY acknowledgement of A...\n",
      "          23.0     Q9: OTHER COMMENTS    Someone told me I get candy if I do this so wh...\n",
      "                   Q9: OTHER COMMENTS    Please assume any selection I have made that i...\n",
      "          24.0     Q9: OTHER COMMENTS    I had to Ecosia search (\"Google\") so many of t...\n",
      "                   Q9: OTHER COMMENTS    I should receive free candy of my choice for a...\n",
      "                   Q9: OTHER COMMENTS    Cheap caramel like in Milky Ways begins the ni...\n",
      "                   Q9: OTHER COMMENTS    Since chocolate and peanut butter in combinati...\n",
      "                   Q9: OTHER COMMENTS    Do people really give out vicodin and acetamin...\n",
      "          25.0     Q9: OTHER COMMENTS    Spooky scary skeletons Send shivers down your ...\n",
      "                   Q9: OTHER COMMENTS    Seriously. Mounds are the fucking worst. Excep...\n",
      "                   Q9: OTHER COMMENTS    Many of the entries on this survey make me ver...\n",
      "          26.0     Q9: OTHER COMMENTS    If you can't beat em, sweetums! Diabetes! Figh...\n",
      "                   Q9: OTHER COMMENTS    I actually get Canadian candy from people all ...\n",
      "                   Q9: OTHER COMMENTS    Smarties from the UK have a strange aftertaste...\n",
      "                   Q9: OTHER COMMENTS                            Death to coconut shavings\n",
      "                   Q9: OTHER COMMENTS    Sour Patch Kids are a delight in your mouth. H...\n",
      "                   Q9: OTHER COMMENTS                     I just don’t like nuts in candy!\n",
      "          27.0     Q9: OTHER COMMENTS    All the best candies come in mini-form. If it ...\n",
      "                   Q9: OTHER COMMENTS     One does not simply wish for death from diabetes\n",
      "                   Q9: OTHER COMMENTS    I marked Joy for more items than I though I wo...\n",
      "                   Q9: OTHER COMMENTS    Generally, it goes: chocolate > sour candy > c...\n",
      "                   Q9: OTHER COMMENTS    My delight at the concept of alcohol while tri...\n",
      "                   Q9: OTHER COMMENTS                                    snark snark snark\n",
      "          28.0     Q9: OTHER COMMENTS    In general chocolate is awesome, fruity stuff ...\n",
      "                   Q9: OTHER COMMENTS    Lollipops are not a homogeneous group!  Blo po...\n",
      "                   Q9: OTHER COMMENTS                            Chocolate = joy. Always. \n",
      "                   Q9: OTHER COMMENTS    My area very rarely gets trick or treaters, so...\n",
      "          29.0     Q9: OTHER COMMENTS    Joy or despair, if the candy's free, I will ea...\n",
      "                   Q9: OTHER COMMENTS    Caramel things win always, things with chocola...\n",
      "                   Q9: OTHER COMMENTS        There is no tootsie in roll or dvd form. Why?\n",
      "          30.0     Q9: OTHER COMMENTS    Why is it that my tolerance for sugar in its p...\n",
      "                   Q9: OTHER COMMENTS    I fully appreciate the distinction between rea...\n",
      "dtype: object\n"
     ]
    }
   ],
   "source": [
    "# Use stack to reshape the columns in the data to rows this allows us to see all results by age and bin\n",
    "c_small = c_small.stack()\n",
    "\n",
    "\n",
    "print(c_small.head(50))"
   ]
  },
  {
   "cell_type": "markdown",
   "id": "96a8e70c-c65a-4883-9dfa-68a1a512a554",
   "metadata": {},
   "source": [
    "This reshaping or stacking of hierarchical levels allows us to view comments by both age demographic and individual age."
   ]
  },
  {
   "cell_type": "markdown",
   "id": "32747918-0b40-4ceb-b825-31d016d16e5f",
   "metadata": {},
   "source": [
    "# Chapter 10"
   ]
  },
  {
   "cell_type": "code",
   "execution_count": null,
   "id": "a1f03cfc-b7c0-439a-aa8b-f232d06cd4b4",
   "metadata": {},
   "outputs": [],
   "source": []
  }
 ],
 "metadata": {
  "kernelspec": {
   "display_name": "Python 3 (ipykernel)",
   "language": "python",
   "name": "python3"
  },
  "language_info": {
   "codemirror_mode": {
    "name": "ipython",
    "version": 3
   },
   "file_extension": ".py",
   "mimetype": "text/x-python",
   "name": "python",
   "nbconvert_exporter": "python",
   "pygments_lexer": "ipython3",
   "version": "3.11.7"
  }
 },
 "nbformat": 4,
 "nbformat_minor": 5
}
