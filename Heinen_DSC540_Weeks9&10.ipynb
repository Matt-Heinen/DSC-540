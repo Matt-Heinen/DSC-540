{
 "cells": [
  {
   "cell_type": "code",
   "execution_count": null,
   "id": "36c9fb19-7ee3-4dda-a355-70f866bf2f5a",
   "metadata": {},
   "outputs": [],
   "source": [
    "# DSC 540\n",
    "# Weeks 7 & 8\n",
    "# Summer 2024\n",
    "# Weeks 7 & 8 Exercises\n",
    "# Created By Matthew Heinen\n",
    "# 7/21/24"
   ]
  },
  {
   "cell_type": "markdown",
   "id": "cd04a328-b0ae-47ae-b0cc-488c90de7803",
   "metadata": {},
   "source": [
    "# 1) Activity 8.01"
   ]
  },
  {
   "cell_type": "code",
   "execution_count": 16,
   "id": "404cde00-971b-4101-8fa7-c327bbbccd27",
   "metadata": {},
   "outputs": [],
   "source": [
    "# Import SQL \n",
    "import sqlite3\n",
    "\n",
    "# Establish connection \n",
    "conn = sqlite3.connect(\"petsdb.db\")  \n",
    "\n"
   ]
  },
  {
   "cell_type": "code",
   "execution_count": 20,
   "id": "b6c1e3c9-5bcd-45bc-957f-e025df0be49b",
   "metadata": {},
   "outputs": [],
   "source": [
    "# build function is open to verify if the database connection is open. \n",
    "def is_opened(conn):\n",
    "    # Try to execute a simple query. \n",
    "    try:\n",
    "        conn.execute(\"SELECT * FROM persons LIMIT 1\")\n",
    "       # If we are able to execute return true\n",
    "        return True\n",
    "   # Exception handeling for programming error (This will trigger if the connection is closed. \n",
    "    except sqlite3.ProgrammingError as e:\n",
    "       # Print connection closed \n",
    "        print(\"Connection closed {}\".format(e))\n",
    "        # return false \n",
    "        return False\n"
   ]
  },
  {
   "cell_type": "code",
   "execution_count": 22,
   "id": "6e720e76-03a0-4ea0-aefe-a9baabb1d6aa",
   "metadata": {},
   "outputs": [
    {
     "name": "stdout",
     "output_type": "stream",
     "text": [
      "True\n"
     ]
    }
   ],
   "source": [
    "# Call is oppened function \n",
    "# pass conn\n",
    "# print result. \n",
    "print(is_opened(conn))"
   ]
  },
  {
   "cell_type": "code",
   "execution_count": 24,
   "id": "26010e18-a9b0-47c9-8c60-e39c6d79c903",
   "metadata": {},
   "outputs": [],
   "source": [
    "# Close the connection. \n",
    "conn.close()"
   ]
  },
  {
   "cell_type": "code",
   "execution_count": 26,
   "id": "2fea525d-c47f-4f9c-bc7a-c0bfda880fca",
   "metadata": {},
   "outputs": [
    {
     "name": "stdout",
     "output_type": "stream",
     "text": [
      "Connection closed Cannot operate on a closed database.\n",
      "False\n"
     ]
    }
   ],
   "source": [
    "# Call is opened again and print the result. \n",
    "# here we are testing the error handling for when the connection is closed. \n",
    "print(is_opened(conn))"
   ]
  },
  {
   "cell_type": "code",
   "execution_count": null,
   "id": "fe3d6bff-e265-4f1f-9223-385760adf1ad",
   "metadata": {},
   "outputs": [],
   "source": []
  }
 ],
 "metadata": {
  "kernelspec": {
   "display_name": "Python 3 (ipykernel)",
   "language": "python",
   "name": "python3"
  },
  "language_info": {
   "codemirror_mode": {
    "name": "ipython",
    "version": 3
   },
   "file_extension": ".py",
   "mimetype": "text/x-python",
   "name": "python",
   "nbconvert_exporter": "python",
   "pygments_lexer": "ipython3",
   "version": "3.11.7"
  }
 },
 "nbformat": 4,
 "nbformat_minor": 5
}
