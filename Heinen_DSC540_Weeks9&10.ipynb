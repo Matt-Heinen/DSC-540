{
 "cells": [
  {
   "cell_type": "code",
   "execution_count": 55,
   "id": "36c9fb19-7ee3-4dda-a355-70f866bf2f5a",
   "metadata": {},
   "outputs": [],
   "source": [
    "# DSC 540\n",
    "# Weeks 9& 10\n",
    "# Summer 2024\n",
    "# Weeks 9 & 10 Exercises\n",
    "# Created By Matthew Heinen\n",
    "# 8/4/24"
   ]
  },
  {
   "cell_type": "markdown",
   "id": "cd04a328-b0ae-47ae-b0cc-488c90de7803",
   "metadata": {},
   "source": [
    "# 1) Activity 8.01"
   ]
  },
  {
   "cell_type": "code",
   "execution_count": 57,
   "id": "404cde00-971b-4101-8fa7-c327bbbccd27",
   "metadata": {},
   "outputs": [],
   "source": [
    "# Import SQL \n",
    "import sqlite3\n",
    "\n",
    "# Establish connection \n",
    "conn = sqlite3.connect(\"petsdb_rename2.db\")  \n",
    "\n"
   ]
  },
  {
   "cell_type": "code",
   "execution_count": 58,
   "id": "b6c1e3c9-5bcd-45bc-957f-e025df0be49b",
   "metadata": {},
   "outputs": [],
   "source": [
    "# build function is open to verify if the database connection is open. \n",
    "def is_opened(conn):\n",
    "    # Try to execute a simple query. \n",
    "    try:\n",
    "        conn.execute(\"SELECT * FROM persons LIMIT 1\")\n",
    "       # If we are able to execute return true\n",
    "        return True\n",
    "   # Exception handeling for programming error (This will trigger if the connection is closed). \n",
    "    except sqlite3.ProgrammingError as e:\n",
    "       # Print connection closed \n",
    "        print(\"Connection closed {}\".format(e))\n",
    "        # return false \n",
    "        return False\n"
   ]
  },
  {
   "cell_type": "code",
   "execution_count": 59,
   "id": "6e720e76-03a0-4ea0-aefe-a9baabb1d6aa",
   "metadata": {},
   "outputs": [
    {
     "name": "stdout",
     "output_type": "stream",
     "text": [
      "True\n"
     ]
    }
   ],
   "source": [
    "# Call is opened function \n",
    "# pass conn\n",
    "# print result. \n",
    "print(is_opened(conn))"
   ]
  },
  {
   "cell_type": "code",
   "execution_count": 60,
   "id": "26010e18-a9b0-47c9-8c60-e39c6d79c903",
   "metadata": {},
   "outputs": [],
   "source": [
    "# Close the connection. \n",
    "conn.close()"
   ]
  },
  {
   "cell_type": "code",
   "execution_count": 61,
   "id": "2fea525d-c47f-4f9c-bc7a-c0bfda880fca",
   "metadata": {},
   "outputs": [
    {
     "name": "stdout",
     "output_type": "stream",
     "text": [
      "Connection closed Cannot operate on a closed database.\n",
      "False\n"
     ]
    }
   ],
   "source": [
    "# Call is opened again and print the result. \n",
    "# here we are testing the error handling for when the connection is closed. \n",
    "print(is_opened(conn))"
   ]
  },
  {
   "cell_type": "code",
   "execution_count": 62,
   "id": "a8509e59-3308-4f57-838f-3cb7c214f107",
   "metadata": {},
   "outputs": [],
   "source": [
    "# 1 What is the count of people belonging to different age groups in the persons table. "
   ]
  },
  {
   "cell_type": "code",
   "execution_count": 63,
   "id": "fe3d6bff-e265-4f1f-9223-385760adf1ad",
   "metadata": {},
   "outputs": [],
   "source": [
    "# Establish connection \n",
    "# We have to re establish connection after the connection was closed above. \n",
    "conn = sqlite3.connect(\"petsdb_rename2.db\")  \n",
    "\n",
    "# Define the cursor as c, This will be used to execute SQL commands and queries. \n",
    "c = conn.cursor()"
   ]
  },
  {
   "cell_type": "code",
   "execution_count": 64,
   "id": "4ae32155-856a-4c47-a0bb-e8de1b8d853b",
   "metadata": {},
   "outputs": [],
   "source": [
    "# write SQL statement to query the count of people from the persons table \n",
    "# grouped by age\n",
    "\n",
    "query = \"SELECT count(*), age FROM persons GROUP BY age\""
   ]
  },
  {
   "cell_type": "code",
   "execution_count": 65,
   "id": "98d04a77-e09d-423f-b5c7-39af7a94df9a",
   "metadata": {},
   "outputs": [
    {
     "name": "stdout",
     "output_type": "stream",
     "text": [
      "(2, 5)\n",
      "(1, 6)\n",
      "(1, 7)\n",
      "(3, 8)\n",
      "(1, 9)\n",
      "(2, 11)\n",
      "(3, 12)\n",
      "(1, 13)\n",
      "(4, 14)\n",
      "(2, 16)\n",
      "(2, 17)\n",
      "(3, 18)\n",
      "(1, 19)\n",
      "(3, 22)\n",
      "(2, 23)\n",
      "(3, 24)\n",
      "(2, 25)\n",
      "(1, 27)\n",
      "(1, 30)\n",
      "(3, 31)\n",
      "(1, 32)\n",
      "(1, 33)\n",
      "(2, 34)\n",
      "(3, 35)\n",
      "(3, 36)\n",
      "(1, 37)\n",
      "(2, 39)\n",
      "(1, 40)\n",
      "(1, 42)\n",
      "(2, 44)\n",
      "(2, 48)\n",
      "(1, 49)\n",
      "(1, 50)\n",
      "(2, 51)\n",
      "(2, 52)\n",
      "(2, 53)\n",
      "(2, 54)\n",
      "(1, 58)\n",
      "(1, 59)\n",
      "(1, 60)\n",
      "(1, 61)\n",
      "(2, 62)\n",
      "(1, 63)\n",
      "(2, 65)\n",
      "(2, 66)\n",
      "(1, 67)\n",
      "(3, 68)\n",
      "(1, 69)\n",
      "(1, 70)\n",
      "(4, 71)\n",
      "(1, 72)\n",
      "(5, 73)\n",
      "(3, 74)\n"
     ]
    }
   ],
   "source": [
    "# Execute \n",
    "c.execute(query)\n",
    "#use fetchall to loop through and print every row returned from the query. \n",
    "for row in c.fetchall():\n",
    "    print(row)"
   ]
  },
  {
   "cell_type": "code",
   "execution_count": 66,
   "id": "5650f063-abef-4ad1-ab72-1c793c2e8dce",
   "metadata": {},
   "outputs": [
    {
     "name": "stdout",
     "output_type": "stream",
     "text": [
      "We have 2 people aged 5\n",
      "We have 1 people aged 6\n",
      "We have 1 people aged 7\n",
      "We have 3 people aged 8\n",
      "We have 1 people aged 9\n",
      "We have 2 people aged 11\n",
      "We have 3 people aged 12\n",
      "We have 1 people aged 13\n",
      "We have 4 people aged 14\n",
      "We have 2 people aged 16\n",
      "We have 2 people aged 17\n",
      "We have 3 people aged 18\n",
      "We have 1 people aged 19\n",
      "We have 3 people aged 22\n",
      "We have 2 people aged 23\n",
      "We have 3 people aged 24\n",
      "We have 2 people aged 25\n",
      "We have 1 people aged 27\n",
      "We have 1 people aged 30\n",
      "We have 3 people aged 31\n",
      "We have 1 people aged 32\n",
      "We have 1 people aged 33\n",
      "We have 2 people aged 34\n",
      "We have 3 people aged 35\n",
      "We have 3 people aged 36\n",
      "We have 1 people aged 37\n",
      "We have 2 people aged 39\n",
      "We have 1 people aged 40\n",
      "We have 1 people aged 42\n",
      "We have 2 people aged 44\n",
      "We have 2 people aged 48\n",
      "We have 1 people aged 49\n",
      "We have 1 people aged 50\n",
      "We have 2 people aged 51\n",
      "We have 2 people aged 52\n",
      "We have 2 people aged 53\n",
      "We have 2 people aged 54\n",
      "We have 1 people aged 58\n",
      "We have 1 people aged 59\n",
      "We have 1 people aged 60\n",
      "We have 1 people aged 61\n",
      "We have 2 people aged 62\n",
      "We have 1 people aged 63\n",
      "We have 2 people aged 65\n",
      "We have 2 people aged 66\n",
      "We have 1 people aged 67\n",
      "We have 3 people aged 68\n",
      "We have 1 people aged 69\n",
      "We have 1 people aged 70\n",
      "We have 4 people aged 71\n",
      "We have 1 people aged 72\n",
      "We have 5 people aged 73\n",
      "We have 3 people aged 74\n"
     ]
    }
   ],
   "source": [
    "# Loop through the count and corresponding age of the returned query. \n",
    "for ppl, age in c.execute(query):\n",
    "    # print the count per ages from the query. \n",
    "    print(\"We have {} people aged {}\".format(ppl, age))\n"
   ]
  },
  {
   "cell_type": "code",
   "execution_count": 67,
   "id": "50899e19-6038-4deb-82aa-e24497b3bc40",
   "metadata": {},
   "outputs": [],
   "source": [
    "# 2) Which age group has the maximum number of people. \n",
    "\n",
    "# write query \n",
    "# use max operator. \n",
    "query ='''\n",
    "    SELECT age, MAX(count) AS max_count\n",
    "    FROM (\n",
    "        SELECT age, COUNT(*) AS count\n",
    "        FROM persons\n",
    "        GROUP BY age\n",
    "        ) subquery\n",
    "    '''\n",
    "    "
   ]
  },
  {
   "cell_type": "code",
   "execution_count": 68,
   "id": "0ad1cab9-671d-4c62-8410-2acf43482e47",
   "metadata": {},
   "outputs": [
    {
     "name": "stdout",
     "output_type": "stream",
     "text": [
      "The highest number of people is 73 and came from 5 age group\n"
     ]
    }
   ],
   "source": [
    "# Loop through\n",
    "for ppl, age in c.execute(query):\n",
    "    # Print Result\n",
    "    print(\"The highest number of people is {} and came from {} age group\".format(ppl, age))\n",
    "    break"
   ]
  },
  {
   "cell_type": "code",
   "execution_count": 69,
   "id": "ff413470-091f-490e-a931-7256e07efece",
   "metadata": {},
   "outputs": [
    {
     "name": "stdout",
     "output_type": "stream",
     "text": [
      "(60,)\n"
     ]
    }
   ],
   "source": [
    "# 3) How many people do not have a last name. \n",
    "\n",
    "# Write Query \n",
    "query = \"SELECT count(*) FROM persons WHERE last_name IS null\"\n",
    "\n",
    "# get response from db using cursor execute\n",
    "response = c.execute(query)\n",
    "\n",
    "# Loop through the response and print result \n",
    "for row in response:\n",
    "    print(row)\n"
   ]
  },
  {
   "cell_type": "code",
   "execution_count": 70,
   "id": "179c8c39-fd32-4594-b2e4-0f5f37fa87c4",
   "metadata": {},
   "outputs": [
    {
     "name": "stdout",
     "output_type": "stream",
     "text": [
      "43 people have more than one pets\n"
     ]
    }
   ],
   "source": [
    "# 4) How many people have more than one pet? \n",
    "\n",
    "\n",
    "# Write query \n",
    "query = \"SELECT count(*) FROM (SELECT count(owner_id) FROM pets GROUP BY owner_id HAVING count(owner_id) >1)\"\n",
    "\n",
    "# get response from db using cursor execute\n",
    "response = c.execute(query)\n",
    "\n",
    "# Loop through response and print result\n",
    "for row in response:\n",
    "    # Print result for how many people have more than one pet. \n",
    "    print(\"{} people have more than one pets\".format(row[0]))\n",
    "\n"
   ]
  },
  {
   "cell_type": "code",
   "execution_count": 71,
   "id": "a5c3412c-164f-4ed8-b65f-05f644284e95",
   "metadata": {},
   "outputs": [
    {
     "name": "stdout",
     "output_type": "stream",
     "text": [
      "(36,)\n"
     ]
    }
   ],
   "source": [
    "# 5) How many pets have received treatment? \n",
    "\n",
    "# Write query \n",
    "# treatment_done = 1\n",
    "query = \"SELECT count(*) FROM pets WHERE treatment_done=1\"\n",
    "\n",
    "# get response from db using cursor execute\n",
    "response = c.execute(query)\n",
    "\n",
    "# Loop through the response and print result \n",
    "for row in response:\n",
    "    print(row)"
   ]
  },
  {
   "cell_type": "code",
   "execution_count": 72,
   "id": "16ab2139-66f3-417e-ba7e-b97327280aac",
   "metadata": {},
   "outputs": [
    {
     "name": "stdout",
     "output_type": "stream",
     "text": [
      "(16,)\n"
     ]
    }
   ],
   "source": [
    "# 6) How many pets have received treatment, and the type of the pet is known?\n",
    "\n",
    "# Write Query \n",
    "# use and opperator \n",
    "query = \"SELECT count(*) FROM pets WHERE treatment_done=1 AND pet_type IS NOT null\"\n",
    "\n",
    "# get response from db using cursor execute\n",
    "response = c.execute(query)\n",
    "\n",
    "# Loop through the response and print result \n",
    "for row in response:\n",
    "    print(row)"
   ]
  },
  {
   "cell_type": "code",
   "execution_count": 73,
   "id": "59ff6a71-0602-4caa-81a7-f568affc4ee4",
   "metadata": {},
   "outputs": [
    {
     "name": "stdout",
     "output_type": "stream",
     "text": [
      "(49,)\n"
     ]
    }
   ],
   "source": [
    "# 7) How many pets are from the city called east port? \n",
    "\n",
    "# Write Query\n",
    "# Join persons and pets on owner_id\n",
    "# use where operator to find city = east port\n",
    "query = \"SELECT count(*) FROM pets JOIN persons ON pets.owner_id = persons.id WHERE persons.city='east port'\"\n",
    "\n",
    "# get response from db using cursor execute\n",
    "response = c.execute(query)\n",
    "\n",
    "# Loop through the response and print result \n",
    "for row in response:\n",
    "    print(row)"
   ]
  },
  {
   "cell_type": "code",
   "execution_count": 74,
   "id": "1a3c6ada-ee74-4684-89d5-70849200d09c",
   "metadata": {},
   "outputs": [
    {
     "name": "stdout",
     "output_type": "stream",
     "text": [
      "(11,)\n"
     ]
    }
   ],
   "source": [
    "# 8) How many pets are from the city called east port, and who received treatment?\n",
    "\n",
    "# Write query \n",
    "# Use and operator \n",
    "query = \"SELECT count(*) FROM pets JOIN persons ON pets.owner_id = persons.id WHERE persons.city='east port' AND pets.treatment_done=1\"\n",
    "\n",
    "# get response from db using cursor execute\n",
    "response = c.execute(query)\n",
    "\n",
    "# Loop through the response and print result \n",
    "for row in response:\n",
    "    print(row)"
   ]
  },
  {
   "cell_type": "code",
   "execution_count": null,
   "id": "6b84a654-2c8d-422f-bd6a-c063fa3a7703",
   "metadata": {},
   "outputs": [],
   "source": []
  }
 ],
 "metadata": {
  "kernelspec": {
   "display_name": "Python 3 (ipykernel)",
   "language": "python",
   "name": "python3"
  },
  "language_info": {
   "codemirror_mode": {
    "name": "ipython",
    "version": 3
   },
   "file_extension": ".py",
   "mimetype": "text/x-python",
   "name": "python",
   "nbconvert_exporter": "python",
   "pygments_lexer": "ipython3",
   "version": "3.11.7"
  }
 },
 "nbformat": 4,
 "nbformat_minor": 5
}
