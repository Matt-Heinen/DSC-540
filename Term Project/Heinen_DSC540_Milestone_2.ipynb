{
 "cells": [
  {
   "cell_type": "code",
   "execution_count": 803,
   "id": "1b5ceb58-5f0c-4865-8ab2-2bf37263ba82",
   "metadata": {},
   "outputs": [],
   "source": [
    "# DSC 540\n",
    "# Week 3 & 4\n",
    "# Summer 2024\n",
    "# Term Project Milestone 2\n",
    "# Created By Matthew Heinen\n",
    "# 6/24/24"
   ]
  },
  {
   "cell_type": "markdown",
   "id": "f5cb3ee2-b959-49b8-a92d-666f78590a59",
   "metadata": {},
   "source": [
    "# Weather and Carlos Santana’s Effectiveness\n",
    "# DSC 540: Milestone 2 "
   ]
  },
  {
   "cell_type": "code",
   "execution_count": 805,
   "id": "406a121f-e199-4644-911f-66c701722e8f",
   "metadata": {},
   "outputs": [],
   "source": [
    "# Import packages. \n",
    "\n",
    "import pandas as pd"
   ]
  },
  {
   "cell_type": "code",
   "execution_count": 806,
   "id": "1d62befc-8b02-417d-835e-60d25d62cb62",
   "metadata": {},
   "outputs": [
    {
     "data": {
      "text/html": [
       "<div>\n",
       "<style scoped>\n",
       "    .dataframe tbody tr th:only-of-type {\n",
       "        vertical-align: middle;\n",
       "    }\n",
       "\n",
       "    .dataframe tbody tr th {\n",
       "        vertical-align: top;\n",
       "    }\n",
       "\n",
       "    .dataframe thead th {\n",
       "        text-align: right;\n",
       "    }\n",
       "</style>\n",
       "<table border=\"1\" class=\"dataframe\">\n",
       "  <thead>\n",
       "    <tr style=\"text-align: right;\">\n",
       "      <th></th>\n",
       "      <th>pitch_type</th>\n",
       "      <th>game_date</th>\n",
       "      <th>release_speed</th>\n",
       "      <th>release_pos_x</th>\n",
       "      <th>release_pos_z</th>\n",
       "      <th>player_name</th>\n",
       "      <th>batter</th>\n",
       "      <th>pitcher</th>\n",
       "      <th>events</th>\n",
       "      <th>description</th>\n",
       "      <th>...</th>\n",
       "      <th>post_home_score</th>\n",
       "      <th>post_bat_score</th>\n",
       "      <th>post_fld_score</th>\n",
       "      <th>if_fielding_alignment</th>\n",
       "      <th>of_fielding_alignment</th>\n",
       "      <th>spin_axis</th>\n",
       "      <th>delta_home_win_exp</th>\n",
       "      <th>delta_run_exp</th>\n",
       "      <th>bat_speed</th>\n",
       "      <th>swing_length</th>\n",
       "    </tr>\n",
       "  </thead>\n",
       "  <tbody>\n",
       "    <tr>\n",
       "      <th>0</th>\n",
       "      <td>FF</td>\n",
       "      <td>2013-07-05</td>\n",
       "      <td>101.5</td>\n",
       "      <td>-1.41</td>\n",
       "      <td>6.06</td>\n",
       "      <td>Rondón, Bruce</td>\n",
       "      <td>467793</td>\n",
       "      <td>541652</td>\n",
       "      <td>single</td>\n",
       "      <td>hit_into_play</td>\n",
       "      <td>...</td>\n",
       "      <td>0</td>\n",
       "      <td>0</td>\n",
       "      <td>7</td>\n",
       "      <td>NaN</td>\n",
       "      <td>NaN</td>\n",
       "      <td>NaN</td>\n",
       "      <td>0.001</td>\n",
       "      <td>0.410</td>\n",
       "      <td>NaN</td>\n",
       "      <td>NaN</td>\n",
       "    </tr>\n",
       "    <tr>\n",
       "      <th>1</th>\n",
       "      <td>SI</td>\n",
       "      <td>2018-06-19</td>\n",
       "      <td>101.2</td>\n",
       "      <td>-1.43</td>\n",
       "      <td>6.18</td>\n",
       "      <td>Hicks, Jordan</td>\n",
       "      <td>467793</td>\n",
       "      <td>663855</td>\n",
       "      <td>field_out</td>\n",
       "      <td>hit_into_play</td>\n",
       "      <td>...</td>\n",
       "      <td>6</td>\n",
       "      <td>6</td>\n",
       "      <td>7</td>\n",
       "      <td>Standard</td>\n",
       "      <td>Standard</td>\n",
       "      <td>245.0</td>\n",
       "      <td>-0.086</td>\n",
       "      <td>-0.232</td>\n",
       "      <td>NaN</td>\n",
       "      <td>NaN</td>\n",
       "    </tr>\n",
       "    <tr>\n",
       "      <th>2</th>\n",
       "      <td>FF</td>\n",
       "      <td>2015-05-24</td>\n",
       "      <td>100.9</td>\n",
       "      <td>0.84</td>\n",
       "      <td>6.34</td>\n",
       "      <td>Chapman, Aroldis</td>\n",
       "      <td>467793</td>\n",
       "      <td>547973</td>\n",
       "      <td>single</td>\n",
       "      <td>hit_into_play</td>\n",
       "      <td>...</td>\n",
       "      <td>5</td>\n",
       "      <td>5</td>\n",
       "      <td>1</td>\n",
       "      <td>Standard</td>\n",
       "      <td>Standard</td>\n",
       "      <td>NaN</td>\n",
       "      <td>0.012</td>\n",
       "      <td>0.578</td>\n",
       "      <td>NaN</td>\n",
       "      <td>NaN</td>\n",
       "    </tr>\n",
       "    <tr>\n",
       "      <th>3</th>\n",
       "      <td>FF</td>\n",
       "      <td>2012-09-29</td>\n",
       "      <td>100.9</td>\n",
       "      <td>-1.95</td>\n",
       "      <td>5.90</td>\n",
       "      <td>Herrera, Kelvin</td>\n",
       "      <td>467793</td>\n",
       "      <td>516969</td>\n",
       "      <td>field_out</td>\n",
       "      <td>hit_into_play</td>\n",
       "      <td>...</td>\n",
       "      <td>6</td>\n",
       "      <td>6</td>\n",
       "      <td>7</td>\n",
       "      <td>NaN</td>\n",
       "      <td>NaN</td>\n",
       "      <td>NaN</td>\n",
       "      <td>-0.201</td>\n",
       "      <td>-0.523</td>\n",
       "      <td>NaN</td>\n",
       "      <td>NaN</td>\n",
       "    </tr>\n",
       "    <tr>\n",
       "      <th>4</th>\n",
       "      <td>SI</td>\n",
       "      <td>2019-05-26</td>\n",
       "      <td>100.5</td>\n",
       "      <td>0.86</td>\n",
       "      <td>6.66</td>\n",
       "      <td>Alvarado, José</td>\n",
       "      <td>467793</td>\n",
       "      <td>621237</td>\n",
       "      <td>force_out</td>\n",
       "      <td>hit_into_play</td>\n",
       "      <td>...</td>\n",
       "      <td>3</td>\n",
       "      <td>3</td>\n",
       "      <td>6</td>\n",
       "      <td>Standard</td>\n",
       "      <td>Standard</td>\n",
       "      <td>143.0</td>\n",
       "      <td>-0.040</td>\n",
       "      <td>-0.459</td>\n",
       "      <td>NaN</td>\n",
       "      <td>NaN</td>\n",
       "    </tr>\n",
       "  </tbody>\n",
       "</table>\n",
       "<p>5 rows × 94 columns</p>\n",
       "</div>"
      ],
      "text/plain": [
       "  pitch_type   game_date  release_speed  release_pos_x  release_pos_z  \\\n",
       "0         FF  2013-07-05          101.5          -1.41           6.06   \n",
       "1         SI  2018-06-19          101.2          -1.43           6.18   \n",
       "2         FF  2015-05-24          100.9           0.84           6.34   \n",
       "3         FF  2012-09-29          100.9          -1.95           5.90   \n",
       "4         SI  2019-05-26          100.5           0.86           6.66   \n",
       "\n",
       "        player_name  batter  pitcher     events    description  ...  \\\n",
       "0     Rondón, Bruce  467793   541652     single  hit_into_play  ...   \n",
       "1     Hicks, Jordan  467793   663855  field_out  hit_into_play  ...   \n",
       "2  Chapman, Aroldis  467793   547973     single  hit_into_play  ...   \n",
       "3   Herrera, Kelvin  467793   516969  field_out  hit_into_play  ...   \n",
       "4    Alvarado, José  467793   621237  force_out  hit_into_play  ...   \n",
       "\n",
       "   post_home_score  post_bat_score  post_fld_score  if_fielding_alignment  \\\n",
       "0                0               0               7                    NaN   \n",
       "1                6               6               7               Standard   \n",
       "2                5               5               1               Standard   \n",
       "3                6               6               7                    NaN   \n",
       "4                3               3               6               Standard   \n",
       "\n",
       "   of_fielding_alignment spin_axis delta_home_win_exp delta_run_exp bat_speed  \\\n",
       "0                    NaN       NaN              0.001         0.410       NaN   \n",
       "1               Standard     245.0             -0.086        -0.232       NaN   \n",
       "2               Standard       NaN              0.012         0.578       NaN   \n",
       "3                    NaN       NaN             -0.201        -0.523       NaN   \n",
       "4               Standard     143.0             -0.040        -0.459       NaN   \n",
       "\n",
       "  swing_length  \n",
       "0          NaN  \n",
       "1          NaN  \n",
       "2          NaN  \n",
       "3          NaN  \n",
       "4          NaN  \n",
       "\n",
       "[5 rows x 94 columns]"
      ]
     },
     "execution_count": 806,
     "metadata": {},
     "output_type": "execute_result"
    }
   ],
   "source": [
    "# Read in flat file data set from baseball savant. \n",
    "\n",
    "# Use read_csv to read the CSV into a DataFrame. \n",
    "carlos = pd.read_csv('santana_road_bip.csv')\n",
    "\n",
    "# Preview first couple lines. \n",
    "carlos.head()"
   ]
  },
  {
   "cell_type": "markdown",
   "id": "3495f444-0433-4e55-8f05-77fd85d0f33b",
   "metadata": {},
   "source": [
    "## Transformation 1: Remove Unnecessary Columns\n",
    "\n",
    "    As we can see above our data set has 94 columns, some of which are either unnecessary or unusable for our project scope. Our first step will be dropping these unnecessary columns. "
   ]
  },
  {
   "cell_type": "markdown",
   "id": "e6ab39cb-a309-4fbb-b9bb-13aa5c15fcb7",
   "metadata": {},
   "source": [
    "First we must print the names of all the columns so we know which ones to drop. We will also print column index in the case we would like to bulk drop. "
   ]
  },
  {
   "cell_type": "code",
   "execution_count": 809,
   "id": "79b0ce27-a16b-4b73-bc0b-3a2ff37845c7",
   "metadata": {},
   "outputs": [
    {
     "name": "stdout",
     "output_type": "stream",
     "text": [
      "Column: 'pitch_type' index: 0\n",
      "Column: 'game_date' index: 1\n",
      "Column: 'release_speed' index: 2\n",
      "Column: 'release_pos_x' index: 3\n",
      "Column: 'release_pos_z' index: 4\n",
      "Column: 'player_name' index: 5\n",
      "Column: 'batter' index: 6\n",
      "Column: 'pitcher' index: 7\n",
      "Column: 'events' index: 8\n",
      "Column: 'description' index: 9\n",
      "Column: 'spin_dir' index: 10\n",
      "Column: 'spin_rate_deprecated' index: 11\n",
      "Column: 'break_angle_deprecated' index: 12\n",
      "Column: 'break_length_deprecated' index: 13\n",
      "Column: 'zone' index: 14\n",
      "Column: 'des' index: 15\n",
      "Column: 'game_type' index: 16\n",
      "Column: 'stand' index: 17\n",
      "Column: 'p_throws' index: 18\n",
      "Column: 'home_team' index: 19\n",
      "Column: 'away_team' index: 20\n",
      "Column: 'type' index: 21\n",
      "Column: 'hit_location' index: 22\n",
      "Column: 'bb_type' index: 23\n",
      "Column: 'balls' index: 24\n",
      "Column: 'strikes' index: 25\n",
      "Column: 'game_year' index: 26\n",
      "Column: 'pfx_x' index: 27\n",
      "Column: 'pfx_z' index: 28\n",
      "Column: 'plate_x' index: 29\n",
      "Column: 'plate_z' index: 30\n",
      "Column: 'on_3b' index: 31\n",
      "Column: 'on_2b' index: 32\n",
      "Column: 'on_1b' index: 33\n",
      "Column: 'outs_when_up' index: 34\n",
      "Column: 'inning' index: 35\n",
      "Column: 'inning_topbot' index: 36\n",
      "Column: 'hc_x' index: 37\n",
      "Column: 'hc_y' index: 38\n",
      "Column: 'tfs_deprecated' index: 39\n",
      "Column: 'tfs_zulu_deprecated' index: 40\n",
      "Column: 'fielder_2' index: 41\n",
      "Column: 'umpire' index: 42\n",
      "Column: 'sv_id' index: 43\n",
      "Column: 'vx0' index: 44\n",
      "Column: 'vy0' index: 45\n",
      "Column: 'vz0' index: 46\n",
      "Column: 'ax' index: 47\n",
      "Column: 'ay' index: 48\n",
      "Column: 'az' index: 49\n",
      "Column: 'sz_top' index: 50\n",
      "Column: 'sz_bot' index: 51\n",
      "Column: 'hit_distance_sc' index: 52\n",
      "Column: 'launch_speed' index: 53\n",
      "Column: 'launch_angle' index: 54\n",
      "Column: 'effective_speed' index: 55\n",
      "Column: 'release_spin_rate' index: 56\n",
      "Column: 'release_extension' index: 57\n",
      "Column: 'game_pk' index: 58\n",
      "Column: 'pitcher.1' index: 59\n",
      "Column: 'fielder_2.1' index: 60\n",
      "Column: 'fielder_3' index: 61\n",
      "Column: 'fielder_4' index: 62\n",
      "Column: 'fielder_5' index: 63\n",
      "Column: 'fielder_6' index: 64\n",
      "Column: 'fielder_7' index: 65\n",
      "Column: 'fielder_8' index: 66\n",
      "Column: 'fielder_9' index: 67\n",
      "Column: 'release_pos_y' index: 68\n",
      "Column: 'estimated_ba_using_speedangle' index: 69\n",
      "Column: 'estimated_woba_using_speedangle' index: 70\n",
      "Column: 'woba_value' index: 71\n",
      "Column: 'woba_denom' index: 72\n",
      "Column: 'babip_value' index: 73\n",
      "Column: 'iso_value' index: 74\n",
      "Column: 'launch_speed_angle' index: 75\n",
      "Column: 'at_bat_number' index: 76\n",
      "Column: 'pitch_number' index: 77\n",
      "Column: 'pitch_name' index: 78\n",
      "Column: 'home_score' index: 79\n",
      "Column: 'away_score' index: 80\n",
      "Column: 'bat_score' index: 81\n",
      "Column: 'fld_score' index: 82\n",
      "Column: 'post_away_score' index: 83\n",
      "Column: 'post_home_score' index: 84\n",
      "Column: 'post_bat_score' index: 85\n",
      "Column: 'post_fld_score' index: 86\n",
      "Column: 'if_fielding_alignment' index: 87\n",
      "Column: 'of_fielding_alignment' index: 88\n",
      "Column: 'spin_axis' index: 89\n",
      "Column: 'delta_home_win_exp' index: 90\n",
      "Column: 'delta_run_exp' index: 91\n",
      "Column: 'bat_speed' index: 92\n",
      "Column: 'swing_length' index: 93\n"
     ]
    }
   ],
   "source": [
    "# Print column names and their corresponding index\n",
    "\n",
    "# Loop through each column and print its name and coresponding index. \n",
    "for index, column_name in enumerate(carlos.columns):\n",
    "    print(f\"Column: '{column_name}' index: {index}\")"
   ]
  },
  {
   "cell_type": "code",
   "execution_count": 810,
   "id": "19c760b0-d97c-48aa-a89c-98611f2169a6",
   "metadata": {},
   "outputs": [
    {
     "data": {
      "text/plain": [
       "(2831, 85)"
      ]
     },
     "execution_count": 810,
     "metadata": {},
     "output_type": "execute_result"
    }
   ],
   "source": [
    "# Remove all fielder values \n",
    "# Use drop method remove columns 59-67\n",
    "carlos = carlos.drop(carlos.columns[59:68], axis=1)\n",
    "\n",
    "# View new size of df to validate drop. \n",
    "carlos.shape"
   ]
  },
  {
   "cell_type": "code",
   "execution_count": 811,
   "id": "e874cb26-daee-4504-89f1-7ddf473f3b26",
   "metadata": {},
   "outputs": [
    {
     "data": {
      "text/plain": [
       "(2831, 77)"
      ]
     },
     "execution_count": 811,
     "metadata": {},
     "output_type": "execute_result"
    }
   ],
   "source": [
    "# Remove batter index as all batters are Carlos Santana. \n",
    "carlos = carlos.drop('batter', axis=1)\n",
    "\n",
    "# Remove description as all are balls hit into play \n",
    "carlos = carlos.drop('description', axis=1)\n",
    "\n",
    "# Remove game year as its rebetitive with date. \n",
    "carlos = carlos.drop('game_year', axis=1)\n",
    "\n",
    "# Remove type as its tells us nothing. \n",
    "carlos = carlos.drop('type', axis=1)\n",
    "\n",
    "# Remove the second fielder_2 repetitive. \n",
    "carlos = carlos.drop('fielder_2', axis=1)\n",
    "\n",
    "# Remove strikezone top as it is irrelevent to our project. \n",
    "carlos = carlos.drop('sz_top', axis=1)\n",
    "\n",
    "# Remove Strikezone bottom as it is irrelevant to our project. \n",
    "carlos = carlos.drop('sz_bot', axis=1)\n",
    "\n",
    "# Remove sv_id : unnecessary. \n",
    "carlos = carlos.drop('sv_id', axis=1)\n",
    "\n",
    "# View new size of df to validate drop. \n",
    "carlos.shape"
   ]
  },
  {
   "cell_type": "markdown",
   "id": "3e392fc9-986e-470b-8d1d-d6dd2d0db016",
   "metadata": {},
   "source": [
    "Looking at the data set there appears there may be some columns that are entirely empty. Lets remove the entirely empty columns. "
   ]
  },
  {
   "cell_type": "code",
   "execution_count": 813,
   "id": "11577282-b020-406b-9e47-7296cf2a6e63",
   "metadata": {},
   "outputs": [
    {
     "data": {
      "text/plain": [
       "(2831, 70)"
      ]
     },
     "execution_count": 813,
     "metadata": {},
     "output_type": "execute_result"
    }
   ],
   "source": [
    "# Test if a column is entirely null\n",
    "# Use isnull and all to select the columd from the df with no values. \n",
    "null_columns = carlos.columns[carlos.isnull().all()]\n",
    "\n",
    "# Delete entirely null columns from the carlos dataset using drop. \n",
    "carlos = carlos.drop(null_columns, axis=1)\n",
    "\n",
    "# View new size of df to validate drop. \n",
    "carlos.shape"
   ]
  },
  {
   "cell_type": "markdown",
   "id": "58dfb43b-9130-448a-b28e-44e96d11890c",
   "metadata": {},
   "source": [
    "Now lets revaluate where are dataset is at and see which columns to remove next. "
   ]
  },
  {
   "cell_type": "code",
   "execution_count": 815,
   "id": "52f88081-118f-4639-a8b6-cc016ed931da",
   "metadata": {},
   "outputs": [
    {
     "name": "stdout",
     "output_type": "stream",
     "text": [
      "Column: 'pitch_type' index: 0\n",
      "Column: 'game_date' index: 1\n",
      "Column: 'release_speed' index: 2\n",
      "Column: 'release_pos_x' index: 3\n",
      "Column: 'release_pos_z' index: 4\n",
      "Column: 'player_name' index: 5\n",
      "Column: 'pitcher' index: 6\n",
      "Column: 'events' index: 7\n",
      "Column: 'zone' index: 8\n",
      "Column: 'des' index: 9\n",
      "Column: 'game_type' index: 10\n",
      "Column: 'stand' index: 11\n",
      "Column: 'p_throws' index: 12\n",
      "Column: 'home_team' index: 13\n",
      "Column: 'away_team' index: 14\n",
      "Column: 'hit_location' index: 15\n",
      "Column: 'bb_type' index: 16\n",
      "Column: 'balls' index: 17\n",
      "Column: 'strikes' index: 18\n",
      "Column: 'pfx_x' index: 19\n",
      "Column: 'pfx_z' index: 20\n",
      "Column: 'plate_x' index: 21\n",
      "Column: 'plate_z' index: 22\n",
      "Column: 'on_3b' index: 23\n",
      "Column: 'on_2b' index: 24\n",
      "Column: 'on_1b' index: 25\n",
      "Column: 'outs_when_up' index: 26\n",
      "Column: 'inning' index: 27\n",
      "Column: 'inning_topbot' index: 28\n",
      "Column: 'hc_x' index: 29\n",
      "Column: 'hc_y' index: 30\n",
      "Column: 'vx0' index: 31\n",
      "Column: 'vy0' index: 32\n",
      "Column: 'vz0' index: 33\n",
      "Column: 'ax' index: 34\n",
      "Column: 'ay' index: 35\n",
      "Column: 'az' index: 36\n",
      "Column: 'hit_distance_sc' index: 37\n",
      "Column: 'launch_speed' index: 38\n",
      "Column: 'launch_angle' index: 39\n",
      "Column: 'effective_speed' index: 40\n",
      "Column: 'release_spin_rate' index: 41\n",
      "Column: 'release_extension' index: 42\n",
      "Column: 'game_pk' index: 43\n",
      "Column: 'release_pos_y' index: 44\n",
      "Column: 'estimated_ba_using_speedangle' index: 45\n",
      "Column: 'estimated_woba_using_speedangle' index: 46\n",
      "Column: 'woba_value' index: 47\n",
      "Column: 'woba_denom' index: 48\n",
      "Column: 'babip_value' index: 49\n",
      "Column: 'iso_value' index: 50\n",
      "Column: 'launch_speed_angle' index: 51\n",
      "Column: 'at_bat_number' index: 52\n",
      "Column: 'pitch_number' index: 53\n",
      "Column: 'pitch_name' index: 54\n",
      "Column: 'home_score' index: 55\n",
      "Column: 'away_score' index: 56\n",
      "Column: 'bat_score' index: 57\n",
      "Column: 'fld_score' index: 58\n",
      "Column: 'post_away_score' index: 59\n",
      "Column: 'post_home_score' index: 60\n",
      "Column: 'post_bat_score' index: 61\n",
      "Column: 'post_fld_score' index: 62\n",
      "Column: 'if_fielding_alignment' index: 63\n",
      "Column: 'of_fielding_alignment' index: 64\n",
      "Column: 'spin_axis' index: 65\n",
      "Column: 'delta_home_win_exp' index: 66\n",
      "Column: 'delta_run_exp' index: 67\n",
      "Column: 'bat_speed' index: 68\n",
      "Column: 'swing_length' index: 69\n"
     ]
    }
   ],
   "source": [
    "# Print column names and their corresponding index\n",
    "\n",
    "# Loop through each column and print its name and coresponding index. \n",
    "for index, column_name in enumerate(carlos.columns):\n",
    "    print(f\"Column: '{column_name}' index: {index}\")"
   ]
  },
  {
   "cell_type": "markdown",
   "id": "92a31105-106f-41b3-bc00-1ab5cce3bcea",
   "metadata": {},
   "source": [
    "Now we will bulk remove the directional pitch velocity and acceleration columns. These datapoints are too specific for our level of analysis in this projet. These columns are currently named: vx0, vyo, ax, ay, and az. We will also remove the hit cordinate values as they are also too specific. These columns are named: hc_x and hc_y\n"
   ]
  },
  {
   "cell_type": "code",
   "execution_count": 817,
   "id": "4e897aad-1d5b-4513-ad13-5124154e42a1",
   "metadata": {},
   "outputs": [
    {
     "data": {
      "text/plain": [
       "(2831, 62)"
      ]
     },
     "execution_count": 817,
     "metadata": {},
     "output_type": "execute_result"
    }
   ],
   "source": [
    "# Remove all directional pitch velocity and acceleration values \n",
    "# Also remove Hit cordinate values. \n",
    "# Use drop method remove columns 29-36\n",
    "carlos = carlos.drop(carlos.columns[29:37], axis=1)\n",
    "\n",
    "# View new size of df to validate drop. \n",
    "carlos.shape"
   ]
  },
  {
   "cell_type": "code",
   "execution_count": 818,
   "id": "fa20d1b4-5c61-4918-bf33-f9546ecaf40c",
   "metadata": {},
   "outputs": [],
   "source": [
    "# Remove woba_value\n",
    "# column is unecessary. \n",
    "carlos = carlos.drop('woba_value', axis=1)\n",
    "\n",
    "# Remove woba_denom\n",
    "carlos = carlos.drop('woba_denom', axis=1)"
   ]
  },
  {
   "cell_type": "markdown",
   "id": "0db20f38-6bd5-40a1-a541-29bae7b77f14",
   "metadata": {},
   "source": [
    "## Transformation 2: Make on_1b , on_2b and on_3b Binary. \n",
    "\n",
    "Here we are not concerned with which player is on base just which bases are occupied. This will still allow us to evaluate situational hitting and clean our database making it easier to analyze later. "
   ]
  },
  {
   "cell_type": "code",
   "execution_count": 820,
   "id": "b7020fff-9852-48ab-be1b-c673859c7306",
   "metadata": {},
   "outputs": [],
   "source": [
    "# Build function to test if a column had content and apply a binary based on the result. \n",
    "\n",
    "def replace_with_binary(value):\n",
    "    #If the value is empty return zero. \n",
    "    if pd.isna(value):\n",
    "        return 0\n",
    "    # Add clause in case you run code twice. \n",
    "    elif value == 0:\n",
    "        return 0 \n",
    "    #If there is a runner on the base return 1. \n",
    "    else:\n",
    "        return 1"
   ]
  },
  {
   "cell_type": "code",
   "execution_count": 821,
   "id": "a1817f6b-dcd4-4908-8b22-3a95815753ce",
   "metadata": {},
   "outputs": [
    {
     "name": "stdout",
     "output_type": "stream",
     "text": [
      "   on_1b  on_2b  on_3b\n",
      "0      1      0      0\n",
      "1      0      0      0\n",
      "2      0      1      0\n",
      "3      1      1      1\n",
      "4      1      0      1\n",
      "5      0      1      0\n",
      "6      0      0      0\n",
      "7      0      0      0\n",
      "8      1      1      0\n",
      "9      1      0      0\n"
     ]
    }
   ],
   "source": [
    "# Use the apply method to loop through each of the on base columns and call \n",
    "# replace_with_binary function. \n",
    "\n",
    "# First base. \n",
    "carlos['on_1b'] = carlos['on_1b'].apply(replace_with_binary)\n",
    "\n",
    "# Second base. \n",
    "carlos['on_2b'] = carlos['on_2b'].apply(replace_with_binary)\n",
    "\n",
    "# Third base. \n",
    "carlos['on_3b'] = carlos['on_3b'].apply(replace_with_binary)\n",
    "\n",
    "# Preview the results of the onbase columns. \n",
    "print(carlos[['on_1b', 'on_2b', 'on_3b']].head(10))\n"
   ]
  },
  {
   "cell_type": "markdown",
   "id": "d24f6a17-bfdf-4ff8-8bb1-bb9ada8da7da",
   "metadata": {},
   "source": [
    "# Transformation 3: Convert Date into Unix Time (UTC Time Zone). \n",
    "\n",
    "This transformation will be done by assigning a start time of 7 pm (most common start time in baseball to all games. Additionally a transformation will be done to unix time which is required for our API weather call. "
   ]
  },
  {
   "cell_type": "code",
   "execution_count": 823,
   "id": "3a4bdc50-31e7-441f-8c30-bbf01e5c9946",
   "metadata": {},
   "outputs": [
    {
     "name": "stdout",
     "output_type": "stream",
     "text": [
      "    game_date   unix_time\n",
      "0  2013-07-05  1373068800\n",
      "1  2018-06-19  1529452800\n",
      "2  2015-05-24  1432512000\n",
      "3  2012-09-29  1348963200\n",
      "4  2019-05-26  1558915200\n",
      "5  2023-06-03  1685836800\n",
      "6  2019-09-14  1568505600\n",
      "7  2022-04-11  1649721600\n",
      "8  2018-06-25  1529971200\n",
      "9  2012-07-08  1341792000\n"
     ]
    }
   ],
   "source": [
    "# Convert date column to Unix time\n",
    "# Add this column to the Data Frame\n",
    "# Use game_date and to_datetime method to convert to unix. \n",
    "carlos['unix_time'] = pd.to_datetime(carlos['game_date']).astype(int) // 10**9\n",
    "\n",
    "# Add a column that assumes a 7pm start time for every game. \n",
    "# Convert Unix time to 7pm\n",
    "# During daylight savings, CDT is 5 hours behing UTC. \n",
    "# to get 7pm or 19:00 we need to add 5 more hours to catch up making for 24 hours. \n",
    "carlos['unix_time'] = carlos['unix_time'] + (24 * 3600)  # 26 hours * 3600 seconds/hour\n",
    "\n",
    "# Create a game date_time to validate the Unix time. \n",
    "\n",
    "\n",
    "# Preview the result of the time related columns. \n",
    "# Preview the results of the onbase columns. \n",
    "print(carlos[['game_date', 'unix_time']].head(10))"
   ]
  },
  {
   "cell_type": "markdown",
   "id": "88fab0a1-24ea-4c99-a241-8afe2352ad8c",
   "metadata": {},
   "source": [
    "Here we see that we have left our game date and converted to 7pm Central in UTC Unix time "
   ]
  },
  {
   "cell_type": "markdown",
   "id": "5fbe74c9-e774-4f5b-ada2-42c064fd3853",
   "metadata": {},
   "source": [
    "# Transformation 4: Rename Confusing names from baseball Savant \n",
    "\n",
    "Baseball Savant uses some naming systems that are either not descriptive or confusing. In this section we will select those columns and rename them with and intuitive and consistent naming system. \n",
    "\n",
    "Note the naming convention documentation can be found here: https://baseballsavant.mlb.com/csv-docs"
   ]
  },
  {
   "cell_type": "code",
   "execution_count": 826,
   "id": "7bb7adc5-81a4-4786-8ce4-242b4f405ad4",
   "metadata": {},
   "outputs": [],
   "source": [
    "# In this section we wil use the rename method to rename some coulumne to our naming conventions. \n",
    "\n",
    "# Rename player_name to pitcher_name\n",
    "carlos = carlos.rename(columns={'player_name': 'pitcher_name'})\n",
    "\n",
    "# Rename pitcher to pitcher_id\n",
    "carlos = carlos.rename(columns={'pitcher': 'pitcher_id'})\n",
    "\n",
    "# Rename game_pk to game_id\n",
    "carlos = carlos.rename(columns={'game_pk': 'game_id'})\n",
    "\n",
    "# Rename des to description\n",
    "carlos = carlos.rename(columns={'des': 'description'})\n",
    "\n",
    "# Rename stand to batter_stance. \n",
    "# This is more clear to which way the batter is swinging the bat right or left handed. \n",
    "carlos = carlos.rename(columns={'stand': 'batter_stance'})\n",
    "\n",
    "# Rename pfx_x to pitch_hor_break\n",
    "# This naming convention is more clear that it is describing:\n",
    "# Horizontal movement in feet from the catcher's perspective.\n",
    "carlos = carlos.rename(columns={'pfx_x': 'pitch_hor_break'})\n",
    "\n",
    "# Rename pfx_z to pitch_ver_break\n",
    "# This naming convention is more clear that it is describing:\n",
    "# Vertical movement in feet from the catcher's perpsective.\n",
    "carlos = carlos.rename(columns={'pfx_z': 'pitch_ver_break'})\n",
    "\n",
    "# Rename launce_speed_angle to contact_type. \n",
    "# This naming convention better describes what kind and quality of contact a batter makes. \n",
    "carlos = carlos.rename(columns={'launch_speed_angle': 'contact_type'})\n",
    "\n",
    "# Rename zone to pitch_zone_location. \n",
    "carlos = carlos.rename(columns={'zone': 'pitch_zone_location'})\n",
    "\n",
    "# Rename events to ab_result: \n",
    "# Better describes what happens as a result of the at bat. \n",
    "carlos = carlos.rename(columns={'events': 'ab_result'})"
   ]
  },
  {
   "cell_type": "code",
   "execution_count": 827,
   "id": "b03c4f6c-6dfe-44ef-b95f-36a558b1c201",
   "metadata": {},
   "outputs": [
    {
     "name": "stdout",
     "output_type": "stream",
     "text": [
      "Column: 'pitch_type' index: 0\n",
      "Column: 'game_date' index: 1\n",
      "Column: 'release_speed' index: 2\n",
      "Column: 'release_pos_x' index: 3\n",
      "Column: 'release_pos_z' index: 4\n",
      "Column: 'pitcher_name' index: 5\n",
      "Column: 'pitcher_id' index: 6\n",
      "Column: 'ab_result' index: 7\n",
      "Column: 'pitch_zone_location' index: 8\n",
      "Column: 'description' index: 9\n",
      "Column: 'game_type' index: 10\n",
      "Column: 'batter_stance' index: 11\n",
      "Column: 'p_throws' index: 12\n",
      "Column: 'home_team' index: 13\n",
      "Column: 'away_team' index: 14\n",
      "Column: 'hit_location' index: 15\n",
      "Column: 'bb_type' index: 16\n",
      "Column: 'balls' index: 17\n",
      "Column: 'strikes' index: 18\n",
      "Column: 'pitch_hor_break' index: 19\n",
      "Column: 'pitch_ver_break' index: 20\n",
      "Column: 'plate_x' index: 21\n",
      "Column: 'plate_z' index: 22\n",
      "Column: 'on_3b' index: 23\n",
      "Column: 'on_2b' index: 24\n",
      "Column: 'on_1b' index: 25\n",
      "Column: 'outs_when_up' index: 26\n",
      "Column: 'inning' index: 27\n",
      "Column: 'inning_topbot' index: 28\n",
      "Column: 'hit_distance_sc' index: 29\n",
      "Column: 'launch_speed' index: 30\n",
      "Column: 'launch_angle' index: 31\n",
      "Column: 'effective_speed' index: 32\n",
      "Column: 'release_spin_rate' index: 33\n",
      "Column: 'release_extension' index: 34\n",
      "Column: 'game_id' index: 35\n",
      "Column: 'release_pos_y' index: 36\n",
      "Column: 'estimated_ba_using_speedangle' index: 37\n",
      "Column: 'estimated_woba_using_speedangle' index: 38\n",
      "Column: 'babip_value' index: 39\n",
      "Column: 'iso_value' index: 40\n",
      "Column: 'contact_type' index: 41\n",
      "Column: 'at_bat_number' index: 42\n",
      "Column: 'pitch_number' index: 43\n",
      "Column: 'pitch_name' index: 44\n",
      "Column: 'home_score' index: 45\n",
      "Column: 'away_score' index: 46\n",
      "Column: 'bat_score' index: 47\n",
      "Column: 'fld_score' index: 48\n",
      "Column: 'post_away_score' index: 49\n",
      "Column: 'post_home_score' index: 50\n",
      "Column: 'post_bat_score' index: 51\n",
      "Column: 'post_fld_score' index: 52\n",
      "Column: 'if_fielding_alignment' index: 53\n",
      "Column: 'of_fielding_alignment' index: 54\n",
      "Column: 'spin_axis' index: 55\n",
      "Column: 'delta_home_win_exp' index: 56\n",
      "Column: 'delta_run_exp' index: 57\n",
      "Column: 'bat_speed' index: 58\n",
      "Column: 'swing_length' index: 59\n",
      "Column: 'unix_time' index: 60\n"
     ]
    }
   ],
   "source": [
    "# Print column names and their corresponding index\n",
    "# Do this to visualise our data set. \n",
    "\n",
    "# Loop through each column and print its name and coresponding index. \n",
    "for index, column_name in enumerate(carlos.columns):\n",
    "    print(f\"Column: '{column_name}' index: {index}\")"
   ]
  },
  {
   "cell_type": "markdown",
   "id": "34158e94-dcf5-49ac-9bcf-b190241fd9ab",
   "metadata": {},
   "source": [
    "# Transformation 5: Evaluate Missing Data\n",
    "\n",
    "Now as we evaluate our dataset we recognise that there are some columns with missing data and quite alot of it. We will determine what to do with that data on a case by case basis given the condition. \n"
   ]
  },
  {
   "cell_type": "code",
   "execution_count": 829,
   "id": "4cf92640-424e-4620-a21f-bea727bd7e38",
   "metadata": {},
   "outputs": [
    {
     "name": "stdout",
     "output_type": "stream",
     "text": [
      "Columns with missing values:\n",
      "'hit_location' has 154 missing value(s), missing percent : 5.439773931472978)%\n",
      "'hit_distance_sc' has 975 missing value(s), missing percent : 34.44012716354645)%\n",
      "'launch_speed' has 872 missing value(s), missing percent : 30.801836806782056)%\n",
      "'launch_angle' has 872 missing value(s), missing percent : 30.801836806782056)%\n",
      "'effective_speed' has 869 missing value(s), missing percent : 30.695867184740372)%\n",
      "'release_spin_rate' has 896 missing value(s), missing percent : 31.64959378311551)%\n",
      "'release_extension' has 868 missing value(s), missing percent : 30.660543977393147)%\n",
      "'estimated_ba_using_speedangle' has 872 missing value(s), missing percent : 30.801836806782056)%\n",
      "'estimated_woba_using_speedangle' has 872 missing value(s), missing percent : 30.801836806782056)%\n",
      "'contact_type' has 872 missing value(s), missing percent : 30.801836806782056)%\n",
      "'if_fielding_alignment' has 883 missing value(s), missing percent : 31.190392087601555)%\n",
      "'of_fielding_alignment' has 883 missing value(s), missing percent : 31.190392087601555)%\n",
      "'spin_axis' has 1104 missing value(s), missing percent : 38.996820911338745)%\n",
      "'bat_speed' has 2751 missing value(s), missing percent : 97.17414341222182)%\n",
      "'swing_length' has 2751 missing value(s), missing percent : 97.17414341222182)%\n"
     ]
    }
   ],
   "source": [
    "# First we will determine which columns have missing data and how many rows are missing data\n",
    "# Use isnull and sum to determine the columns missing data and sum to count the rows \n",
    "missing_values = carlos.isnull().sum()\n",
    "\n",
    "# print columes with missing values and number of rows missing. \n",
    "print(\"Columns with missing values:\")\n",
    "# Loop though the series missing values for every column. \n",
    "for column, missing_count in missing_values.items():\n",
    "    # If data is missing \n",
    "    if missing_count > 0:\n",
    "        #print column name, number of missing values and percent missing \n",
    "        print(f\"'{column}' has {missing_count} missing value(s), missing percent : {(missing_count/carlos.shape[0])*100})%\")"
   ]
  },
  {
   "cell_type": "markdown",
   "id": "e63f8a54-b2a6-4e7c-a09d-e07cbd46ca1f",
   "metadata": {},
   "source": [
    "Anything where we are missing over 95% of the data is going to be more or less unusable for this project. Therefore we will remove bat_speed and swing_length from our dataset. "
   ]
  },
  {
   "cell_type": "code",
   "execution_count": 831,
   "id": "4e6f54f2-a77e-4402-b6f9-9c54e9b7185e",
   "metadata": {},
   "outputs": [
    {
     "data": {
      "text/plain": [
       "(2831, 59)"
      ]
     },
     "execution_count": 831,
     "metadata": {},
     "output_type": "execute_result"
    }
   ],
   "source": [
    "# Remove bat_speed and swing_length. \n",
    "carlos = carlos.drop(['bat_speed', 'swing_length'], axis=1)\n",
    "\n",
    "# View new size of df to validate drop. \n",
    "carlos.shape"
   ]
  },
  {
   "cell_type": "markdown",
   "id": "cf4d7f9a-1704-44a6-8dbd-85601118fa6f",
   "metadata": {},
   "source": [
    "The rest of the columns have enough rows that we can work with them moving forward. We will leave them in the dataset with no further transformations. "
   ]
  },
  {
   "cell_type": "markdown",
   "id": "d36a806e-78a8-424b-87f0-adea40c25976",
   "metadata": {},
   "source": [
    "# Transformation 6: Outliers\n",
    "\n",
    "    In this section we seek to remove outliers from the data. The two variables that we will use to evaluate that most heavily are launch speed and launch angle. However it is understandable that over Santana's 17 year MLB career their may be some outliers. In this section we will remove those outliers by evaluating the above variables box plot. We will chalk these instances or events that we remove as \"fluke plays\".  "
   ]
  },
  {
   "cell_type": "code",
   "execution_count": 859,
   "id": "08aa99d6-44ab-4a75-a621-253a91e479b3",
   "metadata": {},
   "outputs": [],
   "source": [
    "# Import packages \n",
    "import matplotlib.pyplot as plt"
   ]
  },
  {
   "cell_type": "code",
   "execution_count": 877,
   "id": "7981da67-8f13-4750-9cb4-6c1e8fd6cef4",
   "metadata": {},
   "outputs": [
    {
     "data": {
      "image/png": "[encoded data removed]",
      "text/plain": [
       "<Figure size 640x480 with 1 Axes>"
      ]
     },
     "metadata": {},
     "output_type": "display_data"
    },
    {
     "name": "stdout",
     "output_type": "stream",
     "text": [
      "Whisker values: [array([80.25, 50.9 ]), array([100.4, 113.5])]\n"
     ]
    }
   ],
   "source": [
    "\n",
    "\n",
    "boxplot=plt.boxplot(carlos.launch_speed.dropna())\n",
    "plt.ylim(0, 150)  # Adjust the y-axis limits\n",
    "plt.show()\n",
    "\n",
    "\n",
    "# View the values of the whiskers\n",
    "whisker_values = [whiskers.get_ydata() for whiskers in boxplot['whiskers']]\n",
    "print(\"Whisker values:\", whisker_values)"
   ]
  },
  {
   "cell_type": "code",
   "execution_count": null,
   "id": "a2cb32a2-ac0c-4f15-956f-96d0ada99177",
   "metadata": {},
   "outputs": [],
   "source": []
  }
 ],
 "metadata": {
  "kernelspec": {
   "display_name": "Python 3 (ipykernel)",
   "language": "python",
   "name": "python3"
  },
  "language_info": {
   "codemirror_mode": {
    "name": "ipython",
    "version": 3
   },
   "file_extension": ".py",
   "mimetype": "text/x-python",
   "name": "python",
   "nbconvert_exporter": "python",
   "pygments_lexer": "ipython3",
   "version": "3.11.7"
  }
 },
 "nbformat": 4,
 "nbformat_minor": 5
}
