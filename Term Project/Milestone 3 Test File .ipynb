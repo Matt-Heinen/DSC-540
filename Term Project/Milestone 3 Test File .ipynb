{
 "cells": [
  {
   "cell_type": "code",
   "execution_count": 7,
   "id": "7eeae04a-c2a2-4741-8398-a7a630b265a3",
   "metadata": {},
   "outputs": [
    {
     "name": "stdout",
     "output_type": "stream",
     "text": [
      "             name     matched_name\n",
      "0        John Doe    Johnathan Doe\n",
      "1      Jane Smith    Jane S. Smith\n",
      "2     Bob Johnson    Johnathan Doe\n",
      "3  Alice Williams  Alicia Williams\n",
      "         full_name    matched_name\n",
      "0    Johnathan Doe        John Doe\n",
      "1    Jane S. Smith      Jane Smith\n",
      "2   Robert Johnson     Bob Johnson\n",
      "3  Alicia Williams  Alice Williams\n",
      "             name        full_name\n",
      "0        John Doe    Johnathan Doe\n",
      "1      Jane Smith    Jane S. Smith\n",
      "2     Bob Johnson   Robert Johnson\n",
      "3  Alice Williams  Alicia Williams\n"
     ]
    }
   ],
   "source": [
    "import pandas as pd\n",
    "from fuzzywuzzy import fuzz\n",
    "from fuzzywuzzy import process\n",
    "\n",
    "# Create two sample dataframes\n",
    "df1 = pd.DataFrame({'name': ['John Doe', 'Jane Smith', 'Bob Johnson', 'Alice Williams']})\n",
    "df2 = pd.DataFrame({'full_name': ['Johnathan Doe', 'Jane S. Smith', 'Robert Johnson', 'Alicia Williams']})\n",
    "\n",
    "# Apply fuzzy matching to find matching names\n",
    "df1['matched_name'] = df1['name'].apply(lambda x: process.extractOne(x, df2['full_name'], scorer=fuzz.token_sort_ratio)[0])\n",
    "df2['matched_name'] = df2['full_name'].apply(lambda x: process.extractOne(x, df1['name'], scorer=fuzz.token_sort_ratio)[0])\n",
    "\n",
    "print(df1)\n",
    "print(df2)\n",
    "\n",
    "# Perform inner join based on the matched names\n",
    "result = pd.merge(df1, df2, left_on='name', right_on='matched_name', how='inner')\n",
    "\n",
    "# Drop the matched_name columns if needed\n",
    "result = result.drop(columns=['matched_name_x', 'matched_name_y'])\n",
    "\n",
    "# Display the resulting dataframe\n",
    "print(result)"
   ]
  },
  {
   "cell_type": "code",
   "execution_count": null,
   "id": "cefcc30d-16b9-48d4-9887-153f43a9a057",
   "metadata": {},
   "outputs": [],
   "source": []
  }
 ],
 "metadata": {
  "kernelspec": {
   "display_name": "Python 3 (ipykernel)",
   "language": "python",
   "name": "python3"
  },
  "language_info": {
   "codemirror_mode": {
    "name": "ipython",
    "version": 3
   },
   "file_extension": ".py",
   "mimetype": "text/x-python",
   "name": "python",
   "nbconvert_exporter": "python",
   "pygments_lexer": "ipython3",
   "version": "3.11.7"
  }
 },
 "nbformat": 4,
 "nbformat_minor": 5
}
