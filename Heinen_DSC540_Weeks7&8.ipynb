{
 "cells": [
  {
   "cell_type": "code",
   "execution_count": null,
   "id": "7ef9aa78-9a04-4c3c-b88c-86313bc828bc",
   "metadata": {},
   "outputs": [],
   "source": [
    "# DSC 540\n",
    "# Weeks 7 & 8\n",
    "# Summer 2024\n",
    "# Weeks 7 & 8 Exercises\n",
    "# Created By Matthew Heinen\n",
    "# 7/21/24"
   ]
  },
  {
   "cell_type": "markdown",
   "id": "f433e2fc-dba7-4453-88ee-b131bf15922b",
   "metadata": {},
   "source": [
    "# 1) Activity 7.01"
   ]
  },
  {
   "cell_type": "code",
   "execution_count": 4,
   "id": "8ff03f71-6096-41fb-9861-62605b64e078",
   "metadata": {},
   "outputs": [],
   "source": [
    "# 1) Import the necessary libraries. \n",
    "\n",
    "import urllib.request, urllib.parse, urllib.error\n",
    "import requests\n",
    "from bs4 import BeautifulSoup\n",
    "import ssl\n",
    "import re"
   ]
  },
  {
   "cell_type": "code",
   "execution_count": 8,
   "id": "4cf2c768-4f3d-4d37-9371-1ff2f5572c85",
   "metadata": {},
   "outputs": [],
   "source": [
    "# 2 Read in the html from the URL \n",
    "\n",
    "# define the url store as url\n",
    "url = 'https://www.gutenberg.org/browse/scores/top'\n",
    "\n",
    "# use requests.get to call the url. \n",
    "#store in response. \n",
    "response = requests.get(url)"
   ]
  },
  {
   "cell_type": "code",
   "execution_count": 12,
   "id": "ec6f64b4-e83d-4318-9c13-dcb07309b504",
   "metadata": {},
   "outputs": [],
   "source": [
    "# 3) Write small function to check status of the web request. \n",
    "\n",
    "# Write function ststus_check \n",
    "# pass r (response) \n",
    "\n",
    "def status_check(r):\n",
    "    # Check to see if statuse code is 200 if so print sucess. \n",
    "    if r.status_code==200:\n",
    "        print(\"Success!\")\n",
    "        return 1\n",
    "    # For all other ststus codes return failed. \n",
    "    else:\n",
    "        print(\"Failed!\")\n",
    "        return -1"
   ]
  },
  {
   "cell_type": "code",
   "execution_count": 14,
   "id": "69fe5ae2-f8c6-4414-bef5-4024b365dffb",
   "metadata": {},
   "outputs": [
    {
     "name": "stdout",
     "output_type": "stream",
     "text": [
      "Success!\n"
     ]
    },
    {
     "data": {
      "text/plain": [
       "1"
      ]
     },
     "execution_count": 14,
     "metadata": {},
     "output_type": "execute_result"
    }
   ],
   "source": [
    "# Use status_check function to test response. \n",
    "status_check(response)"
   ]
  },
  {
   "cell_type": "code",
   "execution_count": 16,
   "id": "43b20349-8aa0-4966-89fa-571ed69cd883",
   "metadata": {},
   "outputs": [],
   "source": [
    "# 4) Decode the response and pass this on to beautiful soup for HTML parsing. \n",
    "\n",
    "# Use content. decode and response.encoding to decode the response\n",
    "# store this response in a new variable decoded\n",
    "decoded = response.content.decode(response.encoding)\n",
    "\n"
   ]
  },
  {
   "cell_type": "code",
   "execution_count": 28,
   "id": "d27a97af-f33d-495c-8941-7da230518316",
   "metadata": {},
   "outputs": [],
   "source": [
    "# pass decoded into beautiful soup for parsing. \n",
    "# use HTML parser\n",
    "soup = BeautifulSoup(decoded, 'html.parser')"
   ]
  },
  {
   "cell_type": "code",
   "execution_count": 30,
   "id": "fab061e7-c6ec-4985-a590-2e4918223325",
   "metadata": {},
   "outputs": [],
   "source": [
    "# 5) find all href tags and store them in a list of links. Check what the list looks like - print the first 30 elements. \n",
    "\n",
    "\n",
    "# initialize links to hold list of url's \n",
    "links=[]\n"
   ]
  },
  {
   "cell_type": "code",
   "execution_count": 40,
   "id": "e188c063-18c9-4fd7-91da-1bebfe5b7b7d",
   "metadata": {},
   "outputs": [],
   "source": [
    "\n",
    "# loop through soup and find all href links\n",
    "# Use find_all. \n",
    "for link in soup.find_all('a'):\n",
    "    # Add href links to the list of links. \n",
    "    links.append(link.get('href'))"
   ]
  },
  {
   "cell_type": "code",
   "execution_count": 42,
   "id": "a4cd3032-2fd5-402f-b5b2-2c0ac68bac87",
   "metadata": {},
   "outputs": [
    {
     "data": {
      "text/plain": [
       "['/',\n",
       " '/about/',\n",
       " '/about/',\n",
       " '/policy/collection_development.html',\n",
       " '/about/contact_information.html',\n",
       " '/about/background/',\n",
       " '/policy/permission.html',\n",
       " '/policy/privacy_policy.html',\n",
       " '/policy/terms_of_use.html',\n",
       " '/ebooks/',\n",
       " '/ebooks/',\n",
       " '/ebooks/bookshelf/',\n",
       " '/browse/scores/top',\n",
       " '/ebooks/offline_catalogs.html',\n",
       " '/help/',\n",
       " '/help/',\n",
       " '/help/copyright.html',\n",
       " '/help/errata.html',\n",
       " '/help/file_formats.html',\n",
       " '/help/faq.html',\n",
       " '/policy/',\n",
       " '/help/public_domain_ebook_submission.html',\n",
       " '/help/submitting_your_own_work.html',\n",
       " '/help/mobile.html',\n",
       " '/attic/',\n",
       " '/donate/',\n",
       " '/donate/',\n",
       " 'pretty-pictures',\n",
       " '#books-last1',\n",
       " '#authors-last1']"
      ]
     },
     "execution_count": 42,
     "metadata": {},
     "output_type": "execute_result"
    }
   ],
   "source": [
    "# Print the first 30 elements of the links list.\n",
    "links[:30]"
   ]
  },
  {
   "cell_type": "code",
   "execution_count": null,
   "id": "502b17dc-26bf-4f45-aad3-ad252dff7edb",
   "metadata": {},
   "outputs": [],
   "source": []
  },
  {
   "cell_type": "code",
   "execution_count": 54,
   "id": "c00b922c-544b-4ba8-888b-dfe500ceda11",
   "metadata": {},
   "outputs": [],
   "source": [
    "# 6) find the numeric didgets in these links. These are the file numbers of the top 100 ebooks. \n",
    "\n",
    "# initialize book num as empty list. \n",
    "# here we will store the numbers. \n",
    "booknum=[]\n",
    "\n",
    "#loop through every link in the list of links \n",
    "for i in range(19,119):\n",
    "    link=links[i]\n",
    "    # use strip to remove puncuation etc\n",
    "    link=link.strip()\n",
    "    # 7) use the findall from regrex method to find the numeric didgets in the string. \n",
    "    n=re.findall('[0-9]+',link)\n",
    "    if len(n)==1:\n",
    "        # Add the file number to the list\n",
    "        # store as an intiger\n",
    "        booknum.append(int(n[0]))\n"
   ]
  },
  {
   "cell_type": "code",
   "execution_count": 56,
   "id": "4cf7f120-0a03-4c6b-8526-505ee49f5ea7",
   "metadata": {},
   "outputs": [
    {
     "name": "stdout",
     "output_type": "stream",
     "text": [
      "\n",
      "The file numbers for the top 100 ebooks on Gutenberg are shown below\n",
      "----------------------------------------------------------------------\n",
      "[1, 1, 7, 7, 30, 30, 1513, 2701, 2641, 145, 37106, 100, 1342, 16389, 67979, 6761, 394, 2160, 6593, 1259, 4085, 5197, 84, 33283, 11, 74181, 5200, 345, 2554, 28054, 74184, 49010, 2000, 174, 2600, 74183, 4300, 219, 98, 64317, 1661, 2542, 1998, 6130, 52200, 30254, 27827, 1232, 76, 16119, 45, 844, 74182, 514, 2591, 1184, 50150, 2650, 5740, 1952, 67098, 4363, 1400, 1727, 768, 42157, 43, 74188, 996, 135, 2680, 36034, 244, 120, 132, 8800, 1260, 8492, 74, 398, 31284, 74187, 23700, 1080, 74179, 10, 17489, 205, 31552, 600, 58585]\n"
     ]
    }
   ],
   "source": [
    "print (\"\\nThe file numbers for the top 100 ebooks on Gutenberg are shown below\\n\"+\"-\"*70)\n",
    "print(booknum)\n"
   ]
  },
  {
   "cell_type": "code",
   "execution_count": 58,
   "id": "4addf082-c92b-4045-9df2-0f208403f46a",
   "metadata": {},
   "outputs": [
    {
     "name": "stdout",
     "output_type": "stream",
     "text": [
      "\n",
      "\n",
      "\n",
      "\n",
      "Top 100 | Project Gutenberg\n",
      "\n",
      "\n",
      "\n",
      "\n",
      "\n",
      "\n",
      "\n",
      "\n",
      "\n",
      "\n",
      "\n",
      "\n",
      "\n",
      "\n",
      "\n",
      "\n",
      "\n",
      "\n",
      "\n",
      "\n",
      "\n",
      "\n",
      "\n",
      "\n",
      "\n",
      "\n",
      "\n",
      "Menu▾\n",
      "\n",
      "\n",
      "\n",
      "About\n",
      "          ▾\n",
      "\n",
      "▾\n",
      "\n",
      "\n",
      "About Project Gutenberg\n",
      "Collection Development\n",
      "Contact Us\n",
      "History & Philosophy\n",
      "Permissions & License\n",
      "Privacy Policy\n",
      "Terms of Use\n",
      "\n",
      "\n",
      "\n",
      "Search and Browse\n",
      "      \t  ▾\n",
      "\n",
      "▾\n",
      "\n",
      "\n",
      "Book Search\n",
      "Bookshelves\n",
      "Frequently Downloaded\n",
      "Offline Catalogs\n",
      "\n",
      "\n",
      "\n",
      "Help\n",
      "          ▾\n",
      "\n",
      "▾\n",
      "\n",
      "\n",
      "All help topics →\n",
      "Copyright How-To\n",
      "Errata, Fixes and Bug Reports\n",
      "File Formats\n",
      "Frequently Asked Questions\n",
      "Policies →\n",
      "Public Domain eBook Submission\n",
      "Submitting Your Own Work\n",
      "Tablets, Phones and eReaders\n",
      "The Attic →\n",
      "\n",
      "\n",
      "Donate\n",
      "\n",
      "\n",
      "\n",
      "\n",
      "\n",
      "\n",
      "\n",
      "\n",
      "\n",
      "\n",
      "Ways to donate\n",
      "\n",
      "\n",
      "\n",
      "\n",
      "\n",
      "\n",
      "\n",
      "To determine the ranking we count the times each file gets downloaded.\n",
      "Both HTTP and FTP transfers are counted.\n",
      "Only transfers from ibiblio.org are counted as we have no access to our mirrors log files.\n",
      "Multiple downloads from the same IP address on the same day count as one download.\n",
      "IP addresses that download more than 100 files a day are considered\n",
      "robots and are not considered.\n",
      "Books made out of multiple files like most audio books are counted\n",
      "if any file is downloaded.\n",
      "\n",
      "Downloaded Books\n",
      "2024-08-04356874\n",
      "last 7 days2526135\n",
      "last 30 days11620437\n",
      "\n",
      "Pretty Pictures\n",
      "\n",
      "Top 100 EBooks yesterday —\n",
      "  Top 100 Authors yesterday —\n",
      "  Top 100 EBooks last 7 days —\n",
      "  Top 100 Authors last 7 days —\n",
      "  Top 100 EBooks last 30 days —\n",
      "  Top 100 Authors last 30 days\n",
      "\n",
      "Top 100 EBooks yesterday\n",
      "\n",
      "Romeo and Juliet by William Shakespeare (2772)\n",
      "Moby Dick; Or, The Whale by Herman Melville (2420)\n",
      "A Room with a View by E. M.  Forster (1949)\n",
      "Middlemarch by George Eliot (1931)\n",
      "Little Women; Or, Meg, Jo, Beth, and Amy by Louisa May Alcott (1830)\n",
      "The Complete Works of William Shakespeare by William Shakespeare (1807)\n",
      "Pride and Prejudice by Jane Austen (1747)\n",
      "The Enchanted April by Elizabeth Von Arnim (1692)\n",
      "The Blue Castle: a novel by L. M.  Montgomery (1635)\n",
      "The Adventures of Ferdinand Count Fathom — Complete by T.  Smollett (1555)\n",
      "Cranford by Elizabeth Cleghorn Gaskell (1528)\n",
      "The Expedition of Humphry Clinker b\n"
     ]
    }
   ],
   "source": [
    "# 8) print the first 2000 characters of the soup text. \n",
    "# Use .text method\n",
    "print(soup.text[:2000])"
   ]
  },
  {
   "cell_type": "code",
   "execution_count": 74,
   "id": "7da90d20-242d-40fa-b071-1061fb13ed30",
   "metadata": {},
   "outputs": [],
   "source": [
    "# 9) Search the extracted text (using a regular expression) \n",
    "# from the soup object to find the names of the top 100 ebooks. \n",
    "\n",
    "# initialize empty list to store ebook names. \n",
    "# Temp empty list of Ebook names\n",
    "lst_titles_temp=[]"
   ]
  },
  {
   "cell_type": "code",
   "execution_count": 76,
   "id": "33a3d235-ebf4-4d20-a1ce-efcff16d8f89",
   "metadata": {},
   "outputs": [],
   "source": [
    "# 11) run for loop to add strings to temp list. \n",
    "\n",
    "# Define a start index \n",
    "# Here this will allow to begin to collect title names after the Ebook title is displayed\n",
    "# use tex and split lines to vreate split or start point. \n",
    "\n",
    "start_index=soup.text.splitlines().index('Top 100 EBooks yesterday')"
   ]
  },
  {
   "cell_type": "code",
   "execution_count": 80,
   "id": "7d58c3cc-f97f-469d-a6da-12f1dde117d8",
   "metadata": {},
   "outputs": [],
   "source": [
    "# 11) run for loop to add strings to temp list. \n",
    "# loop through the first 100 titles \n",
    "for i in range(100):\n",
    "    # Add these titles to the temporary list after the start index. \n",
    "    # use text and split lines to itetrate through each line after the start. \n",
    "    lst_titles_temp.append(soup.text.splitlines()[start_index+2+i])"
   ]
  },
  {
   "cell_type": "code",
   "execution_count": 82,
   "id": "088014e6-c903-42f0-8754-e932cfdfd8b9",
   "metadata": {},
   "outputs": [],
   "source": [
    "# Initialize list to perm store titles. \n",
    "lst_titles=[]\n",
    "# 12) ues match and span to find indices and use them. \n",
    "#loop through first 100 titles \n",
    "for i in range(100):\n",
    "    # Define ID and ID to and itterate through each item in temp list \n",
    "    id1,id2=re.match('^[a-zA-Z ]*',lst_titles_temp[i]).span()\n",
    "    # Add titles id /id2 to the final list. \n",
    "    lst_titles.append(lst_titles_temp[i][id1:id2])\n"
   ]
  },
  {
   "cell_type": "code",
   "execution_count": 86,
   "id": "2ea223b1-466b-493e-a815-c6ec774b21ec",
   "metadata": {},
   "outputs": [
    {
     "name": "stdout",
     "output_type": "stream",
     "text": [
      "Romeo and Juliet by William Shakespeare \n",
      "Moby Dick\n",
      "A Room with a View by E\n",
      "Middlemarch by George Eliot \n",
      "Little Women\n",
      "The Complete Works of William Shakespeare by William Shakespeare \n",
      "Pride and Prejudice by Jane Austen \n",
      "The Enchanted April by Elizabeth Von Arnim \n",
      "The Blue Castle\n",
      "The Adventures of Ferdinand Count Fathom \n",
      "Cranford by Elizabeth Cleghorn Gaskell \n",
      "The Expedition of Humphry Clinker by T\n",
      "History of Tom Jones\n",
      "Twenty years after by Alexandre Dumas and Auguste Maquet \n",
      "The Adventures of Roderick Random by T\n",
      "My Life \n",
      "Frankenstein\n",
      "Calculus Made Easy by Silvanus P\n",
      "Alice\n",
      "Millions of cats by Wanda G\n",
      "Metamorphosis by Franz Kafka \n",
      "Dracula by Bram Stoker \n",
      "Crime and Punishment by Fyodor Dostoyevsky \n",
      "The Brothers Karamazov by Fyodor Dostoyevsky \n",
      "The negro workers \n",
      "\n",
      "Don Quijote by Miguel de Cervantes Saavedra \n",
      "The Picture of Dorian Gray by Oscar Wilde \n",
      "War and Peace by graf Leo Tolstoy \n",
      "My heart and my flesh by Elizabeth Madox Roberts \n",
      "Ulysses by James Joyce \n",
      "Heart of Darkness by Joseph Conrad \n",
      "A Tale of Two Cities by Charles Dickens \n",
      "The Great Gatsby by F\n",
      "The Adventures of Sherlock Holmes by Arthur Conan Doyle \n",
      "A Doll\n",
      "Thus Spake Zarathustra\n",
      "The Iliad by Homer \n",
      "\n",
      "The Romance of Lust\n",
      "The Kama Sutra of Vatsyayana by Vatsyayana \n",
      "The Prince by Niccol\n",
      "Adventures of Huckleberry Finn by Mark Twain \n",
      "Doctrina Christiana \n",
      "Anne of Green Gables by L\n",
      "The Importance of Being Earnest\n",
      "The triumph of the innocents by William Holman Hunt \n",
      "Little Women by Louisa May Alcott \n",
      "Grimms\n",
      "The Count of Monte Cristo by Alexandre Dumas and Auguste Maquet \n",
      "The Devil is an Ass by Ben Jonson \n",
      "Du c\n",
      "Tractatus Logico\n",
      "The Yellow Wallpaper by Charlotte Perkins Gilman \n",
      "Winnie\n",
      "Beyond Good and Evil by Friedrich Wilhelm Nietzsche \n",
      "Great Expectations by Charles Dickens \n",
      "The Odyssey by Homer \n",
      "Wuthering Heights by Emily Bront\n",
      "The Nursery\n",
      "The Strange Case of Dr\n",
      "The Web \n",
      "Don Quixote by Miguel de Cervantes Saavedra \n",
      "Les Mis\n",
      "Meditations by Emperor of Rome Marcus Aurelius \n",
      "White Nights and Other Stories by Fyodor Dostoyevsky \n",
      "A Study in Scarlet by Arthur Conan Doyle \n",
      "Treasure Island by Robert Louis Stevenson \n",
      "The Art of War by active \n",
      "The divine comedy by Dante Alighieri \n",
      "Jane Eyre\n",
      "The King in Yellow by Robert W\n",
      "The Adventures of Tom Sawyer\n",
      "The First Book of Adam and Eve by Rutherford Hayes Platt \n",
      "Josefine Mutzenbacher by Felix Salten \n",
      "Pictorial history of the war for the Union\n",
      "The Decameron of Giovanni Boccaccio by Giovanni Boccaccio \n",
      "A Modest Proposal by Jonathan Swift \n",
      "A royal son and mother by Baroness Pauline von H\n",
      "The King James Version of the Bible \n",
      "Les mis\n",
      "Walden\n",
      "Novo dicion\n",
      "Notes from the Underground by Fyodor Dostoyevsky \n",
      "The Prophet by Kahlil Gibran \n",
      "The art of money getting \n",
      "Barnaby Rudge\n",
      "The Problems of Philosophy by Bertrand Russell \n",
      "Anna Karenina by graf Leo Tolstoy \n",
      "\n",
      "Peter Pan by J\n",
      "The Republic by Plato \n",
      "The Confessions of St\n",
      "The Scarlet Letter by Nathaniel Hawthorne \n",
      "A Christmas Carol in Prose\n",
      "The murder of Roger Ackroyd by Agatha Christie \n",
      "A Bold Stroke for a Husband\n",
      "The Critique of Pure Reason by Immanuel Kant \n",
      "The Legend of Sleepy Hollow by Washington Irving \n",
      "From Berlin to Bagdad and Babylon by J\n"
     ]
    }
   ],
   "source": [
    "# 13) Print a list of titles. \n",
    "\n",
    "# Loop through and print every item in the top eBooks list. \n",
    "for l in lst_titles:\n",
    "    print(l)"
   ]
  },
  {
   "cell_type": "markdown",
   "id": "c9d936f4-4cb8-41bb-8ebd-f2d096b4cc77",
   "metadata": {},
   "source": [
    "# 2) Activity 7.02"
   ]
  },
  {
   "cell_type": "code",
   "execution_count": null,
   "id": "d5b67662-59a2-47c2-b7c1-76717034de10",
   "metadata": {},
   "outputs": [],
   "source": []
  },
  {
   "cell_type": "code",
   "execution_count": null,
   "id": "31fb5767-672b-46a0-ac72-1c9e21449181",
   "metadata": {},
   "outputs": [],
   "source": []
  },
  {
   "cell_type": "code",
   "execution_count": null,
   "id": "e3433d03-743e-4605-95f4-cb056b19785a",
   "metadata": {},
   "outputs": [],
   "source": []
  },
  {
   "cell_type": "markdown",
   "id": "6e0be914-46a9-4906-808e-2d6b06831752",
   "metadata": {},
   "source": [
    "# 3) Connect to an API of your choice and do a simple data pull - you can use any API - except the API you have selected for your project.\n"
   ]
  },
  {
   "cell_type": "code",
   "execution_count": null,
   "id": "9f056c4d-1996-49b8-beb9-a0ab1d051cf5",
   "metadata": {},
   "outputs": [],
   "source": []
  }
 ],
 "metadata": {
  "kernelspec": {
   "display_name": "Python 3 (ipykernel)",
   "language": "python",
   "name": "python3"
  },
  "language_info": {
   "codemirror_mode": {
    "name": "ipython",
    "version": 3
   },
   "file_extension": ".py",
   "mimetype": "text/x-python",
   "name": "python",
   "nbconvert_exporter": "python",
   "pygments_lexer": "ipython3",
   "version": "3.11.7"
  }
 },
 "nbformat": 4,
 "nbformat_minor": 5
}
