{
 "cells": [
  {
   "cell_type": "code",
   "execution_count": null,
   "id": "7ef9aa78-9a04-4c3c-b88c-86313bc828bc",
   "metadata": {},
   "outputs": [],
   "source": [
    "# DSC 540\n",
    "# Weeks 7 & 8\n",
    "# Summer 2024\n",
    "# Weeks 7 & 8 Exercises\n",
    "# Created By Matthew Heinen\n",
    "# 7/21/24"
   ]
  },
  {
   "cell_type": "markdown",
   "id": "f433e2fc-dba7-4453-88ee-b131bf15922b",
   "metadata": {},
   "source": [
    "# 1) Activity 7.01"
   ]
  },
  {
   "cell_type": "code",
   "execution_count": 4,
   "id": "8ff03f71-6096-41fb-9861-62605b64e078",
   "metadata": {},
   "outputs": [],
   "source": [
    "# 1) Import the necessary libraries. \n",
    "\n",
    "import urllib.request, urllib.parse, urllib.error\n",
    "import requests\n",
    "from bs4 import BeautifulSoup\n",
    "import ssl\n",
    "import re"
   ]
  },
  {
   "cell_type": "code",
   "execution_count": 8,
   "id": "4cf2c768-4f3d-4d37-9371-1ff2f5572c85",
   "metadata": {},
   "outputs": [],
   "source": [
    "# 2 Read in the html from the URL \n",
    "\n",
    "# define the url store as url\n",
    "url = 'https://www.gutenberg.org/browse/scores/top'\n",
    "\n",
    "# use requests.get to call the url. \n",
    "#store in response. \n",
    "response = requests.get(url)"
   ]
  },
  {
   "cell_type": "code",
   "execution_count": 12,
   "id": "ec6f64b4-e83d-4318-9c13-dcb07309b504",
   "metadata": {},
   "outputs": [],
   "source": [
    "# 3) Write small function to check status of the web request. \n",
    "\n",
    "# Write function ststus_check \n",
    "# pass r (response) \n",
    "\n",
    "def status_check(r):\n",
    "    # Check to see if statuse code is 200 if so print sucess. \n",
    "    if r.status_code==200:\n",
    "        print(\"Success!\")\n",
    "        return 1\n",
    "    # For all other ststus codes return failed. \n",
    "    else:\n",
    "        print(\"Failed!\")\n",
    "        return -1"
   ]
  },
  {
   "cell_type": "code",
   "execution_count": 14,
   "id": "69fe5ae2-f8c6-4414-bef5-4024b365dffb",
   "metadata": {},
   "outputs": [
    {
     "name": "stdout",
     "output_type": "stream",
     "text": [
      "Success!\n"
     ]
    },
    {
     "data": {
      "text/plain": [
       "1"
      ]
     },
     "execution_count": 14,
     "metadata": {},
     "output_type": "execute_result"
    }
   ],
   "source": [
    "# Use status_check function to test response. \n",
    "status_check(response)"
   ]
  },
  {
   "cell_type": "code",
   "execution_count": 16,
   "id": "43b20349-8aa0-4966-89fa-571ed69cd883",
   "metadata": {},
   "outputs": [],
   "source": [
    "# 4) Decode the response and pass this on to beautiful soup for HTML parsing. \n",
    "\n",
    "# Use content. decode and response.encoding to decode the response\n",
    "# store this response in a new variable decoded\n",
    "decoded = response.content.decode(response.encoding)\n",
    "\n"
   ]
  },
  {
   "cell_type": "code",
   "execution_count": 28,
   "id": "d27a97af-f33d-495c-8941-7da230518316",
   "metadata": {},
   "outputs": [],
   "source": [
    "# pass decoded into beautiful soup for parsing. \n",
    "# use HTML parser\n",
    "soup = BeautifulSoup(decoded, 'html.parser')"
   ]
  },
  {
   "cell_type": "code",
   "execution_count": 30,
   "id": "fab061e7-c6ec-4985-a590-2e4918223325",
   "metadata": {},
   "outputs": [],
   "source": [
    "# 5) find all href tags and store them in a list of links. Check what the list looks like - print the first 30 elements. \n",
    "\n",
    "\n",
    "# initialize links to hold list of url's \n",
    "links=[]\n"
   ]
  },
  {
   "cell_type": "code",
   "execution_count": 40,
   "id": "e188c063-18c9-4fd7-91da-1bebfe5b7b7d",
   "metadata": {},
   "outputs": [],
   "source": [
    "\n",
    "# loop through soup and find all href links\n",
    "# Use find_all. \n",
    "for link in soup.find_all('a'):\n",
    "    # Add href links to the list of links. \n",
    "    links.append(link.get('href'))"
   ]
  },
  {
   "cell_type": "code",
   "execution_count": 42,
   "id": "a4cd3032-2fd5-402f-b5b2-2c0ac68bac87",
   "metadata": {},
   "outputs": [
    {
     "data": {
      "text/plain": [
       "['/',\n",
       " '/about/',\n",
       " '/about/',\n",
       " '/policy/collection_development.html',\n",
       " '/about/contact_information.html',\n",
       " '/about/background/',\n",
       " '/policy/permission.html',\n",
       " '/policy/privacy_policy.html',\n",
       " '/policy/terms_of_use.html',\n",
       " '/ebooks/',\n",
       " '/ebooks/',\n",
       " '/ebooks/bookshelf/',\n",
       " '/browse/scores/top',\n",
       " '/ebooks/offline_catalogs.html',\n",
       " '/help/',\n",
       " '/help/',\n",
       " '/help/copyright.html',\n",
       " '/help/errata.html',\n",
       " '/help/file_formats.html',\n",
       " '/help/faq.html',\n",
       " '/policy/',\n",
       " '/help/public_domain_ebook_submission.html',\n",
       " '/help/submitting_your_own_work.html',\n",
       " '/help/mobile.html',\n",
       " '/attic/',\n",
       " '/donate/',\n",
       " '/donate/',\n",
       " 'pretty-pictures',\n",
       " '#books-last1',\n",
       " '#authors-last1']"
      ]
     },
     "execution_count": 42,
     "metadata": {},
     "output_type": "execute_result"
    }
   ],
   "source": [
    "# Print the first 30 elements of the links list.\n",
    "links[:30]"
   ]
  },
  {
   "cell_type": "code",
   "execution_count": null,
   "id": "502b17dc-26bf-4f45-aad3-ad252dff7edb",
   "metadata": {},
   "outputs": [],
   "source": []
  },
  {
   "cell_type": "code",
   "execution_count": 54,
   "id": "c00b922c-544b-4ba8-888b-dfe500ceda11",
   "metadata": {},
   "outputs": [],
   "source": [
    "# 6) find the numeric didgets in these links. These are the file numbers of the top 100 ebooks. \n",
    "\n",
    "# initialize book num as empty list. \n",
    "# here we will store the numbers. \n",
    "booknum=[]\n",
    "\n",
    "#loop through every link in the list of links \n",
    "for i in range(19,119):\n",
    "    link=links[i]\n",
    "    # use strip to remove puncuation etc\n",
    "    link=link.strip()\n",
    "    # 7) use the findall from regrex method to find the numeric didgets in the string. \n",
    "    n=re.findall('[0-9]+',link)\n",
    "    if len(n)==1:\n",
    "        # Add the file number to the list\n",
    "        # store as an intiger\n",
    "        booknum.append(int(n[0]))\n"
   ]
  },
  {
   "cell_type": "code",
   "execution_count": 56,
   "id": "4cf7f120-0a03-4c6b-8526-505ee49f5ea7",
   "metadata": {},
   "outputs": [
    {
     "name": "stdout",
     "output_type": "stream",
     "text": [
      "\n",
      "The file numbers for the top 100 ebooks on Gutenberg are shown below\n",
      "----------------------------------------------------------------------\n",
      "[1, 1, 7, 7, 30, 30, 1513, 2701, 2641, 145, 37106, 100, 1342, 16389, 67979, 6761, 394, 2160, 6593, 1259, 4085, 5197, 84, 33283, 11, 74181, 5200, 345, 2554, 28054, 74184, 49010, 2000, 174, 2600, 74183, 4300, 219, 98, 64317, 1661, 2542, 1998, 6130, 52200, 30254, 27827, 1232, 76, 16119, 45, 844, 74182, 514, 2591, 1184, 50150, 2650, 5740, 1952, 67098, 4363, 1400, 1727, 768, 42157, 43, 74188, 996, 135, 2680, 36034, 244, 120, 132, 8800, 1260, 8492, 74, 398, 31284, 74187, 23700, 1080, 74179, 10, 17489, 205, 31552, 600, 58585]\n"
     ]
    }
   ],
   "source": [
    "print (\"\\nThe file numbers for the top 100 ebooks on Gutenberg are shown below\\n\"+\"-\"*70)\n",
    "print(booknum)\n"
   ]
  },
  {
   "cell_type": "code",
   "execution_count": 58,
   "id": "4addf082-c92b-4045-9df2-0f208403f46a",
   "metadata": {},
   "outputs": [
    {
     "name": "stdout",
     "output_type": "stream",
     "text": [
      "\n",
      "\n",
      "\n",
      "\n",
      "Top 100 | Project Gutenberg\n",
      "\n",
      "\n",
      "\n",
      "\n",
      "\n",
      "\n",
      "\n",
      "\n",
      "\n",
      "\n",
      "\n",
      "\n",
      "\n",
      "\n",
      "\n",
      "\n",
      "\n",
      "\n",
      "\n",
      "\n",
      "\n",
      "\n",
      "\n",
      "\n",
      "\n",
      "\n",
      "\n",
      "Menu▾\n",
      "\n",
      "\n",
      "\n",
      "About\n",
      "          ▾\n",
      "\n",
      "▾\n",
      "\n",
      "\n",
      "About Project Gutenberg\n",
      "Collection Development\n",
      "Contact Us\n",
      "History & Philosophy\n",
      "Permissions & License\n",
      "Privacy Policy\n",
      "Terms of Use\n",
      "\n",
      "\n",
      "\n",
      "Search and Browse\n",
      "      \t  ▾\n",
      "\n",
      "▾\n",
      "\n",
      "\n",
      "Book Search\n",
      "Bookshelves\n",
      "Frequently Downloaded\n",
      "Offline Catalogs\n",
      "\n",
      "\n",
      "\n",
      "Help\n",
      "          ▾\n",
      "\n",
      "▾\n",
      "\n",
      "\n",
      "All help topics →\n",
      "Copyright How-To\n",
      "Errata, Fixes and Bug Reports\n",
      "File Formats\n",
      "Frequently Asked Questions\n",
      "Policies →\n",
      "Public Domain eBook Submission\n",
      "Submitting Your Own Work\n",
      "Tablets, Phones and eReaders\n",
      "The Attic →\n",
      "\n",
      "\n",
      "Donate\n",
      "\n",
      "\n",
      "\n",
      "\n",
      "\n",
      "\n",
      "\n",
      "\n",
      "\n",
      "\n",
      "Ways to donate\n",
      "\n",
      "\n",
      "\n",
      "\n",
      "\n",
      "\n",
      "\n",
      "To determine the ranking we count the times each file gets downloaded.\n",
      "Both HTTP and FTP transfers are counted.\n",
      "Only transfers from ibiblio.org are counted as we have no access to our mirrors log files.\n",
      "Multiple downloads from the same IP address on the same day count as one download.\n",
      "IP addresses that download more than 100 files a day are considered\n",
      "robots and are not considered.\n",
      "Books made out of multiple files like most audio books are counted\n",
      "if any file is downloaded.\n",
      "\n",
      "Downloaded Books\n",
      "2024-08-04356874\n",
      "last 7 days2526135\n",
      "last 30 days11620437\n",
      "\n",
      "Pretty Pictures\n",
      "\n",
      "Top 100 EBooks yesterday —\n",
      "  Top 100 Authors yesterday —\n",
      "  Top 100 EBooks last 7 days —\n",
      "  Top 100 Authors last 7 days —\n",
      "  Top 100 EBooks last 30 days —\n",
      "  Top 100 Authors last 30 days\n",
      "\n",
      "Top 100 EBooks yesterday\n",
      "\n",
      "Romeo and Juliet by William Shakespeare (2772)\n",
      "Moby Dick; Or, The Whale by Herman Melville (2420)\n",
      "A Room with a View by E. M.  Forster (1949)\n",
      "Middlemarch by George Eliot (1931)\n",
      "Little Women; Or, Meg, Jo, Beth, and Amy by Louisa May Alcott (1830)\n",
      "The Complete Works of William Shakespeare by William Shakespeare (1807)\n",
      "Pride and Prejudice by Jane Austen (1747)\n",
      "The Enchanted April by Elizabeth Von Arnim (1692)\n",
      "The Blue Castle: a novel by L. M.  Montgomery (1635)\n",
      "The Adventures of Ferdinand Count Fathom — Complete by T.  Smollett (1555)\n",
      "Cranford by Elizabeth Cleghorn Gaskell (1528)\n",
      "The Expedition of Humphry Clinker b\n"
     ]
    }
   ],
   "source": [
    "# 8) print the first 2000 characters of the soup text. \n",
    "# Use .text method\n",
    "print(soup.text[:2000])"
   ]
  },
  {
   "cell_type": "code",
   "execution_count": 74,
   "id": "7da90d20-242d-40fa-b071-1061fb13ed30",
   "metadata": {},
   "outputs": [],
   "source": [
    "# 9) Search the extracted text (using a regular expression) \n",
    "# from the soup object to find the names of the top 100 ebooks. \n",
    "\n",
    "# initialize empty list to store ebook names. \n",
    "# Temp empty list of Ebook names\n",
    "lst_titles_temp=[]"
   ]
  },
  {
   "cell_type": "code",
   "execution_count": 76,
   "id": "33a3d235-ebf4-4d20-a1ce-efcff16d8f89",
   "metadata": {},
   "outputs": [],
   "source": [
    "# 11) run for loop to add strings to temp list. \n",
    "\n",
    "# Define a start index \n",
    "# Here this will allow to begin to collect title names after the Ebook title is displayed\n",
    "# use tex and split lines to vreate split or start point. \n",
    "\n",
    "start_index=soup.text.splitlines().index('Top 100 EBooks yesterday')"
   ]
  },
  {
   "cell_type": "code",
   "execution_count": 80,
   "id": "7d58c3cc-f97f-469d-a6da-12f1dde117d8",
   "metadata": {},
   "outputs": [],
   "source": [
    "# 11) run for loop to add strings to temp list. \n",
    "# loop through the first 100 titles \n",
    "for i in range(100):\n",
    "    # Add these titles to the temporary list after the start index. \n",
    "    # use text and split lines to itetrate through each line after the start. \n",
    "    lst_titles_temp.append(soup.text.splitlines()[start_index+2+i])"
   ]
  },
  {
   "cell_type": "code",
   "execution_count": 82,
   "id": "088014e6-c903-42f0-8754-e932cfdfd8b9",
   "metadata": {},
   "outputs": [],
   "source": [
    "# Initialize list to perm store titles. \n",
    "lst_titles=[]\n",
    "# 12) ues match and span to find indices and use them. \n",
    "#loop through first 100 titles \n",
    "for i in range(100):\n",
    "    # Define ID and ID to and itterate through each item in temp list \n",
    "    id1,id2=re.match('^[a-zA-Z ]*',lst_titles_temp[i]).span()\n",
    "    # Add titles id /id2 to the final list. \n",
    "    lst_titles.append(lst_titles_temp[i][id1:id2])\n"
   ]
  },
  {
   "cell_type": "code",
   "execution_count": 86,
   "id": "2ea223b1-466b-493e-a815-c6ec774b21ec",
   "metadata": {},
   "outputs": [
    {
     "name": "stdout",
     "output_type": "stream",
     "text": [
      "Romeo and Juliet by William Shakespeare \n",
      "Moby Dick\n",
      "A Room with a View by E\n",
      "Middlemarch by George Eliot \n",
      "Little Women\n",
      "The Complete Works of William Shakespeare by William Shakespeare \n",
      "Pride and Prejudice by Jane Austen \n",
      "The Enchanted April by Elizabeth Von Arnim \n",
      "The Blue Castle\n",
      "The Adventures of Ferdinand Count Fathom \n",
      "Cranford by Elizabeth Cleghorn Gaskell \n",
      "The Expedition of Humphry Clinker by T\n",
      "History of Tom Jones\n",
      "Twenty years after by Alexandre Dumas and Auguste Maquet \n",
      "The Adventures of Roderick Random by T\n",
      "My Life \n",
      "Frankenstein\n",
      "Calculus Made Easy by Silvanus P\n",
      "Alice\n",
      "Millions of cats by Wanda G\n",
      "Metamorphosis by Franz Kafka \n",
      "Dracula by Bram Stoker \n",
      "Crime and Punishment by Fyodor Dostoyevsky \n",
      "The Brothers Karamazov by Fyodor Dostoyevsky \n",
      "The negro workers \n",
      "\n",
      "Don Quijote by Miguel de Cervantes Saavedra \n",
      "The Picture of Dorian Gray by Oscar Wilde \n",
      "War and Peace by graf Leo Tolstoy \n",
      "My heart and my flesh by Elizabeth Madox Roberts \n",
      "Ulysses by James Joyce \n",
      "Heart of Darkness by Joseph Conrad \n",
      "A Tale of Two Cities by Charles Dickens \n",
      "The Great Gatsby by F\n",
      "The Adventures of Sherlock Holmes by Arthur Conan Doyle \n",
      "A Doll\n",
      "Thus Spake Zarathustra\n",
      "The Iliad by Homer \n",
      "\n",
      "The Romance of Lust\n",
      "The Kama Sutra of Vatsyayana by Vatsyayana \n",
      "The Prince by Niccol\n",
      "Adventures of Huckleberry Finn by Mark Twain \n",
      "Doctrina Christiana \n",
      "Anne of Green Gables by L\n",
      "The Importance of Being Earnest\n",
      "The triumph of the innocents by William Holman Hunt \n",
      "Little Women by Louisa May Alcott \n",
      "Grimms\n",
      "The Count of Monte Cristo by Alexandre Dumas and Auguste Maquet \n",
      "The Devil is an Ass by Ben Jonson \n",
      "Du c\n",
      "Tractatus Logico\n",
      "The Yellow Wallpaper by Charlotte Perkins Gilman \n",
      "Winnie\n",
      "Beyond Good and Evil by Friedrich Wilhelm Nietzsche \n",
      "Great Expectations by Charles Dickens \n",
      "The Odyssey by Homer \n",
      "Wuthering Heights by Emily Bront\n",
      "The Nursery\n",
      "The Strange Case of Dr\n",
      "The Web \n",
      "Don Quixote by Miguel de Cervantes Saavedra \n",
      "Les Mis\n",
      "Meditations by Emperor of Rome Marcus Aurelius \n",
      "White Nights and Other Stories by Fyodor Dostoyevsky \n",
      "A Study in Scarlet by Arthur Conan Doyle \n",
      "Treasure Island by Robert Louis Stevenson \n",
      "The Art of War by active \n",
      "The divine comedy by Dante Alighieri \n",
      "Jane Eyre\n",
      "The King in Yellow by Robert W\n",
      "The Adventures of Tom Sawyer\n",
      "The First Book of Adam and Eve by Rutherford Hayes Platt \n",
      "Josefine Mutzenbacher by Felix Salten \n",
      "Pictorial history of the war for the Union\n",
      "The Decameron of Giovanni Boccaccio by Giovanni Boccaccio \n",
      "A Modest Proposal by Jonathan Swift \n",
      "A royal son and mother by Baroness Pauline von H\n",
      "The King James Version of the Bible \n",
      "Les mis\n",
      "Walden\n",
      "Novo dicion\n",
      "Notes from the Underground by Fyodor Dostoyevsky \n",
      "The Prophet by Kahlil Gibran \n",
      "The art of money getting \n",
      "Barnaby Rudge\n",
      "The Problems of Philosophy by Bertrand Russell \n",
      "Anna Karenina by graf Leo Tolstoy \n",
      "\n",
      "Peter Pan by J\n",
      "The Republic by Plato \n",
      "The Confessions of St\n",
      "The Scarlet Letter by Nathaniel Hawthorne \n",
      "A Christmas Carol in Prose\n",
      "The murder of Roger Ackroyd by Agatha Christie \n",
      "A Bold Stroke for a Husband\n",
      "The Critique of Pure Reason by Immanuel Kant \n",
      "The Legend of Sleepy Hollow by Washington Irving \n",
      "From Berlin to Bagdad and Babylon by J\n"
     ]
    }
   ],
   "source": [
    "# 13) Print a list of titles. \n",
    "\n",
    "# Loop through and print every item in the top eBooks list. \n",
    "for l in lst_titles:\n",
    "    print(l)"
   ]
  },
  {
   "cell_type": "markdown",
   "id": "c9d936f4-4cb8-41bb-8ebd-f2d096b4cc77",
   "metadata": {},
   "source": [
    "# 2) Activity 7.02"
   ]
  },
  {
   "cell_type": "code",
   "execution_count": 98,
   "id": "d5b67662-59a2-47c2-b7c1-76717034de10",
   "metadata": {},
   "outputs": [],
   "source": [
    "# 1) Import necessary packages. \n",
    "import urllib.request, urllib.parse, urllib.error\n",
    "import json\n"
   ]
  },
  {
   "cell_type": "code",
   "execution_count": 100,
   "id": "1532d683-2e9a-42ae-8e53-30b75daeb318",
   "metadata": {},
   "outputs": [],
   "source": [
    "# 3 store API Key\n",
    "# Write API key into JSON file \n",
    "# API key\n",
    "api_key = '304995df'\n",
    "\n",
    "# Create a dictionary to store the API key\n",
    "api_key_data = {\n",
    "    'OMDBapi': api_key\n",
    "}\n",
    "\n",
    "# Write the API key data to a JSON file\n",
    "with open('APIkeys.json', 'w') as file:\n",
    "    json.dump(api_key_data, file)"
   ]
  },
  {
   "cell_type": "code",
   "execution_count": 102,
   "id": "31fb5767-672b-46a0-ac72-1c9e21449181",
   "metadata": {},
   "outputs": [],
   "source": [
    "# 4) open file. \n",
    "# Load the API key from file\n",
    "# use json.loads()\n",
    "\n",
    "with open('APIkeys.json') as f:\n",
    "    keys = json.load(f)\n",
    "    omdbapi = keys['OMDBapi']"
   ]
  },
  {
   "cell_type": "code",
   "execution_count": 104,
   "id": "e3433d03-743e-4605-95f4-cb056b19785a",
   "metadata": {},
   "outputs": [],
   "source": [
    "# 5) assign OMBd portal as string value to variable. \n",
    "serviceurl = 'http://www.omdbapi.com/?'"
   ]
  },
  {
   "cell_type": "code",
   "execution_count": 106,
   "id": "9c47b625-649f-414b-9dce-296393c30a34",
   "metadata": {},
   "outputs": [],
   "source": [
    "# 6) Create variable API key with the last portion of the URL \n",
    "apikey = '&apikey='+omdbapi"
   ]
  },
  {
   "cell_type": "code",
   "execution_count": 112,
   "id": "87f3710f-a174-4294-badc-1fbbbf230d2c",
   "metadata": {},
   "outputs": [],
   "source": [
    "#7) write function print JSON to print movie data \n",
    "def print_json(json_data):\n",
    "    # Define keys list. \n",
    "    list_keys=['Title', 'Year', 'Rated', 'Released', 'Runtime', 'Genre', 'Director', 'Writer', \n",
    "               'Actors', 'Plot', 'Language', 'Country', 'Awards', 'Ratings', \n",
    "               'Metascore', 'imdbRating', 'imdbVotes', 'imdbID']\n",
    "    print(\"-\"*50)\n",
    "    for k in list_keys:\n",
    "        # Loop throug thr keys and print the JSON data. \n",
    "        if k in list(json_data.keys()):\n",
    "            print(f\"{k}: {json_data[k]}\")\n",
    "    print(\"-\"*50)\n"
   ]
  },
  {
   "cell_type": "code",
   "execution_count": 114,
   "id": "60e0305d-1548-4f35-bae1-429225e461b0",
   "metadata": {},
   "outputs": [],
   "source": [
    "# 8) Write utility function to download movie poster \n",
    "\n",
    "def save_poster(json_data):\n",
    "    #Import packages\n",
    "    import os\n",
    "    # Define title \n",
    "    title = json_data['Title']\n",
    "    # define the poster URL from the JSON data\n",
    "    poster_url = json_data['Poster']\n",
    "    # Use split to split the poster url at the period \n",
    "    poster_file_extension=poster_url.split('.')[-1]\n",
    "    # Reads the image file from web\n",
    "    poster_data = urllib.request.urlopen(poster_url).read()\n",
    "        \n",
    "    savelocation=os.getcwd()+'\\\\'+'Posters'+'\\\\'\n",
    "    # If dictionary does not exist create new path, otherwise use the same path. \n",
    "    if not os.path.isdir(savelocation):\n",
    "        os.mkdir(savelocation)\n",
    "    \n",
    "    filename=savelocation+str(title)+'.'+poster_file_extension\n",
    "    #open the file \n",
    "    f=open(filename,'wb')\n",
    "    # Write poster data to file \n",
    "    f.write(poster_data)\n",
    "    # close the file. \n",
    "    f.close()"
   ]
  },
  {
   "cell_type": "code",
   "execution_count": 116,
   "id": "f90d9e17-e653-4fde-a240-a5bfa88e7253",
   "metadata": {},
   "outputs": [],
   "source": [
    "# 9) Writ utility function to search a movie by its name. \n",
    "\n",
    "# Buils search function to find the movie information by searching a title \n",
    "# pass the title\n",
    "def search_movie(title):\n",
    "    # Try block to reach the API \n",
    "    try:\n",
    "        url = serviceurl + urllib.parse.urlencode({'t': str(title)})+apikey\n",
    "        # Print header message\n",
    "        print(f'Retrieving the data of \"{title}\" now... ')\n",
    "        print(url)\n",
    "        # use url open to open the request. \n",
    "        uh = urllib.request.urlopen(url)\n",
    "        #read and store data in variable .\n",
    "        data = uh.read()\n",
    "        # store JSON form. \n",
    "        json_data=json.loads(data)\n",
    "\n",
    "        # If we get a response\n",
    "        if json_data['Response']=='True':\n",
    "            # print the data to user. \n",
    "            print_json(json_data)\n",
    "            # Asks user whether to download the poster of the movie\n",
    "            if json_data['Poster']!='N/A':\n",
    "         \n",
    "                save_poster(json_data)\n",
    "        # Error hendeling id the json data has an error\n",
    "        else:\n",
    "            print(\"Error encountered: \",json_data['Error'])\n",
    "    # Exception handle for URL error. \n",
    "    except urllib.error.URLError as e:\n",
    "        print(f\"ERROR: {e.reason}\")\n"
   ]
  },
  {
   "cell_type": "code",
   "execution_count": 118,
   "id": "d7974bc4-2c1b-4c05-ba85-ad30d3f61790",
   "metadata": {},
   "outputs": [
    {
     "name": "stdout",
     "output_type": "stream",
     "text": [
      "Retrieving the data of \"Titanic\" now... \n",
      "http://www.omdbapi.com/?t=Titanic&apikey=304995df\n",
      "--------------------------------------------------\n",
      "Title: Titanic\n",
      "Year: 1997\n",
      "Rated: PG-13\n",
      "Released: 19 Dec 1997\n",
      "Runtime: 194 min\n",
      "Genre: Drama, Romance\n",
      "Director: James Cameron\n",
      "Writer: James Cameron\n",
      "Actors: Leonardo DiCaprio, Kate Winslet, Billy Zane\n",
      "Plot: A seventeen-year-old aristocrat falls in love with a kind but poor artist aboard the luxurious, ill-fated R.M.S. Titanic.\n",
      "Language: English, Swedish, Italian, French\n",
      "Country: United States, Mexico\n",
      "Awards: Won 11 Oscars. 126 wins & 83 nominations total\n",
      "Ratings: [{'Source': 'Internet Movie Database', 'Value': '7.9/10'}, {'Source': 'Rotten Tomatoes', 'Value': '88%'}, {'Source': 'Metacritic', 'Value': '75/100'}]\n",
      "Metascore: 75\n",
      "imdbRating: 7.9\n",
      "imdbVotes: 1,292,276\n",
      "imdbID: tt0120338\n",
      "--------------------------------------------------\n"
     ]
    }
   ],
   "source": [
    "# 10) Test search movie function by entering titanic. \n",
    "\n",
    "# Call Search Movie.\n",
    "# pass Titanic\n",
    "search_movie(\"Titanic\")"
   ]
  },
  {
   "cell_type": "code",
   "execution_count": 120,
   "id": "5c54618d-7665-4485-bdee-c0f5e752f5de",
   "metadata": {},
   "outputs": [
    {
     "name": "stdout",
     "output_type": "stream",
     "text": [
      "Retrieving the data of \"Random_error\" now... \n",
      "http://www.omdbapi.com/?t=Random_error&apikey=304995df\n",
      "Error encountered:  Movie not found!\n"
     ]
    }
   ],
   "source": [
    "# 11) pass random error into the search movie function. \n",
    "# the purpose here is to test error handeling. \n",
    "search_movie(\"Random_error\")"
   ]
  },
  {
   "cell_type": "code",
   "execution_count": null,
   "id": "9d2ad2e3-e58d-4385-84c2-a80452d01d79",
   "metadata": {},
   "outputs": [],
   "source": [
    "# Check file directory for the movie poster from titanic. \n",
    "\n",
    "# Note: the jpeg is there. "
   ]
  },
  {
   "cell_type": "markdown",
   "id": "6e0be914-46a9-4906-808e-2d6b06831752",
   "metadata": {},
   "source": [
    "# 3) Connect to an API of your choice and do a simple data pull - you can use any API - except the API you have selected for your project.\n",
    "\n",
    "## Connect to the API and do a \"Get\" call/operation on the API to return a subset of data from the API\n"
   ]
  },
  {
   "cell_type": "code",
   "execution_count": 159,
   "id": "6787617a-e25b-48b2-af8f-eb3c3396c682",
   "metadata": {},
   "outputs": [
    {
     "name": "stdout",
     "output_type": "stream",
     "text": [
      "{'Meta Data': {'1. Information': 'Intraday (5min) open, high, low, close prices and volume', '2. Symbol': 'WFH', '3. Last Refreshed': '2024-08-06 20:00:00', '4. Interval': '5min', '5. Output Size': 'Compact', '6. Time Zone': 'US/Eastern'}, 'Time Series (5min)': {'2024-08-06 20:00:00': {'1. open': '51.2980', '2. high': '51.2980', '3. low': '51.2980', '4. close': '51.2980', '5. volume': '100'}, '2024-08-06 18:30:00': {'1. open': '51.2980', '2. high': '51.2980', '3. low': '51.2980', '4. close': '51.2980', '5. volume': '100'}, '2024-08-06 16:10:00': {'1. open': '51.2980', '2. high': '51.2980', '3. low': '51.2980', '4. close': '51.2980', '5. volume': '100'}, '2024-08-06 16:00:00': {'1. open': '51.3500', '2. high': '51.3500', '3. low': '51.2980', '4. close': '51.2980', '5. volume': '101'}, '2024-08-06 15:05:00': {'1. open': '51.4500', '2. high': '51.4500', '3. low': '51.4500', '4. close': '51.4500', '5. volume': '118'}, '2024-08-06 14:45:00': {'1. open': '51.8150', '2. high': '51.8150', '3. low': '51.8100', '4. close': '51.8100', '5. volume': '2476'}, '2024-08-06 13:05:00': {'1. open': '51.7360', '2. high': '51.7360', '3. low': '51.7360', '4. close': '51.7360', '5. volume': '200'}, '2024-08-06 11:35:00': {'1. open': '51.3700', '2. high': '51.3700', '3. low': '51.3700', '4. close': '51.3700', '5. volume': '144'}, '2024-08-05 20:00:00': {'1. open': '50.8370', '2. high': '50.8370', '3. low': '50.8370', '4. close': '50.8370', '5. volume': '100'}, '2024-08-05 18:30:00': {'1. open': '50.8370', '2. high': '50.8370', '3. low': '50.8370', '4. close': '50.8370', '5. volume': '100'}, '2024-08-05 16:10:00': {'1. open': '50.8370', '2. high': '50.8370', '3. low': '50.8370', '4. close': '50.8370', '5. volume': '100'}, '2024-08-05 16:00:00': {'1. open': '50.8200', '2. high': '50.8370', '3. low': '50.8200', '4. close': '50.8370', '5. volume': '181'}, '2024-08-05 11:10:00': {'1. open': '50.9500', '2. high': '50.9500', '3. low': '50.9500', '4. close': '50.9500', '5. volume': '101'}, '2024-08-05 09:40:00': {'1. open': '50.2800', '2. high': '50.2800', '3. low': '50.2800', '4. close': '50.2800', '5. volume': '2100'}, '2024-08-05 08:20:00': {'1. open': '49.7000', '2. high': '49.7000', '3. low': '49.7000', '4. close': '49.7000', '5. volume': '20'}, '2024-08-05 07:00:00': {'1. open': '51.3600', '2. high': '51.3600', '3. low': '51.3600', '4. close': '51.3600', '5. volume': '2100'}, '2024-08-02 20:00:00': {'1. open': '52.3850', '2. high': '52.3850', '3. low': '52.3850', '4. close': '52.3850', '5. volume': '100'}, '2024-08-02 18:30:00': {'1. open': '52.3850', '2. high': '52.3850', '3. low': '52.3850', '4. close': '52.3850', '5. volume': '100'}, '2024-08-02 16:10:00': {'1. open': '52.3850', '2. high': '52.3850', '3. low': '52.3850', '4. close': '52.3850', '5. volume': '100'}, '2024-08-02 16:00:00': {'1. open': '52.3300', '2. high': '52.3850', '3. low': '52.2400', '4. close': '52.2400', '5. volume': '198'}, '2024-08-02 15:10:00': {'1. open': '52.2200', '2. high': '52.2200', '3. low': '52.2200', '4. close': '52.2200', '5. volume': '118'}, '2024-08-02 10:30:00': {'1. open': '51.9440', '2. high': '51.9440', '3. low': '51.9440', '4. close': '51.9440', '5. volume': '301'}, '2024-08-02 09:30:00': {'1. open': '52.4700', '2. high': '52.4700', '3. low': '52.4700', '4. close': '52.4700', '5. volume': '420'}, '2024-08-01 20:00:00': {'1. open': '53.7970', '2. high': '53.7970', '3. low': '53.7970', '4. close': '53.7970', '5. volume': '100'}, '2024-08-01 18:30:00': {'1. open': '53.7970', '2. high': '53.7970', '3. low': '53.7970', '4. close': '53.7970', '5. volume': '100'}, '2024-08-01 16:15:00': {'1. open': '54.0500', '2. high': '54.0500', '3. low': '54.0500', '4. close': '54.0500', '5. volume': '21'}, '2024-08-01 16:10:00': {'1. open': '53.7970', '2. high': '53.7970', '3. low': '53.7970', '4. close': '53.7970', '5. volume': '100'}, '2024-08-01 16:00:00': {'1. open': '53.7600', '2. high': '53.7970', '3. low': '53.7600', '4. close': '53.7970', '5. volume': '172'}, '2024-08-01 15:05:00': {'1. open': '53.5100', '2. high': '53.5100', '3. low': '53.5100', '4. close': '53.5100', '5. volume': '123'}, '2024-08-01 14:55:00': {'1. open': '53.4650', '2. high': '53.4650', '3. low': '53.4600', '4. close': '53.4600', '5. volume': '525'}, '2024-07-31 20:00:00': {'1. open': '55.2470', '2. high': '55.2470', '3. low': '55.2470', '4. close': '55.2470', '5. volume': '100'}, '2024-07-31 18:30:00': {'1. open': '55.2470', '2. high': '55.2470', '3. low': '55.2470', '4. close': '55.2470', '5. volume': '100'}, '2024-07-31 17:40:00': {'1. open': '55.0000', '2. high': '55.0000', '3. low': '55.0000', '4. close': '55.0000', '5. volume': '1'}, '2024-07-31 16:25:00': {'1. open': '56.1200', '2. high': '56.1200', '3. low': '56.1200', '4. close': '56.1200', '5. volume': '4'}, '2024-07-31 16:10:00': {'1. open': '55.2470', '2. high': '55.2470', '3. low': '55.2470', '4. close': '55.2470', '5. volume': '100'}, '2024-07-31 16:00:00': {'1. open': '55.1800', '2. high': '55.2470', '3. low': '55.1300', '4. close': '55.1300', '5. volume': '182'}, '2024-07-31 15:10:00': {'1. open': '55.5600', '2. high': '55.5600', '3. low': '55.5600', '4. close': '55.5600', '5. volume': '104'}, '2024-07-31 12:55:00': {'1. open': '55.3500', '2. high': '55.3500', '3. low': '55.3500', '4. close': '55.3500', '5. volume': '103'}, '2024-07-31 10:35:00': {'1. open': '55.3100', '2. high': '55.3100', '3. low': '55.3100', '4. close': '55.3100', '5. volume': '188'}, '2024-07-30 20:00:00': {'1. open': '54.6180', '2. high': '54.6180', '3. low': '54.6180', '4. close': '54.6180', '5. volume': '100'}, '2024-07-30 18:30:00': {'1. open': '54.6180', '2. high': '54.6180', '3. low': '54.6180', '4. close': '54.6180', '5. volume': '100'}, '2024-07-30 16:10:00': {'1. open': '54.6180', '2. high': '54.6180', '3. low': '54.6180', '4. close': '54.6180', '5. volume': '100'}, '2024-07-30 16:00:00': {'1. open': '54.4600', '2. high': '54.6180', '3. low': '54.4600', '4. close': '54.6180', '5. volume': '131'}, '2024-07-30 15:05:00': {'1. open': '54.4600', '2. high': '54.4600', '3. low': '54.4600', '4. close': '54.4600', '5. volume': '117'}, '2024-07-30 09:40:00': {'1. open': '55.2000', '2. high': '55.2000', '3. low': '55.2000', '4. close': '55.2000', '5. volume': '346'}, '2024-07-30 09:30:00': {'1. open': '54.8300', '2. high': '54.8300', '3. low': '54.8300', '4. close': '54.8300', '5. volume': '206'}, '2024-07-29 20:00:00': {'1. open': '54.9310', '2. high': '54.9310', '3. low': '54.9310', '4. close': '54.9310', '5. volume': '100'}, '2024-07-29 18:30:00': {'1. open': '54.9310', '2. high': '54.9310', '3. low': '54.9310', '4. close': '54.9310', '5. volume': '100'}, '2024-07-29 16:20:00': {'1. open': '55.9700', '2. high': '55.9700', '3. low': '55.9700', '4. close': '55.9700', '5. volume': '11'}, '2024-07-29 16:15:00': {'1. open': '55.5200', '2. high': '55.5200', '3. low': '55.5200', '4. close': '55.5200', '5. volume': '10'}, '2024-07-29 16:10:00': {'1. open': '54.9310', '2. high': '54.9310', '3. low': '54.9310', '4. close': '54.9310', '5. volume': '100'}, '2024-07-29 16:00:00': {'1. open': '54.8400', '2. high': '54.9310', '3. low': '54.8400', '4. close': '54.9310', '5. volume': '128'}, '2024-07-29 15:45:00': {'1. open': '54.9700', '2. high': '54.9700', '3. low': '54.9700', '4. close': '54.9700', '5. volume': '140'}, '2024-07-29 15:25:00': {'1. open': '54.9300', '2. high': '54.9300', '3. low': '54.9300', '4. close': '54.9300', '5. volume': '128'}, '2024-07-29 14:40:00': {'1. open': '54.9500', '2. high': '54.9500', '3. low': '54.9500', '4. close': '54.9500', '5. volume': '100'}, '2024-07-26 20:00:00': {'1. open': '54.9620', '2. high': '54.9620', '3. low': '54.9620', '4. close': '54.9620', '5. volume': '100'}, '2024-07-26 18:30:00': {'1. open': '54.9620', '2. high': '54.9620', '3. low': '54.9620', '4. close': '54.9620', '5. volume': '100'}, '2024-07-26 16:10:00': {'1. open': '54.9620', '2. high': '54.9620', '3. low': '54.9620', '4. close': '54.9620', '5. volume': '100'}, '2024-07-26 16:00:00': {'1. open': '54.9700', '2. high': '54.9700', '3. low': '54.9620', '4. close': '54.9620', '5. volume': '191'}, '2024-07-26 14:15:00': {'1. open': '55.1100', '2. high': '55.1100', '3. low': '55.1100', '4. close': '55.1100', '5. volume': '150'}, '2024-07-26 14:05:00': {'1. open': '55.0500', '2. high': '55.1000', '3. low': '55.0500', '4. close': '55.1000', '5. volume': '200'}, '2024-07-25 20:00:00': {'1. open': '54.5660', '2. high': '54.5660', '3. low': '54.5660', '4. close': '54.5660', '5. volume': '100'}, '2024-07-25 18:30:00': {'1. open': '54.5660', '2. high': '54.5660', '3. low': '54.5660', '4. close': '54.5660', '5. volume': '100'}, '2024-07-25 16:10:00': {'1. open': '54.5660', '2. high': '54.5660', '3. low': '54.5660', '4. close': '54.5660', '5. volume': '100'}, '2024-07-25 16:00:00': {'1. open': '54.6200', '2. high': '54.6200', '3. low': '54.5660', '4. close': '54.5660', '5. volume': '128'}, '2024-07-25 15:20:00': {'1. open': '54.9700', '2. high': '54.9700', '3. low': '54.9700', '4. close': '54.9700', '5. volume': '108'}, '2024-07-25 15:05:00': {'1. open': '54.8700', '2. high': '54.8700', '3. low': '54.8700', '4. close': '54.8700', '5. volume': '114'}, '2024-07-25 13:40:00': {'1. open': '55.1400', '2. high': '55.1400', '3. low': '55.1400', '4. close': '55.1400', '5. volume': '404'}, '2024-07-25 13:25:00': {'1. open': '55.1430', '2. high': '55.1430', '3. low': '55.1430', '4. close': '55.1430', '5. volume': '100'}, '2024-07-25 11:20:00': {'1. open': '54.7290', '2. high': '54.7290', '3. low': '54.7290', '4. close': '54.7290', '5. volume': '200'}, '2024-07-25 09:30:00': {'1. open': '53.9500', '2. high': '53.9500', '3. low': '53.9500', '4. close': '53.9500', '5. volume': '253'}, '2024-07-24 20:00:00': {'1. open': '53.6290', '2. high': '53.6290', '3. low': '53.6290', '4. close': '53.6290', '5. volume': '100'}, '2024-07-24 18:30:00': {'1. open': '53.6290', '2. high': '53.6290', '3. low': '53.6290', '4. close': '53.6290', '5. volume': '100'}, '2024-07-24 16:45:00': {'1. open': '52.1500', '2. high': '52.1500', '3. low': '52.1500', '4. close': '52.1500', '5. volume': '1'}, '2024-07-24 16:10:00': {'1. open': '53.6290', '2. high': '53.6290', '3. low': '53.6290', '4. close': '53.6290', '5. volume': '100'}, '2024-07-24 16:00:00': {'1. open': '54.8900', '2. high': '54.8900', '3. low': '53.6290', '4. close': '53.6290', '5. volume': '165'}, '2024-07-23 20:00:00': {'1. open': '55.2600', '2. high': '55.2600', '3. low': '55.2600', '4. close': '55.2600', '5. volume': '100'}, '2024-07-23 18:30:00': {'1. open': '55.2600', '2. high': '55.2600', '3. low': '55.2600', '4. close': '55.2600', '5. volume': '100'}, '2024-07-23 16:10:00': {'1. open': '55.2600', '2. high': '55.2600', '3. low': '55.2600', '4. close': '55.2600', '5. volume': '100'}, '2024-07-23 16:00:00': {'1. open': '55.3200', '2. high': '55.3200', '3. low': '55.2600', '4. close': '55.2600', '5. volume': '151'}, '2024-07-23 15:05:00': {'1. open': '55.4700', '2. high': '55.4700', '3. low': '55.4700', '4. close': '55.4700', '5. volume': '130'}, '2024-07-23 10:55:00': {'1. open': '55.1610', '2. high': '55.1610', '3. low': '55.1610', '4. close': '55.1610', '5. volume': '400'}, '2024-07-23 09:55:00': {'1. open': '55.2750', '2. high': '55.2750', '3. low': '55.2750', '4. close': '55.2750', '5. volume': '100'}, '2024-07-23 09:30:00': {'1. open': '55.0000', '2. high': '55.0000', '3. low': '55.0000', '4. close': '55.0000', '5. volume': '101'}, '2024-07-22 20:00:00': {'1. open': '54.9890', '2. high': '54.9890', '3. low': '54.9890', '4. close': '54.9890', '5. volume': '100'}, '2024-07-22 18:30:00': {'1. open': '54.9890', '2. high': '54.9890', '3. low': '54.9890', '4. close': '54.9890', '5. volume': '100'}, '2024-07-22 16:10:00': {'1. open': '54.9890', '2. high': '54.9890', '3. low': '54.9890', '4. close': '54.9890', '5. volume': '100'}, '2024-07-22 16:00:00': {'1. open': '55.0600', '2. high': '55.0600', '3. low': '54.9890', '4. close': '54.9890', '5. volume': '124'}, '2024-07-22 15:45:00': {'1. open': '54.9700', '2. high': '54.9700', '3. low': '54.9700', '4. close': '54.9700', '5. volume': '142'}, '2024-07-22 13:55:00': {'1. open': '54.8790', '2. high': '54.8790', '3. low': '54.8790', '4. close': '54.8790', '5. volume': '516'}, '2024-07-22 13:20:00': {'1. open': '54.8410', '2. high': '54.8410', '3. low': '54.8410', '4. close': '54.8410', '5. volume': '400'}, '2024-07-22 11:45:00': {'1. open': '54.6950', '2. high': '54.6950', '3. low': '54.6950', '4. close': '54.6950', '5. volume': '860'}, '2024-07-19 20:00:00': {'1. open': '54.6320', '2. high': '54.6320', '3. low': '54.6320', '4. close': '54.6320', '5. volume': '100'}, '2024-07-19 18:30:00': {'1. open': '54.6320', '2. high': '54.6320', '3. low': '54.6320', '4. close': '54.6320', '5. volume': '100'}, '2024-07-19 16:10:00': {'1. open': '54.6320', '2. high': '54.6320', '3. low': '54.6320', '4. close': '54.6320', '5. volume': '100'}, '2024-07-19 16:00:00': {'1. open': '54.6000', '2. high': '54.6320', '3. low': '54.6000', '4. close': '54.6320', '5. volume': '101'}, '2024-07-19 15:15:00': {'1. open': '54.6100', '2. high': '54.6100', '3. low': '54.6100', '4. close': '54.6100', '5. volume': '109'}, '2024-07-19 15:00:00': {'1. open': '54.5230', '2. high': '54.5230', '3. low': '54.5230', '4. close': '54.5230', '5. volume': '152'}, '2024-07-19 09:30:00': {'1. open': '54.7400', '2. high': '54.7400', '3. low': '54.7400', '4. close': '54.7400', '5. volume': '200'}, '2024-07-18 20:00:00': {'1. open': '54.9120', '2. high': '54.9120', '3. low': '54.9120', '4. close': '54.9120', '5. volume': '100'}}}\n"
     ]
    }
   ],
   "source": [
    "# We Have chosen to use a stock API to display stock information. \n",
    "\n",
    "# API KEY: P4ZZBS5VD8WA2PAH\n",
    "\n",
    "# Import packages\n",
    "import requests\n",
    "\n",
    "# define url \n",
    "url = 'https://www.alphavantage.co/query?function=TIME_SERIES_INTRADAY'\n",
    "\n",
    "\n",
    "# Define the parameters\n",
    "# Edit params to find soock you wish \n",
    "params = {\n",
    "    # Chose wells fargo to search\n",
    "    'symbol': 'WFH',\n",
    "    'interval': '5min',\n",
    "    'apikey' : 'P4ZZBS5VD8WA2PAH'\n",
    "}\n",
    "\n",
    "\n",
    "# Define request use get to make call.\n",
    "response = requests.get(url, params=params)\n",
    "\n",
    "# Store Json data\n",
    "data = response.json()\n",
    "# print the result \n",
    "print(data)\n",
    "\n",
    "\n"
   ]
  },
  {
   "cell_type": "markdown",
   "id": "d32fcae6-8316-4d70-b358-615253593f1a",
   "metadata": {},
   "source": [
    "# 4. Using one of the datasets provided in Weeks 5 & 6, or a dataset of your own, choose 3 of the following visualizations to complete. You must submit via PDF along with your code. You are free to use Matplotlib, Seaborn or another package if you prefer.\n",
    "\n",
    "a. Line\n",
    "b. Scatter\n",
    "c. Bar\n",
    "d. Histogram\n",
    "e. Density Plot\n",
    "f. Pie Chart\n",
    "\n"
   ]
  },
  {
   "cell_type": "markdown",
   "id": "f81d756a-30c4-49cb-b701-e314c80c75f0",
   "metadata": {},
   "source": [
    "For this part of the excercises i will be using a dataset that tracks MLB pitcher statistics and if they have had Tommy John Surgery or not. "
   ]
  },
  {
   "cell_type": "code",
   "execution_count": 166,
   "id": "b436a592-8e17-4370-93a5-4e816d67c483",
   "metadata": {},
   "outputs": [
    {
     "data": {
      "text/html": [
       "<div>\n",
       "<style scoped>\n",
       "    .dataframe tbody tr th:only-of-type {\n",
       "        vertical-align: middle;\n",
       "    }\n",
       "\n",
       "    .dataframe tbody tr th {\n",
       "        vertical-align: top;\n",
       "    }\n",
       "\n",
       "    .dataframe thead th {\n",
       "        text-align: right;\n",
       "    }\n",
       "</style>\n",
       "<table border=\"1\" class=\"dataframe\">\n",
       "  <thead>\n",
       "    <tr style=\"text-align: right;\">\n",
       "      <th></th>\n",
       "      <th>tj_history</th>\n",
       "      <th>age</th>\n",
       "      <th>innings_pitched</th>\n",
       "      <th>fastball_avg_speed</th>\n",
       "      <th>fastball_avg_spin</th>\n",
       "      <th>breaking_avg_speed</th>\n",
       "      <th>breaking_avg_spin</th>\n",
       "      <th>offspeed_avg_speed</th>\n",
       "      <th>offspeed_avg_spin</th>\n",
       "    </tr>\n",
       "  </thead>\n",
       "  <tbody>\n",
       "    <tr>\n",
       "      <th>0</th>\n",
       "      <td>0</td>\n",
       "      <td>28</td>\n",
       "      <td>37.2</td>\n",
       "      <td>91.6</td>\n",
       "      <td>2288</td>\n",
       "      <td>81.2</td>\n",
       "      <td>2115.00000</td>\n",
       "      <td>83.5</td>\n",
       "      <td>1489.0</td>\n",
       "    </tr>\n",
       "    <tr>\n",
       "      <th>1</th>\n",
       "      <td>0</td>\n",
       "      <td>38</td>\n",
       "      <td>164.0</td>\n",
       "      <td>91.6</td>\n",
       "      <td>2009</td>\n",
       "      <td>82.3</td>\n",
       "      <td>2023.00000</td>\n",
       "      <td>86.3</td>\n",
       "      <td>1678.0</td>\n",
       "    </tr>\n",
       "    <tr>\n",
       "      <th>2</th>\n",
       "      <td>0</td>\n",
       "      <td>27</td>\n",
       "      <td>52.0</td>\n",
       "      <td>94.4</td>\n",
       "      <td>2406</td>\n",
       "      <td>83.1</td>\n",
       "      <td>2371.00000</td>\n",
       "      <td>86.5</td>\n",
       "      <td>2189.0</td>\n",
       "    </tr>\n",
       "    <tr>\n",
       "      <th>3</th>\n",
       "      <td>0</td>\n",
       "      <td>29</td>\n",
       "      <td>119.0</td>\n",
       "      <td>88.2</td>\n",
       "      <td>2306</td>\n",
       "      <td>74.9</td>\n",
       "      <td>2587.00000</td>\n",
       "      <td>81.4</td>\n",
       "      <td>1783.0</td>\n",
       "    </tr>\n",
       "    <tr>\n",
       "      <th>4</th>\n",
       "      <td>0</td>\n",
       "      <td>26</td>\n",
       "      <td>61.1</td>\n",
       "      <td>94.1</td>\n",
       "      <td>2472</td>\n",
       "      <td>86.3</td>\n",
       "      <td>2350.47096</td>\n",
       "      <td>86.2</td>\n",
       "      <td>1767.0</td>\n",
       "    </tr>\n",
       "  </tbody>\n",
       "</table>\n",
       "</div>"
      ],
      "text/plain": [
       "   tj_history  age  innings_pitched  fastball_avg_speed  fastball_avg_spin  \\\n",
       "0           0   28             37.2                91.6               2288   \n",
       "1           0   38            164.0                91.6               2009   \n",
       "2           0   27             52.0                94.4               2406   \n",
       "3           0   29            119.0                88.2               2306   \n",
       "4           0   26             61.1                94.1               2472   \n",
       "\n",
       "   breaking_avg_speed  breaking_avg_spin  offspeed_avg_speed  \\\n",
       "0                81.2         2115.00000                83.5   \n",
       "1                82.3         2023.00000                86.3   \n",
       "2                83.1         2371.00000                86.5   \n",
       "3                74.9         2587.00000                81.4   \n",
       "4                86.3         2350.47096                86.2   \n",
       "\n",
       "   offspeed_avg_spin  \n",
       "0             1489.0  \n",
       "1             1678.0  \n",
       "2             2189.0  \n",
       "3             1783.0  \n",
       "4             1767.0  "
      ]
     },
     "execution_count": 166,
     "metadata": {},
     "output_type": "execute_result"
    }
   ],
   "source": [
    "import pandas as pd\n",
    "\n",
    "# Read the TJ data CSV file into a DataFrame\n",
    "tj = pd.read_csv('tj_summary.csv')\n",
    "\n",
    "# View DF\n",
    "tj.head()"
   ]
  },
  {
   "cell_type": "code",
   "execution_count": 168,
   "id": "78413223-c151-4815-9fca-36e38c2fb23b",
   "metadata": {},
   "outputs": [
    {
     "data": {
      "image/png": "[encoded data removed]",
      "text/plain": [
       "<Figure size 640x480 with 1 Axes>"
      ]
     },
     "metadata": {},
     "output_type": "display_data"
    }
   ],
   "source": [
    "# Build a Histogram showing the age dispersion of pitchers in our dataset. \n",
    "# Create histogram buing matplotlib and 30 binsto improve readability. \n",
    "import numpy as np\n",
    "import matplotlib.pyplot as plt\n",
    "\n",
    "\n",
    "x = tj.age\n",
    "# Use 27 bins one for every age.\n",
    "bins = np.linspace(18, 45, 27)\n",
    "\n",
    "plt.hist([x], bins, label=['Age'])\n",
    "plt.legend(loc='upper right')\n",
    "plt.xlabel(\"Age\")\n",
    "plt.ylabel(\"Count\")\n",
    "plt.show()"
   ]
  },
  {
   "cell_type": "code",
   "execution_count": 176,
   "id": "53502940-e7c2-45d3-bec3-e8bb6f7e09f2",
   "metadata": {},
   "outputs": [
    {
     "data": {
      "image/png": "[encoded data removed]",
      "text/plain": [
       "<Figure size 800x600 with 1 Axes>"
      ]
     },
     "metadata": {},
     "output_type": "display_data"
    }
   ],
   "source": [
    "# Build Scattar plot showing the relationship between age and fastball speed. \n",
    "\n",
    "plt.figure(figsize=(8, 6))\n",
    "plt.scatter(tj['age'], tj['fastball_avg_speed'], color='b', marker='o')\n",
    "\n",
    "# Use numpy to add a trendline\n",
    "# Define coefficients\n",
    "coefficients = np.polyfit(tj['age'], tj['fastball_avg_speed'], 1)\n",
    "# Define Trendline\n",
    "trendline = np.poly1d(coefficients)\n",
    "# plot Trendline\n",
    "plt.plot(tj['age'], trendline(tj['age']), color='r', label='Trendline')\n",
    "# Add labels and title\n",
    "plt.title('Age vs Speed')\n",
    "plt.xlabel('Age')\n",
    "plt.ylabel('Speed')\n",
    "\n",
    "# Display the plot\n",
    "plt.show()"
   ]
  },
  {
   "cell_type": "code",
   "execution_count": 180,
   "id": "868a86d8-67f1-4413-97c2-2e12050cec77",
   "metadata": {},
   "outputs": [
    {
     "data": {
      "image/png": "[encoded data removed]",
      "text/plain": [
       "<Figure size 800x600 with 1 Axes>"
      ]
     },
     "metadata": {},
     "output_type": "display_data"
    }
   ],
   "source": [
    "# Build a pie chart showing the breakdown of pitchers who have and have not had tommy john. \n",
    "\n",
    "# Calculate the value counts for tommy john history. \n",
    "tj_history_counts = tj['tj_history'].value_counts()\n",
    "\n",
    "# rename the labels for charts\n",
    "# not just binary. \n",
    "tj_labels = ['No Tommy John ', 'Had Tommy John']\n",
    "\n",
    "# Create a pie chart\n",
    "plt.figure(figsize=(8, 6))\n",
    "plt.pie(tj_history_counts, labels=tj_labels, autopct='%1.1f%%', startangle=140)\n",
    "\n",
    "# Add title\n",
    "plt.title('Tommy John Surgery Breakdown')\n",
    "\n",
    "# Display the plot\n",
    "plt.show()"
   ]
  },
  {
   "cell_type": "code",
   "execution_count": null,
   "id": "ff84863e-7814-4561-bbe7-948c426f6e4e",
   "metadata": {},
   "outputs": [],
   "source": []
  }
 ],
 "metadata": {
  "kernelspec": {
   "display_name": "Python 3 (ipykernel)",
   "language": "python",
   "name": "python3"
  },
  "language_info": {
   "codemirror_mode": {
    "name": "ipython",
    "version": 3
   },
   "file_extension": ".py",
   "mimetype": "text/x-python",
   "name": "python",
   "nbconvert_exporter": "python",
   "pygments_lexer": "ipython3",
   "version": "3.11.7"
  }
 },
 "nbformat": 4,
 "nbformat_minor": 5
}
