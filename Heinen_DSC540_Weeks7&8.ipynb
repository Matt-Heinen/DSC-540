{
 "cells": [
  {
   "cell_type": "code",
   "execution_count": null,
   "id": "7ef9aa78-9a04-4c3c-b88c-86313bc828bc",
   "metadata": {},
   "outputs": [],
   "source": [
    "# DSC 540\n",
    "# Weeks 7 & 8\n",
    "# Summer 2024\n",
    "# Weeks 7 & 8 Exercises\n",
    "# Created By Matthew Heinen\n",
    "# 7/21/24"
   ]
  },
  {
   "cell_type": "markdown",
   "id": "f433e2fc-dba7-4453-88ee-b131bf15922b",
   "metadata": {},
   "source": [
    "# 1) Activity 7.01"
   ]
  },
  {
   "cell_type": "code",
   "execution_count": 4,
   "id": "8ff03f71-6096-41fb-9861-62605b64e078",
   "metadata": {},
   "outputs": [],
   "source": [
    "# 1) Import the necessary libraries. \n",
    "\n",
    "import urllib.request, urllib.parse, urllib.error\n",
    "import requests\n",
    "from bs4 import BeautifulSoup\n",
    "import ssl\n",
    "import re"
   ]
  },
  {
   "cell_type": "code",
   "execution_count": 8,
   "id": "4cf2c768-4f3d-4d37-9371-1ff2f5572c85",
   "metadata": {},
   "outputs": [],
   "source": [
    "# 2 Read in the html from the URL \n",
    "\n",
    "# define the url store as url\n",
    "url = 'https://www.gutenberg.org/browse/scores/top'\n",
    "\n",
    "# use requests.get to call the url. \n",
    "#store in response. \n",
    "response = requests.get(url)"
   ]
  },
  {
   "cell_type": "code",
   "execution_count": 12,
   "id": "ec6f64b4-e83d-4318-9c13-dcb07309b504",
   "metadata": {},
   "outputs": [],
   "source": [
    "# 3) Write small function to check status of the web request. \n",
    "\n",
    "# Write function ststus_check \n",
    "# pass r (response) \n",
    "\n",
    "def status_check(r):\n",
    "    # Check to see if statuse code is 200 if so print sucess. \n",
    "    if r.status_code==200:\n",
    "        print(\"Success!\")\n",
    "        return 1\n",
    "    # For all other ststus codes return failed. \n",
    "    else:\n",
    "        print(\"Failed!\")\n",
    "        return -1"
   ]
  },
  {
   "cell_type": "code",
   "execution_count": 14,
   "id": "69fe5ae2-f8c6-4414-bef5-4024b365dffb",
   "metadata": {},
   "outputs": [
    {
     "name": "stdout",
     "output_type": "stream",
     "text": [
      "Success!\n"
     ]
    },
    {
     "data": {
      "text/plain": [
       "1"
      ]
     },
     "execution_count": 14,
     "metadata": {},
     "output_type": "execute_result"
    }
   ],
   "source": [
    "# Use status_check function to test response. \n",
    "status_check(response)"
   ]
  },
  {
   "cell_type": "code",
   "execution_count": 16,
   "id": "43b20349-8aa0-4966-89fa-571ed69cd883",
   "metadata": {},
   "outputs": [],
   "source": [
    "# 4) Decode the response and pass this on to beautiful soup for HTML parsing. \n",
    "\n",
    "# Use content. decode and response.encoding to decode the response\n",
    "# store this response in a new variable decoded\n",
    "decoded = response.content.decode(response.encoding)\n",
    "\n"
   ]
  },
  {
   "cell_type": "code",
   "execution_count": 28,
   "id": "d27a97af-f33d-495c-8941-7da230518316",
   "metadata": {},
   "outputs": [],
   "source": [
    "# pass decoded into beautiful soup for parsing. \n",
    "# use HTML parser\n",
    "soup = BeautifulSoup(decoded, 'html.parser')"
   ]
  },
  {
   "cell_type": "code",
   "execution_count": 30,
   "id": "fab061e7-c6ec-4985-a590-2e4918223325",
   "metadata": {},
   "outputs": [],
   "source": [
    "# 5) find all href tags and store them in a list of links. Check what the list looks like - print the first 30 elements. \n",
    "\n",
    "\n",
    "# initialize links to hold list of url's \n",
    "links=[]\n"
   ]
  },
  {
   "cell_type": "code",
   "execution_count": 40,
   "id": "e188c063-18c9-4fd7-91da-1bebfe5b7b7d",
   "metadata": {},
   "outputs": [],
   "source": [
    "\n",
    "# loop through soup and find all href links\n",
    "# Use find_all. \n",
    "for link in soup.find_all('a'):\n",
    "    # Add href links to the list of links. \n",
    "    links.append(link.get('href'))"
   ]
  },
  {
   "cell_type": "code",
   "execution_count": 42,
   "id": "a4cd3032-2fd5-402f-b5b2-2c0ac68bac87",
   "metadata": {},
   "outputs": [
    {
     "data": {
      "text/plain": [
       "['/',\n",
       " '/about/',\n",
       " '/about/',\n",
       " '/policy/collection_development.html',\n",
       " '/about/contact_information.html',\n",
       " '/about/background/',\n",
       " '/policy/permission.html',\n",
       " '/policy/privacy_policy.html',\n",
       " '/policy/terms_of_use.html',\n",
       " '/ebooks/',\n",
       " '/ebooks/',\n",
       " '/ebooks/bookshelf/',\n",
       " '/browse/scores/top',\n",
       " '/ebooks/offline_catalogs.html',\n",
       " '/help/',\n",
       " '/help/',\n",
       " '/help/copyright.html',\n",
       " '/help/errata.html',\n",
       " '/help/file_formats.html',\n",
       " '/help/faq.html',\n",
       " '/policy/',\n",
       " '/help/public_domain_ebook_submission.html',\n",
       " '/help/submitting_your_own_work.html',\n",
       " '/help/mobile.html',\n",
       " '/attic/',\n",
       " '/donate/',\n",
       " '/donate/',\n",
       " 'pretty-pictures',\n",
       " '#books-last1',\n",
       " '#authors-last1']"
      ]
     },
     "execution_count": 42,
     "metadata": {},
     "output_type": "execute_result"
    }
   ],
   "source": [
    "# Print the first 30 elements of the links list.\n",
    "links[:30]"
   ]
  },
  {
   "cell_type": "code",
   "execution_count": null,
   "id": "502b17dc-26bf-4f45-aad3-ad252dff7edb",
   "metadata": {},
   "outputs": [],
   "source": []
  },
  {
   "cell_type": "code",
   "execution_count": 54,
   "id": "c00b922c-544b-4ba8-888b-dfe500ceda11",
   "metadata": {},
   "outputs": [],
   "source": [
    "# 6) find the numeric didgets in these links. These are the file numbers of the top 100 ebooks. \n",
    "\n",
    "# initialize booknumbers list. \n",
    "booknum=[]\n",
    "\n",
    "for i in range(19,119):\n",
    "    link=links[i]\n",
    "    link=link.strip()\n",
    "    # Regular expression to find the numeric digits in the link (href) string\n",
    "    n=re.findall('[0-9]+',link)\n",
    "    if len(n)==1:\n",
    "        # Append the filenumber casted as integer\n",
    "        booknum.append(int(n[0]))\n"
   ]
  },
  {
   "cell_type": "code",
   "execution_count": 56,
   "id": "4cf7f120-0a03-4c6b-8526-505ee49f5ea7",
   "metadata": {},
   "outputs": [
    {
     "name": "stdout",
     "output_type": "stream",
     "text": [
      "\n",
      "The file numbers for the top 100 ebooks on Gutenberg are shown below\n",
      "----------------------------------------------------------------------\n",
      "[1, 1, 7, 7, 30, 30, 1513, 2701, 2641, 145, 37106, 100, 1342, 16389, 67979, 6761, 394, 2160, 6593, 1259, 4085, 5197, 84, 33283, 11, 74181, 5200, 345, 2554, 28054, 74184, 49010, 2000, 174, 2600, 74183, 4300, 219, 98, 64317, 1661, 2542, 1998, 6130, 52200, 30254, 27827, 1232, 76, 16119, 45, 844, 74182, 514, 2591, 1184, 50150, 2650, 5740, 1952, 67098, 4363, 1400, 1727, 768, 42157, 43, 74188, 996, 135, 2680, 36034, 244, 120, 132, 8800, 1260, 8492, 74, 398, 31284, 74187, 23700, 1080, 74179, 10, 17489, 205, 31552, 600, 58585]\n"
     ]
    }
   ],
   "source": [
    "print (\"\\nThe file numbers for the top 100 ebooks on Gutenberg are shown below\\n\"+\"-\"*70)\n",
    "print(booknum)\n"
   ]
  },
  {
   "cell_type": "markdown",
   "id": "c9d936f4-4cb8-41bb-8ebd-f2d096b4cc77",
   "metadata": {},
   "source": [
    "# 2) Activity 7.02"
   ]
  },
  {
   "cell_type": "markdown",
   "id": "6e0be914-46a9-4906-808e-2d6b06831752",
   "metadata": {},
   "source": [
    "# 3) Connect to an API of your choice and do a simple data pull - you can use any API - except the API you have selected for your project.\n"
   ]
  },
  {
   "cell_type": "code",
   "execution_count": null,
   "id": "9f056c4d-1996-49b8-beb9-a0ab1d051cf5",
   "metadata": {},
   "outputs": [],
   "source": []
  }
 ],
 "metadata": {
  "kernelspec": {
   "display_name": "Python 3 (ipykernel)",
   "language": "python",
   "name": "python3"
  },
  "language_info": {
   "codemirror_mode": {
    "name": "ipython",
    "version": 3
   },
   "file_extension": ".py",
   "mimetype": "text/x-python",
   "name": "python",
   "nbconvert_exporter": "python",
   "pygments_lexer": "ipython3",
   "version": "3.11.7"
  }
 },
 "nbformat": 4,
 "nbformat_minor": 5
}
